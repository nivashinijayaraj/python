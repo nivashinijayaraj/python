{
 "cells": [
  {
   "cell_type": "markdown",
   "id": "ff6db04e",
   "metadata": {},
   "source": [
    "Data analysis and story telling\n"
   ]
  },
  {
   "cell_type": "markdown",
   "id": "db886cce",
   "metadata": {},
   "source": [
    "# numpy\n",
    "date: 24/11/2023\n",
    "Creating array using numpy - three methods\n",
    "using empty\n",
    "      zeros or ones\n",
    "      array"
   ]
  },
  {
   "cell_type": "code",
   "execution_count": 1,
   "id": "12f5cd3c",
   "metadata": {},
   "outputs": [
    {
     "name": "stdout",
     "output_type": "stream",
     "text": [
      "[[[1374602864        478]\n",
      "  [1352848752        478]\n",
      "  [1357838064        478]]\n",
      "\n",
      " [[1357838000        478]\n",
      "  [1357838128        478]\n",
      "  [1419026416        478]]]\n"
     ]
    }
   ],
   "source": [
    "import numpy as np\n",
    "a= np.empty((2,3,2),dtype=int)   # creating array using numpy\n",
    "print(a)"
   ]
  },
  {
   "cell_type": "code",
   "execution_count": 2,
   "id": "b16fdc2b",
   "metadata": {},
   "outputs": [
    {
     "name": "stdout",
     "output_type": "stream",
     "text": [
      "[[0. 0. 0. 0. 0. 0.]\n",
      " [0. 0. 0. 0. 0. 0.]\n",
      " [0. 0. 0. 0. 0. 0.]]\n"
     ]
    }
   ],
   "source": [
    "b=np.zeros((3,6))    # ones for one in zero place here\n",
    "b\n",
    "print(b)"
   ]
  },
  {
   "cell_type": "code",
   "execution_count": 3,
   "id": "7cf54007",
   "metadata": {},
   "outputs": [
    {
     "data": {
      "text/plain": [
       "array([[0., 0., 0., 0., 0., 0.],\n",
       "       [0., 0., 0., 0., 0., 0.],\n",
       "       [0., 0., 0., 0., 0., 0.]])"
      ]
     },
     "execution_count": 3,
     "metadata": {},
     "output_type": "execute_result"
    }
   ],
   "source": [
    "b=np.zeros((3,6))\n",
    "b"
   ]
  },
  {
   "cell_type": "code",
   "execution_count": 4,
   "id": "6a99af19",
   "metadata": {},
   "outputs": [
    {
     "name": "stdout",
     "output_type": "stream",
     "text": [
      "[[1. 1. 1. 1. 1. 1.]\n",
      " [1. 1. 1. 1. 1. 1.]\n",
      " [1. 1. 1. 1. 1. 1.]]\n"
     ]
    }
   ],
   "source": [
    "b=np.ones((3,6))    # ones for one in zero place here\n",
    "b\n",
    "print(b)"
   ]
  },
  {
   "cell_type": "code",
   "execution_count": 5,
   "id": "ac20409c",
   "metadata": {},
   "outputs": [
    {
     "data": {
      "text/plain": [
       "array([[2, 3, 4, 5],\n",
       "       [7, 9, 5, 6]])"
      ]
     },
     "execution_count": 5,
     "metadata": {},
     "output_type": "execute_result"
    }
   ],
   "source": [
    "\n",
    "data= [[2,3,4,5],[7,9,5,6]]\n",
    "c=np.array(data)\n",
    "c"
   ]
  },
  {
   "cell_type": "code",
   "execution_count": 6,
   "id": "647c5436",
   "metadata": {},
   "outputs": [
    {
     "name": "stdout",
     "output_type": "stream",
     "text": [
      "[[2 3 4 5]\n",
      " [7 9 5 6]]\n"
     ]
    }
   ],
   "source": [
    "print(c)"
   ]
  },
  {
   "cell_type": "code",
   "execution_count": 7,
   "id": "d114c0e2",
   "metadata": {},
   "outputs": [
    {
     "data": {
      "text/plain": [
       "array([[5, 5, 5],\n",
       "       [5, 5, 5]])"
      ]
     },
     "execution_count": 7,
     "metadata": {},
     "output_type": "execute_result"
    }
   ],
   "source": [
    "import numpy as np\n",
    "X = np.full((2,3), 5)\n",
    "X"
   ]
  },
  {
   "cell_type": "code",
   "execution_count": 8,
   "id": "609b9179",
   "metadata": {},
   "outputs": [
    {
     "data": {
      "text/plain": [
       "array([[1., 0., 0., 0., 0.],\n",
       "       [0., 1., 0., 0., 0.],\n",
       "       [0., 0., 1., 0., 0.],\n",
       "       [0., 0., 0., 1., 0.],\n",
       "       [0., 0., 0., 0., 1.]])"
      ]
     },
     "execution_count": 8,
     "metadata": {},
     "output_type": "execute_result"
    }
   ],
   "source": [
    "X = np.eye(5)\n",
    "X"
   ]
  },
  {
   "cell_type": "code",
   "execution_count": 9,
   "id": "723aa7ab",
   "metadata": {},
   "outputs": [
    {
     "data": {
      "text/plain": [
       "(4,)"
      ]
     },
     "execution_count": 9,
     "metadata": {},
     "output_type": "execute_result"
    }
   ],
   "source": [
    "import numpy\n",
    "arr1=numpy.array([1,2,3,4])\n",
    "arr1.shape"
   ]
  },
  {
   "cell_type": "code",
   "execution_count": 10,
   "id": "ca89795a",
   "metadata": {},
   "outputs": [
    {
     "data": {
      "text/plain": [
       "array([False, False,  True,  True])"
      ]
     },
     "execution_count": 10,
     "metadata": {},
     "output_type": "execute_result"
    }
   ],
   "source": [
    "#logical operator \n",
    "arr2=arr1>2\n",
    "arr2"
   ]
  },
  {
   "cell_type": "code",
   "execution_count": 11,
   "id": "36e901f5",
   "metadata": {},
   "outputs": [
    {
     "data": {
      "text/plain": [
       "array([[ 1,  4,  9],\n",
       "       [16, 25, 36]])"
      ]
     },
     "execution_count": 11,
     "metadata": {},
     "output_type": "execute_result"
    }
   ],
   "source": [
    "#grouping operator \n",
    "import numpy\n",
    "b=[1,2,3],[4,5,6]\n",
    "val=numpy.array(b)\n",
    "val1=val*val\n",
    "val1"
   ]
  },
  {
   "cell_type": "code",
   "execution_count": 12,
   "id": "6da3c086",
   "metadata": {},
   "outputs": [
    {
     "data": {
      "text/plain": [
       "dtype('int32')"
      ]
     },
     "execution_count": 12,
     "metadata": {},
     "output_type": "execute_result"
    }
   ],
   "source": [
    "arr1.dtype"
   ]
  },
  {
   "cell_type": "markdown",
   "id": "f7239adb",
   "metadata": {},
   "source": [
    "# Universal function\n",
    "     1]unary ufunc\n",
    "     2]binary ufunc"
   ]
  },
  {
   "cell_type": "code",
   "execution_count": 7,
   "id": "1bc04154",
   "metadata": {},
   "outputs": [
    {
     "name": "stdout",
     "output_type": "stream",
     "text": [
      "x: [ 0.23660038  1.57845442  1.04110171  1.52595416 -1.0964217   0.63672949\n",
      " -0.00495455]\n",
      "abs: [1 2 3 4]\n",
      "fabs: [1. 2. 3. 4.]\n",
      "sqrt: [1.         1.41421356 1.73205081 2.        ]\n",
      "ceil: [1. 2. 3. 4.]\n",
      "log: [0.         0.69314718 1.09861229 1.38629436]\n",
      "inf: [False False False False]\n",
      "log1p [0.69314718 1.09861229 1.38629436 1.60943791]\n",
      "cos: [ 0.54030231 -0.41614684 -0.9899925  -0.65364362] arcsin: [1.57079633        nan        nan        nan] logical_not: [False]\n"
     ]
    },
    {
     "name": "stderr",
     "output_type": "stream",
     "text": [
      "C:\\Users\\SARAVANAN\\AppData\\Local\\Temp\\ipykernel_23140\\2649400259.py:31: RuntimeWarning: invalid value encountered in arcsin\n",
      "  g=np.arcsin(y)\n"
     ]
    }
   ],
   "source": [
    "#1}unary ufunc\n",
    "\n",
    "\n",
    "\n",
    "import numpy as np\n",
    "\n",
    "x=np.random.randn(7)\n",
    "print(\"x:\",x)\n",
    "\n",
    "y=[1,2,3,4]\n",
    "a=np.abs(y)\n",
    "print(\"abs:\",a)\n",
    "\n",
    "b=np.fabs(y)\n",
    "c=np.sqrt(y)\n",
    "print(\"fabs:\",b)\n",
    "print(\"sqrt:\",c)\n",
    "\n",
    "\n",
    "q = np.ceil(y)\n",
    "\n",
    "print(\"ceil:\",q)\n",
    "\n",
    "e=np.log(y)    # or np.log(1)\n",
    "print(\"log:\",e)\n",
    "k=np.isinf(y)\n",
    "print(\"inf:\",k)\n",
    "f=np.log1p(y)\n",
    "print(\"log1p\",f)\n",
    "h=np.cos(y)\n",
    "g=np.arcsin(y)\n",
    "i=np.logical_not([9])\n",
    "print(\"cos:\",h,\"arcsin:\",g,\"logical_not:\",i)\n"
   ]
  },
  {
   "cell_type": "code",
   "execution_count": 16,
   "id": "1ec63ed3",
   "metadata": {},
   "outputs": [
    {
     "name": "stdout",
     "output_type": "stream",
     "text": [
      "array:\n",
      "[[-2, 3], [2, 3]]\n",
      "[[1. 0.]\n",
      " [0. 1.]]\n",
      "add [[-1.  3.]\n",
      " [ 2.  4.]]\n",
      "max: [[1. 3.]\n",
      " [2. 3.]]\n",
      "copysign: [[2. 3.]\n",
      " [2. 3.]]\n",
      "logical_and: [[ True False]\n",
      " [False  True]]\n",
      "logical_and: [[ True  True]\n",
      " [ True  True]]\n",
      "[8 8]\n",
      "[ 2 32]\n",
      "[0 1 2 3 4 5 6 7 8 9]\n",
      "[5 6 7 8 9]\n",
      "[10  9  8  7  6  5  4  3  2]\n"
     ]
    }
   ],
   "source": [
    "#binary universalfuction\n",
    "import numpy as np\n",
    "\n",
    "x=[[-2,3],\n",
    "   [2,3]]      # array size is important  just like matrix\n",
    "y=np.eye(2)\n",
    "print(\"array:\")\n",
    "print(x)\n",
    "print(y)\n",
    "\n",
    "a=np.add(x,y)\n",
    "print(\"add\",a)\n",
    "b=np.maximum(x,y)\n",
    "print(\"max:\",b)\n",
    "\n",
    "\n",
    "c=np.copysign(x,y)   #  takes second argument sign to first argument sign \n",
    "print(\"copysign:\",c)\n",
    "\n",
    "\n",
    "d=np.logical_and(x,y)\n",
    "print(\"logical_and:\",d)\n",
    "\n",
    "e=np.logical_and(a,b)      # see difference\n",
    "print(\"logical_and:\",e)\n",
    " \n",
    "    \n",
    "    # for use two dimensional use two square bracket otherwise  it will shows error\n",
    "    \n",
    "arr=np.array([[1,2],[8,4]])           \n",
    "pro_array=np.prod(arr,axis=0)\n",
    "pro_array1=np.prod(arr,axis=1)   # axis=0          [[a,b],[c,d]] = [ac  bd]    it doing process in horizondal format,\n",
    "                               #axis=1 for vertical format[ab  cd]\n",
    "print(pro_array)\n",
    "print(pro_array1)\n",
    "\n",
    "\n",
    "# arange\n",
    "arr1=np.arange(10)\n",
    "arr2=np.arange(5,10)\n",
    "arr3=np.arange(10,1,-1)\n",
    "print(arr1)                                   # (starts,ends,no.of element)\n",
    "print(arr2)\n",
    "print(arr3)\n",
    "\n",
    "\n"
   ]
  },
  {
   "cell_type": "markdown",
   "id": "cde27ebc",
   "metadata": {},
   "source": [
    "# File input and output with array"
   ]
  },
  {
   "cell_type": "markdown",
   "id": "6a18c76b",
   "metadata": {},
   "source": [
    "Using numpy\n",
    "-------------------\n",
    "**File Input  : \n",
    "\n",
    "           It allows you to read data from text files using function like \n",
    "           \n",
    "           numpy.loadtxt()\n",
    "           \n",
    "    or    numpy.genfromtxt()\n",
    "    \n",
    "**File Output: \n",
    "               \n",
    "           you can save Numpy arrays to a file using fuctions like \n",
    "           \n",
    "           numpy.savetxt()\n",
    "           \n",
    "using pandas\n",
    "-------------------\n",
    "**File Input:\n",
    "            \n",
    "            pandas provides function like\n",
    "           \n",
    "           \n",
    "               pandas.read_csv \n",
    "           \n",
    "            or pandas.read_excel()       to read data from CSV or EXcel files.\n",
    "            \n",
    "            \n",
    "**File Output:\n",
    "\n",
    "           you can write dataframes to files using methods like \n",
    "           \n",
    "              to_csv()  \n",
    "           or to_excel()\n"
   ]
  },
  {
   "cell_type": "markdown",
   "id": "c8ae1085",
   "metadata": {},
   "source": [
    "In numpy\n",
    "-------------"
   ]
  },
  {
   "cell_type": "code",
   "execution_count": 10,
   "id": "3a058879",
   "metadata": {},
   "outputs": [
    {
     "data": {
      "text/plain": [
       "array([1., 2., 3., 4.])"
      ]
     },
     "execution_count": 10,
     "metadata": {},
     "output_type": "execute_result"
    }
   ],
   "source": [
    "y=[1,2,3,4]\n",
    "q=np.ceil(y)\n",
    "np.save(\"my_file\",q)\n",
    "np.load(\"my_file.npy\")"
   ]
  },
  {
   "cell_type": "code",
   "execution_count": 11,
   "id": "16b8fdb1",
   "metadata": {},
   "outputs": [
    {
     "data": {
      "text/plain": [
       "array([1., 2., 3., 4.])"
      ]
     },
     "execution_count": 11,
     "metadata": {},
     "output_type": "execute_result"
    }
   ],
   "source": [
    "y=[1,2,3,4]\n",
    "q=np.ceil(y)\n",
    "np.savez(\"my_file\",q)     #savez(\"my_file\",q)\n",
    "np.load(\"my_file.npy\")"
   ]
  },
  {
   "cell_type": "code",
   "execution_count": 13,
   "id": "2c5e4a6e",
   "metadata": {},
   "outputs": [
    {
     "data": {
      "text/plain": [
       "array([1., 2., 3., 4.])"
      ]
     },
     "execution_count": 13,
     "metadata": {},
     "output_type": "execute_result"
    }
   ],
   "source": [
    "y=[1,2,3,4]\n",
    "q=np.ceil(y)\n",
    "np.savetxt(\"my_file_me.txt\",q)\n",
    "np.loadtxt(\"my_file_me.txt\")"
   ]
  },
  {
   "cell_type": "markdown",
   "id": "d347f3bb",
   "metadata": {},
   "source": [
    "in \"my_file_me.txt\"\n",
    "\n",
    "\n",
    "1.000000000000000000e+00\n",
    "2.000000000000000000e+00\n",
    "3.000000000000000000e+00\n",
    "4.000000000000000000e+00\n"
   ]
  },
  {
   "cell_type": "markdown",
   "id": "caa0246b",
   "metadata": {},
   "source": [
    "  In pandas \n",
    "  ---------------\n",
    "           WE can get directly from csv\n",
    "            or\n",
    "           write data in csv file  like creating csv file\n",
    "        "
   ]
  },
  {
   "cell_type": "code",
   "execution_count": 8,
   "id": "cfe5a77e",
   "metadata": {},
   "outputs": [
    {
     "name": "stdout",
     "output_type": "stream",
     "text": [
      "     number first_name last_name gender  birth_date employment_status  \\\n",
      "0       483     Lenord      Kihn      M  1994-07-01               NaN   \n",
      "1       478      Palma    Beahan      F  1972-05-06                PE   \n",
      "2       348     Hebert    Muller      M  1990-09-04                PE   \n",
      "3       757   Virginia   Ullrich      M  1991-09-23                PE   \n",
      "4       937       Roby    Hudson      M  1997-01-15               NaN   \n",
      "..      ...        ...       ...    ...         ...               ...   \n",
      "995     712       Dann    Crooks    NaN  1983-12-25                CA   \n",
      "996     132      Maxim       Orn      M  1971-03-01                CA   \n",
      "997     126   Kimberli    Walter      M  1976-03-07                CA   \n",
      "998     277    Talmage   Bartell      F  1989-02-19                PE   \n",
      "999     960     Laurie    Nienow      M  1993-04-01                PE   \n",
      "\n",
      "     annual_salary  tax_file_no  \n",
      "0          64598.0          NaN  \n",
      "1         124103.0          NaN  \n",
      "2         100324.0          NaN  \n",
      "3         144957.0          NaN  \n",
      "4         137659.0          NaN  \n",
      "..             ...          ...  \n",
      "995        66592.0          NaN  \n",
      "996       127966.0          NaN  \n",
      "997        60712.0          NaN  \n",
      "998       103606.0          NaN  \n",
      "999       127405.0          NaN  \n",
      "\n",
      "[1000 rows x 8 columns]\n"
     ]
    }
   ],
   "source": [
    "import pandas as pd\n",
    "data=pd.read_csv('employee_data.csv')\n",
    "print(data)"
   ]
  },
  {
   "cell_type": "code",
   "execution_count": 6,
   "id": "2810c64e",
   "metadata": {},
   "outputs": [
    {
     "name": "stdout",
     "output_type": "stream",
     "text": [
      "None\n",
      "   a  b\n",
      "0  1  g\n",
      "1  2  c\n",
      "2  3  g\n"
     ]
    }
   ],
   "source": [
    "import pandas as pd\n",
    "\n",
    "data=pd.DataFrame({'a':[1,2,3],'b':['g','c','g']})\n",
    "datas=data.to_csv('output_file.csv',index=False)\n",
    "print(datas)               \n",
    "print(data)"
   ]
  },
  {
   "cell_type": "markdown",
   "id": "27044938",
   "metadata": {},
   "source": [
    "# pandas\n",
    "\n"
   ]
  },
  {
   "cell_type": "code",
   "execution_count": 23,
   "id": "ed413658",
   "metadata": {},
   "outputs": [
    {
     "name": "stdout",
     "output_type": "stream",
     "text": [
      "data:    person age\n",
      "0    niva  19\n",
      "1    nivi  20\n",
      "2  harsha  21\n",
      "head:    person age\n",
      "0    niva  19\n",
      "1    nivi  20\n",
      "2  harsha  21\n",
      "tail:    person age\n",
      "0    niva  19\n",
      "1    nivi  20\n",
      "2  harsha  21\n",
      "head1:    person age\n",
      "0    niva  19\n",
      "1    nivi  20\n",
      "2  harsha  21\n",
      "tail2:    person age\n",
      "0    niva  19\n",
      "1    nivi  20\n",
      "2  harsha  21\n"
     ]
    }
   ],
   "source": [
    "import pandas as pd\n",
    "my_data={'person':['niva','nivi','harsha'],'age':['19','20','21']}\n",
    "val=pd.DataFrame(my_data) \n",
    "print(\"data:\",val)                        # only capital use for DataFrame not use dataframe, Datafram   cause error\n",
    "\n",
    "\n",
    "\n",
    "a=val.head()\n",
    "print(\"head:\",a)\n",
    "b=val.tail()\n",
    "print(\"tail:\",b)\n",
    "c=val.head()\n",
    "print(\"head1:\",c)\n",
    "d=val.tail()\n",
    "print(\"tail2:\",d)\n",
    "\n",
    "\n",
    "\n",
    "\n"
   ]
  },
  {
   "cell_type": "code",
   "execution_count": 27,
   "id": "2be0d797",
   "metadata": {},
   "outputs": [
    {
     "data": {
      "text/plain": [
       "0    1\n",
       "1    3\n",
       "2    4\n",
       "3    5\n",
       "dtype: int64"
      ]
     },
     "execution_count": 27,
     "metadata": {},
     "output_type": "execute_result"
    }
   ],
   "source": [
    "why=[1,3,4,5]\n",
    "\n",
    "myvalue=pd.Series(why)\n",
    "myvalue"
   ]
  },
  {
   "cell_type": "code",
   "execution_count": 31,
   "id": "cf126c72",
   "metadata": {},
   "outputs": [
    {
     "name": "stdout",
     "output_type": "stream",
     "text": [
      "a    1\n",
      "b    3\n",
      "c    4\n",
      "d    5\n",
      "dtype: int64\n"
     ]
    }
   ],
   "source": [
    "my_value1=pd.Series(why,index=['a','b','c','d'])\n",
    "print(my_value1)"
   ]
  },
  {
   "cell_type": "code",
   "execution_count": 34,
   "id": "8e43b3b9",
   "metadata": {},
   "outputs": [
    {
     "data": {
      "text/plain": [
       "4"
      ]
     },
     "execution_count": 34,
     "metadata": {},
     "output_type": "execute_result"
    }
   ],
   "source": [
    "my_value1[\"c\"]"
   ]
  },
  {
   "cell_type": "markdown",
   "id": "445072e6",
   "metadata": {},
   "source": [
    "# ii)DataFrame  "
   ]
  },
  {
   "cell_type": "markdown",
   "id": "378cdbae",
   "metadata": {},
   "source": [
    "     DataFrame is a two dimensional labeled structure.Data  is aligned in a tabular format in rows and columns.\n",
    "    It is faster and easy to use and more powerful than tables or spreadsheets.\n",
    "    DataFrame is just similar to tablular look but table and dataframe are different data structure.\n",
    "    We can say DataFrame is composed of multiple series.\n"
   ]
  },
  {
   "cell_type": "code",
   "execution_count": 4,
   "id": "a2cb2fc5",
   "metadata": {},
   "outputs": [
    {
     "data": {
      "text/html": [
       "<div>\n",
       "<style scoped>\n",
       "    .dataframe tbody tr th:only-of-type {\n",
       "        vertical-align: middle;\n",
       "    }\n",
       "\n",
       "    .dataframe tbody tr th {\n",
       "        vertical-align: top;\n",
       "    }\n",
       "\n",
       "    .dataframe thead th {\n",
       "        text-align: right;\n",
       "    }\n",
       "</style>\n",
       "<table border=\"1\" class=\"dataframe\">\n",
       "  <thead>\n",
       "    <tr style=\"text-align: right;\">\n",
       "      <th></th>\n",
       "      <th>calories</th>\n",
       "      <th>duration</th>\n",
       "    </tr>\n",
       "  </thead>\n",
       "  <tbody>\n",
       "    <tr>\n",
       "      <th>0</th>\n",
       "      <td>222</td>\n",
       "      <td>2</td>\n",
       "    </tr>\n",
       "    <tr>\n",
       "      <th>1</th>\n",
       "      <td>22</td>\n",
       "      <td>5</td>\n",
       "    </tr>\n",
       "    <tr>\n",
       "      <th>2</th>\n",
       "      <td>354</td>\n",
       "      <td>6</td>\n",
       "    </tr>\n",
       "  </tbody>\n",
       "</table>\n",
       "</div>"
      ],
      "text/plain": [
       "   calories  duration\n",
       "0       222         2\n",
       "1        22         5\n",
       "2       354         6"
      ]
     },
     "execution_count": 4,
     "metadata": {},
     "output_type": "execute_result"
    }
   ],
   "source": [
    "data={'calories':[222,22,354],'duration':[2,5,6]}\n",
    "df=pd.DataFrame(data)\n",
    "df"
   ]
  },
  {
   "cell_type": "code",
   "execution_count": 1,
   "id": "5cda2a11",
   "metadata": {
    "scrolled": true
   },
   "outputs": [
    {
     "data": {
      "text/html": [
       "<div>\n",
       "<style scoped>\n",
       "    .dataframe tbody tr th:only-of-type {\n",
       "        vertical-align: middle;\n",
       "    }\n",
       "\n",
       "    .dataframe tbody tr th {\n",
       "        vertical-align: top;\n",
       "    }\n",
       "\n",
       "    .dataframe thead th {\n",
       "        text-align: right;\n",
       "    }\n",
       "</style>\n",
       "<table border=\"1\" class=\"dataframe\">\n",
       "  <thead>\n",
       "    <tr style=\"text-align: right;\">\n",
       "      <th></th>\n",
       "      <th>person</th>\n",
       "      <th>age</th>\n",
       "    </tr>\n",
       "  </thead>\n",
       "  <tbody>\n",
       "    <tr>\n",
       "      <th>0</th>\n",
       "      <td>aami</td>\n",
       "      <td>19</td>\n",
       "    </tr>\n",
       "    <tr>\n",
       "      <th>1</th>\n",
       "      <td>niva</td>\n",
       "      <td>20</td>\n",
       "    </tr>\n",
       "  </tbody>\n",
       "</table>\n",
       "</div>"
      ],
      "text/plain": [
       "  person  age\n",
       "0   aami   19\n",
       "1   niva   20"
      ]
     },
     "execution_count": 1,
     "metadata": {},
     "output_type": "execute_result"
    }
   ],
   "source": [
    "import pandas as pd\n",
    "data={'person':['aami','niva'],'age':[19,20]}\n",
    "frame=pd.DataFrame(data)\n",
    "frame"
   ]
  },
  {
   "cell_type": "code",
   "execution_count": 3,
   "id": "6535c6dd",
   "metadata": {},
   "outputs": [
    {
     "data": {
      "text/html": [
       "<div>\n",
       "<style scoped>\n",
       "    .dataframe tbody tr th:only-of-type {\n",
       "        vertical-align: middle;\n",
       "    }\n",
       "\n",
       "    .dataframe tbody tr th {\n",
       "        vertical-align: top;\n",
       "    }\n",
       "\n",
       "    .dataframe thead th {\n",
       "        text-align: right;\n",
       "    }\n",
       "</style>\n",
       "<table border=\"1\" class=\"dataframe\">\n",
       "  <thead>\n",
       "    <tr style=\"text-align: right;\">\n",
       "      <th></th>\n",
       "      <th>a</th>\n",
       "      <th>c</th>\n",
       "      <th>e</th>\n",
       "      <th>1</th>\n",
       "    </tr>\n",
       "  </thead>\n",
       "  <tbody>\n",
       "    <tr>\n",
       "      <th>7</th>\n",
       "      <td>0</td>\n",
       "      <td>1</td>\n",
       "      <td>2</td>\n",
       "      <td>3</td>\n",
       "    </tr>\n",
       "    <tr>\n",
       "      <th>4</th>\n",
       "      <td>4</td>\n",
       "      <td>5</td>\n",
       "      <td>6</td>\n",
       "      <td>7</td>\n",
       "    </tr>\n",
       "  </tbody>\n",
       "</table>\n",
       "</div>"
      ],
      "text/plain": [
       "    a  c  e  1\n",
       "7   0  1  2  3\n",
       "4   4  5  6  7"
      ]
     },
     "execution_count": 3,
     "metadata": {},
     "output_type": "execute_result"
    }
   ],
   "source": [
    "import numpy as np\n",
    "my_frame=pd.DataFrame(np.arange(8).reshape(2,4),\n",
    "                     index=['7 ','4']\n",
    "                     ,columns=['a','c','e','1'])\n",
    "my_frame\n"
   ]
  },
  {
   "cell_type": "markdown",
   "id": "c76cd882",
   "metadata": {},
   "source": [
    "returning values by its location . 1st for this process , you have to make it as index   or use normal DataFrame(data,index=['one','two']"
   ]
  },
  {
   "cell_type": "code",
   "execution_count": 10,
   "id": "2a7109d3",
   "metadata": {},
   "outputs": [
    {
     "data": {
      "text/plain": [
       "age      19\n",
       "class     a\n",
       "Name: aami, dtype: object"
      ]
     },
     "execution_count": 10,
     "metadata": {},
     "output_type": "execute_result"
    }
   ],
   "source": [
    "import pandas as pd\n",
    "data={'person':['aami','niva'],'age':[19,20],'class':['a','a']}\n",
    "frame=pd.DataFrame(data)\n",
    "\n",
    "frame.set_index('person',inplace=True)\n",
    "particular_row=frame.loc['aami']\n",
    "particular_row"
   ]
  },
  {
   "cell_type": "code",
   "execution_count": 19,
   "id": "15f12644",
   "metadata": {},
   "outputs": [
    {
     "data": {
      "text/html": [
       "<div>\n",
       "<style scoped>\n",
       "    .dataframe tbody tr th:only-of-type {\n",
       "        vertical-align: middle;\n",
       "    }\n",
       "\n",
       "    .dataframe tbody tr th {\n",
       "        vertical-align: top;\n",
       "    }\n",
       "\n",
       "    .dataframe thead th {\n",
       "        text-align: right;\n",
       "    }\n",
       "</style>\n",
       "<table border=\"1\" class=\"dataframe\">\n",
       "  <thead>\n",
       "    <tr style=\"text-align: right;\">\n",
       "      <th></th>\n",
       "      <th>person</th>\n",
       "      <th>age</th>\n",
       "      <th>class</th>\n",
       "    </tr>\n",
       "  </thead>\n",
       "  <tbody>\n",
       "    <tr>\n",
       "      <th>one</th>\n",
       "      <td>a</td>\n",
       "      <td>19</td>\n",
       "      <td>a</td>\n",
       "    </tr>\n",
       "    <tr>\n",
       "      <th>two</th>\n",
       "      <td>n</td>\n",
       "      <td>20</td>\n",
       "      <td>b</td>\n",
       "    </tr>\n",
       "  </tbody>\n",
       "</table>\n",
       "</div>"
      ],
      "text/plain": [
       "    person  age class\n",
       "one      a   19     a\n",
       "two      n   20     b"
      ]
     },
     "execution_count": 19,
     "metadata": {},
     "output_type": "execute_result"
    }
   ],
   "source": [
    "import pandas as pd\n",
    "data={'person':['a','n'],'age':[19,20],'class':['a','b']}\n",
    "frame=pd.DataFrame(data)  # compare this this both  are little bit same\n",
    "\n",
    "frame=pd.DataFrame(data,index=['one','two'])\n",
    "frame"
   ]
  },
  {
   "cell_type": "markdown",
   "id": "eab55ae4",
   "metadata": {},
   "source": [
    "using numpy in pandas"
   ]
  },
  {
   "cell_type": "code",
   "execution_count": 16,
   "id": "9f6dc2e4",
   "metadata": {},
   "outputs": [
    {
     "data": {
      "text/html": [
       "<div>\n",
       "<style scoped>\n",
       "    .dataframe tbody tr th:only-of-type {\n",
       "        vertical-align: middle;\n",
       "    }\n",
       "\n",
       "    .dataframe tbody tr th {\n",
       "        vertical-align: top;\n",
       "    }\n",
       "\n",
       "    .dataframe thead th {\n",
       "        text-align: right;\n",
       "    }\n",
       "</style>\n",
       "<table border=\"1\" class=\"dataframe\">\n",
       "  <thead>\n",
       "    <tr style=\"text-align: right;\">\n",
       "      <th></th>\n",
       "      <th>person</th>\n",
       "      <th>age</th>\n",
       "      <th>class</th>\n",
       "    </tr>\n",
       "  </thead>\n",
       "  <tbody>\n",
       "    <tr>\n",
       "      <th>0</th>\n",
       "      <td>aami</td>\n",
       "      <td>19</td>\n",
       "      <td>0</td>\n",
       "    </tr>\n",
       "    <tr>\n",
       "      <th>1</th>\n",
       "      <td>niva</td>\n",
       "      <td>20</td>\n",
       "      <td>1</td>\n",
       "    </tr>\n",
       "  </tbody>\n",
       "</table>\n",
       "</div>"
      ],
      "text/plain": [
       "  person  age  class\n",
       "0   aami   19      0\n",
       "1   niva   20      1"
      ]
     },
     "execution_count": 16,
     "metadata": {},
     "output_type": "execute_result"
    }
   ],
   "source": [
    "import pandas as pd\n",
    "import numpy as np\n",
    "data={'person':['aami','niva'],'age':[19,20],'class':['a','a']}\n",
    "frame=pd.DataFrame(data)\n",
    "frame['class']=np.arange(2)\n",
    "frame\n"
   ]
  },
  {
   "cell_type": "code",
   "execution_count": 23,
   "id": "4960e17f",
   "metadata": {
    "scrolled": false
   },
   "outputs": [
    {
     "data": {
      "text/html": [
       "<div>\n",
       "<style scoped>\n",
       "    .dataframe tbody tr th:only-of-type {\n",
       "        vertical-align: middle;\n",
       "    }\n",
       "\n",
       "    .dataframe tbody tr th {\n",
       "        vertical-align: top;\n",
       "    }\n",
       "\n",
       "    .dataframe thead th {\n",
       "        text-align: right;\n",
       "    }\n",
       "</style>\n",
       "<table border=\"1\" class=\"dataframe\">\n",
       "  <thead>\n",
       "    <tr style=\"text-align: right;\">\n",
       "      <th></th>\n",
       "      <th>person</th>\n",
       "      <th>age</th>\n",
       "      <th>class</th>\n",
       "      <th>old</th>\n",
       "    </tr>\n",
       "  </thead>\n",
       "  <tbody>\n",
       "    <tr>\n",
       "      <th>one</th>\n",
       "      <td>a</td>\n",
       "      <td>19</td>\n",
       "      <td>a</td>\n",
       "      <td>False</td>\n",
       "    </tr>\n",
       "    <tr>\n",
       "      <th>two</th>\n",
       "      <td>n</td>\n",
       "      <td>20</td>\n",
       "      <td>b</td>\n",
       "      <td>False</td>\n",
       "    </tr>\n",
       "  </tbody>\n",
       "</table>\n",
       "</div>"
      ],
      "text/plain": [
       "    person  age class    old\n",
       "one      a   19     a  False\n",
       "two      n   20     b  False"
      ]
     },
     "execution_count": 23,
     "metadata": {},
     "output_type": "execute_result"
    }
   ],
   "source": [
    "frame['old']=frame.person=='aami'\n",
    "frame                                          # answer is wrong"
   ]
  },
  {
   "cell_type": "raw",
   "id": "67837db2",
   "metadata": {},
   "source": [
    "Getting data by using loction based on index , here we donOt need to put index . "
   ]
  },
  {
   "cell_type": "code",
   "execution_count": 5,
   "id": "ab1bc7cb",
   "metadata": {},
   "outputs": [
    {
     "data": {
      "text/plain": [
       "calories    222\n",
       "duration      2\n",
       "Name: 0, dtype: int64"
      ]
     },
     "execution_count": 5,
     "metadata": {},
     "output_type": "execute_result"
    }
   ],
   "source": [
    "data={'calories':[222,22,354],'duration':[2,5,6]}\n",
    "df=pd.DataFrame(data)\n",
    "df.loc[0]\n"
   ]
  },
  {
   "cell_type": "markdown",
   "id": "c30d3d43",
   "metadata": {},
   "source": [
    "deleting particular column only "
   ]
  },
  {
   "cell_type": "code",
   "execution_count": 24,
   "id": "756fb8c8",
   "metadata": {},
   "outputs": [
    {
     "data": {
      "text/html": [
       "<div>\n",
       "<style scoped>\n",
       "    .dataframe tbody tr th:only-of-type {\n",
       "        vertical-align: middle;\n",
       "    }\n",
       "\n",
       "    .dataframe tbody tr th {\n",
       "        vertical-align: top;\n",
       "    }\n",
       "\n",
       "    .dataframe thead th {\n",
       "        text-align: right;\n",
       "    }\n",
       "</style>\n",
       "<table border=\"1\" class=\"dataframe\">\n",
       "  <thead>\n",
       "    <tr style=\"text-align: right;\">\n",
       "      <th></th>\n",
       "      <th>person</th>\n",
       "      <th>age</th>\n",
       "      <th>class</th>\n",
       "    </tr>\n",
       "  </thead>\n",
       "  <tbody>\n",
       "    <tr>\n",
       "      <th>one</th>\n",
       "      <td>a</td>\n",
       "      <td>19</td>\n",
       "      <td>a</td>\n",
       "    </tr>\n",
       "    <tr>\n",
       "      <th>two</th>\n",
       "      <td>n</td>\n",
       "      <td>20</td>\n",
       "      <td>b</td>\n",
       "    </tr>\n",
       "  </tbody>\n",
       "</table>\n",
       "</div>"
      ],
      "text/plain": [
       "    person  age class\n",
       "one      a   19     a\n",
       "two      n   20     b"
      ]
     },
     "execution_count": 24,
     "metadata": {},
     "output_type": "execute_result"
    }
   ],
   "source": [
    "del frame['old']                    \n",
    "frame"
   ]
  },
  {
   "cell_type": "markdown",
   "id": "1a9baee6",
   "metadata": {},
   "source": [
    "nested dict of dictionaries"
   ]
  },
  {
   "cell_type": "code",
   "execution_count": 28,
   "id": "077f8419",
   "metadata": {},
   "outputs": [
    {
     "data": {
      "text/plain": [
       "{'column1': {'row1': 'a', 'row2': 'b'}, 'column2': {'row1': 'c', 'row2': 'mb'}}"
      ]
     },
     "execution_count": 28,
     "metadata": {},
     "output_type": "execute_result"
    }
   ],
   "source": [
    "import pandas as pd\n",
    "data={'column1':{'row1':'a','row2':'b'},\n",
    "         'column2':{'row1':'c','row2':'mb'}}\n",
    "data"
   ]
  },
  {
   "cell_type": "code",
   "execution_count": 29,
   "id": "057b17e2",
   "metadata": {},
   "outputs": [
    {
     "data": {
      "text/html": [
       "<div>\n",
       "<style scoped>\n",
       "    .dataframe tbody tr th:only-of-type {\n",
       "        vertical-align: middle;\n",
       "    }\n",
       "\n",
       "    .dataframe tbody tr th {\n",
       "        vertical-align: top;\n",
       "    }\n",
       "\n",
       "    .dataframe thead th {\n",
       "        text-align: right;\n",
       "    }\n",
       "</style>\n",
       "<table border=\"1\" class=\"dataframe\">\n",
       "  <thead>\n",
       "    <tr style=\"text-align: right;\">\n",
       "      <th></th>\n",
       "      <th>column1</th>\n",
       "      <th>column2</th>\n",
       "    </tr>\n",
       "  </thead>\n",
       "  <tbody>\n",
       "    <tr>\n",
       "      <th>row1</th>\n",
       "      <td>a</td>\n",
       "      <td>c</td>\n",
       "    </tr>\n",
       "    <tr>\n",
       "      <th>row2</th>\n",
       "      <td>b</td>\n",
       "      <td>mb</td>\n",
       "    </tr>\n",
       "  </tbody>\n",
       "</table>\n",
       "</div>"
      ],
      "text/plain": [
       "     column1 column2\n",
       "row1       a       c\n",
       "row2       b      mb"
      ]
     },
     "execution_count": 29,
     "metadata": {},
     "output_type": "execute_result"
    }
   ],
   "source": [
    "import pandas as pd\n",
    "data={'column1':{'row1':'a','row2':'b'},\n",
    "         'column2':{'row1':'c','row2':'mb'}}      \n",
    "df=pd.DataFrame(data)\n",
    "df"
   ]
  },
  {
   "cell_type": "markdown",
   "id": "443fe2b0",
   "metadata": {},
   "source": [
    "clearly we can see difference in above code  (generally- to putting index or it automatically  consider index) .\n",
    "here we create index column also in one code "
   ]
  },
  {
   "cell_type": "code",
   "execution_count": 30,
   "id": "72bb7097",
   "metadata": {},
   "outputs": [
    {
     "data": {
      "text/html": [
       "<div>\n",
       "<style scoped>\n",
       "    .dataframe tbody tr th:only-of-type {\n",
       "        vertical-align: middle;\n",
       "    }\n",
       "\n",
       "    .dataframe tbody tr th {\n",
       "        vertical-align: top;\n",
       "    }\n",
       "\n",
       "    .dataframe thead th {\n",
       "        text-align: right;\n",
       "    }\n",
       "</style>\n",
       "<table border=\"1\" class=\"dataframe\">\n",
       "  <thead>\n",
       "    <tr style=\"text-align: right;\">\n",
       "      <th></th>\n",
       "      <th>name</th>\n",
       "      <th>age</th>\n",
       "    </tr>\n",
       "  </thead>\n",
       "  <tbody>\n",
       "    <tr>\n",
       "      <th>person1</th>\n",
       "      <td>a</td>\n",
       "      <td>19</td>\n",
       "    </tr>\n",
       "    <tr>\n",
       "      <th>person2</th>\n",
       "      <td>b</td>\n",
       "      <td>20</td>\n",
       "    </tr>\n",
       "  </tbody>\n",
       "</table>\n",
       "</div>"
      ],
      "text/plain": [
       "        name age\n",
       "person1    a  19\n",
       "person2    b  20"
      ]
     },
     "execution_count": 30,
     "metadata": {},
     "output_type": "execute_result"
    }
   ],
   "source": [
    "import pandas as pd\n",
    "data={'name':{'person1':'a','person2':'b'},\n",
    "         'age':{'person1':'19','person2':'20'}}      \n",
    "df=pd.DataFrame(data)\n",
    "df"
   ]
  },
  {
   "cell_type": "markdown",
   "id": "52888eb2",
   "metadata": {},
   "source": [
    "just Recall"
   ]
  },
  {
   "cell_type": "code",
   "execution_count": 4,
   "id": "db244160",
   "metadata": {},
   "outputs": [
    {
     "data": {
      "text/html": [
       "<div>\n",
       "<style scoped>\n",
       "    .dataframe tbody tr th:only-of-type {\n",
       "        vertical-align: middle;\n",
       "    }\n",
       "\n",
       "    .dataframe tbody tr th {\n",
       "        vertical-align: top;\n",
       "    }\n",
       "\n",
       "    .dataframe thead th {\n",
       "        text-align: right;\n",
       "    }\n",
       "</style>\n",
       "<table border=\"1\" class=\"dataframe\">\n",
       "  <thead>\n",
       "    <tr style=\"text-align: right;\">\n",
       "      <th></th>\n",
       "      <th>person</th>\n",
       "      <th>age</th>\n",
       "      <th>class</th>\n",
       "    </tr>\n",
       "  </thead>\n",
       "  <tbody>\n",
       "    <tr>\n",
       "      <th>0</th>\n",
       "      <td>niva</td>\n",
       "      <td>19</td>\n",
       "      <td>0</td>\n",
       "    </tr>\n",
       "    <tr>\n",
       "      <th>1</th>\n",
       "      <td>aami</td>\n",
       "      <td>18</td>\n",
       "      <td>1</td>\n",
       "    </tr>\n",
       "  </tbody>\n",
       "</table>\n",
       "</div>"
      ],
      "text/plain": [
       "  person age  class\n",
       "0   niva  19      0\n",
       "1   aami  18      1"
      ]
     },
     "execution_count": 4,
     "metadata": {},
     "output_type": "execute_result"
    }
   ],
   "source": [
    "import pandas as pd\n",
    "data={'person':['niva','aami'],\"age\":[\"19\",'18']}\n",
    "data1=pd.DataFrame(data)\n",
    "import numpy as np\n",
    "data1['class']=np.arange(2)\n",
    "data1"
   ]
  },
  {
   "cell_type": "markdown",
   "id": "9da61a9e",
   "metadata": {},
   "source": [
    "                                                  Deleting the  column   and viewing the columns\n",
    "                                                  \n",
    "                                                  \n",
    "                                                  \n",
    "                                                  \n",
    "                                                  \n",
    "                                                  del framename['column_name_gonna_delete']\n",
    "                                                  \n",
    "                                                  framename.columns"
   ]
  },
  {
   "cell_type": "code",
   "execution_count": 5,
   "id": "8fc853b6",
   "metadata": {},
   "outputs": [
    {
     "data": {
      "text/plain": [
       "Index(['person', 'age'], dtype='object')"
      ]
     },
     "execution_count": 5,
     "metadata": {},
     "output_type": "execute_result"
    }
   ],
   "source": [
    "del data1['class']\n",
    "data1.columns"
   ]
  },
  {
   "cell_type": "code",
   "execution_count": 6,
   "id": "3eddb38f",
   "metadata": {},
   "outputs": [
    {
     "data": {
      "text/html": [
       "<div>\n",
       "<style scoped>\n",
       "    .dataframe tbody tr th:only-of-type {\n",
       "        vertical-align: middle;\n",
       "    }\n",
       "\n",
       "    .dataframe tbody tr th {\n",
       "        vertical-align: top;\n",
       "    }\n",
       "\n",
       "    .dataframe thead th {\n",
       "        text-align: right;\n",
       "    }\n",
       "</style>\n",
       "<table border=\"1\" class=\"dataframe\">\n",
       "  <thead>\n",
       "    <tr style=\"text-align: right;\">\n",
       "      <th></th>\n",
       "      <th>person</th>\n",
       "      <th>age</th>\n",
       "    </tr>\n",
       "  </thead>\n",
       "  <tbody>\n",
       "    <tr>\n",
       "      <th>0</th>\n",
       "      <td>niva</td>\n",
       "      <td>19</td>\n",
       "    </tr>\n",
       "    <tr>\n",
       "      <th>1</th>\n",
       "      <td>aami</td>\n",
       "      <td>18</td>\n",
       "    </tr>\n",
       "  </tbody>\n",
       "</table>\n",
       "</div>"
      ],
      "text/plain": [
       "  person age\n",
       "0   niva  19\n",
       "1   aami  18"
      ]
     },
     "execution_count": 6,
     "metadata": {},
     "output_type": "execute_result"
    }
   ],
   "source": [
    "data1"
   ]
  },
  {
   "cell_type": "markdown",
   "id": "d7b7f7cb",
   "metadata": {},
   "source": [
    "                                     \n",
    "                                     \n",
    "                                     \n",
    "                                     See difference in nested dictionary"
   ]
  },
  {
   "cell_type": "code",
   "execution_count": 8,
   "id": "ad8b1721",
   "metadata": {
    "scrolled": true
   },
   "outputs": [
    {
     "data": {
      "text/html": [
       "<div>\n",
       "<style scoped>\n",
       "    .dataframe tbody tr th:only-of-type {\n",
       "        vertical-align: middle;\n",
       "    }\n",
       "\n",
       "    .dataframe tbody tr th {\n",
       "        vertical-align: top;\n",
       "    }\n",
       "\n",
       "    .dataframe thead th {\n",
       "        text-align: right;\n",
       "    }\n",
       "</style>\n",
       "<table border=\"1\" class=\"dataframe\">\n",
       "  <thead>\n",
       "    <tr style=\"text-align: right;\">\n",
       "      <th></th>\n",
       "      <th>person1</th>\n",
       "      <th>person2</th>\n",
       "    </tr>\n",
       "  </thead>\n",
       "  <tbody>\n",
       "    <tr>\n",
       "      <th>name</th>\n",
       "      <td>aami</td>\n",
       "      <td>niva</td>\n",
       "    </tr>\n",
       "    <tr>\n",
       "      <th>year</th>\n",
       "      <td>21</td>\n",
       "      <td>19</td>\n",
       "    </tr>\n",
       "  </tbody>\n",
       "</table>\n",
       "</div>"
      ],
      "text/plain": [
       "     person1 person2\n",
       "name    aami    niva\n",
       "year      21      19"
      ]
     },
     "execution_count": 8,
     "metadata": {},
     "output_type": "execute_result"
    }
   ],
   "source": [
    "data={'person1':{'name': 'aami','year':'21'},'person2':{'name':'niva','year':'19'}}\n",
    "dataframe=pd.DataFrame(data)\n",
    "dataframe"
   ]
  },
  {
   "cell_type": "code",
   "execution_count": 9,
   "id": "5ea8ace5",
   "metadata": {},
   "outputs": [
    {
     "data": {
      "text/html": [
       "<div>\n",
       "<style scoped>\n",
       "    .dataframe tbody tr th:only-of-type {\n",
       "        vertical-align: middle;\n",
       "    }\n",
       "\n",
       "    .dataframe tbody tr th {\n",
       "        vertical-align: top;\n",
       "    }\n",
       "\n",
       "    .dataframe thead th {\n",
       "        text-align: right;\n",
       "    }\n",
       "</style>\n",
       "<table border=\"1\" class=\"dataframe\">\n",
       "  <thead>\n",
       "    <tr style=\"text-align: right;\">\n",
       "      <th></th>\n",
       "      <th>person1</th>\n",
       "      <th>person2</th>\n",
       "    </tr>\n",
       "  </thead>\n",
       "  <tbody>\n",
       "    <tr>\n",
       "      <th>name</th>\n",
       "      <td>aami</td>\n",
       "      <td>niva</td>\n",
       "    </tr>\n",
       "    <tr>\n",
       "      <th>year</th>\n",
       "      <td>21</td>\n",
       "      <td>19</td>\n",
       "    </tr>\n",
       "    <tr>\n",
       "      <th>age</th>\n",
       "      <td>NaN</td>\n",
       "      <td>19</td>\n",
       "    </tr>\n",
       "  </tbody>\n",
       "</table>\n",
       "</div>"
      ],
      "text/plain": [
       "     person1 person2\n",
       "name    aami    niva\n",
       "year      21      19\n",
       "age      NaN      19"
      ]
     },
     "execution_count": 9,
     "metadata": {},
     "output_type": "execute_result"
    }
   ],
   "source": [
    "data={'person1':{'name': 'aami','year':'21'},'person2':{'name':'niva','year':'19','age':'19'}}\n",
    "dataframe=pd.DataFrame(data)\n",
    "dataframe"
   ]
  },
  {
   "cell_type": "code",
   "execution_count": 4,
   "id": "f8c79c9d",
   "metadata": {},
   "outputs": [
    {
     "data": {
      "text/html": [
       "<div>\n",
       "<style scoped>\n",
       "    .dataframe tbody tr th:only-of-type {\n",
       "        vertical-align: middle;\n",
       "    }\n",
       "\n",
       "    .dataframe tbody tr th {\n",
       "        vertical-align: top;\n",
       "    }\n",
       "\n",
       "    .dataframe thead th {\n",
       "        text-align: right;\n",
       "    }\n",
       "</style>\n",
       "<table border=\"1\" class=\"dataframe\">\n",
       "  <thead>\n",
       "    <tr style=\"text-align: right;\">\n",
       "      <th></th>\n",
       "      <th>person1</th>\n",
       "      <th>person2</th>\n",
       "      <th>person3</th>\n",
       "    </tr>\n",
       "  </thead>\n",
       "  <tbody>\n",
       "    <tr>\n",
       "      <th>name</th>\n",
       "      <td>aami</td>\n",
       "      <td>niva</td>\n",
       "      <td>keerthi</td>\n",
       "    </tr>\n",
       "    <tr>\n",
       "      <th>year</th>\n",
       "      <td>21</td>\n",
       "      <td>19</td>\n",
       "      <td>NaN</td>\n",
       "    </tr>\n",
       "    <tr>\n",
       "      <th>age</th>\n",
       "      <td>NaN</td>\n",
       "      <td>19</td>\n",
       "      <td>NaN</td>\n",
       "    </tr>\n",
       "  </tbody>\n",
       "</table>\n",
       "</div>"
      ],
      "text/plain": [
       "     person1 person2  person3\n",
       "name    aami    niva  keerthi\n",
       "year      21      19      NaN\n",
       "age      NaN      19      NaN"
      ]
     },
     "execution_count": 4,
     "metadata": {},
     "output_type": "execute_result"
    }
   ],
   "source": [
    "data={'person1':{'name': 'aami','year':'21'},'person2':{'name':'niva','year':'19','age':'19'},'person3':{\"name\":'keerthi'}}\n",
    "dataframe=pd.DataFrame(data)\n",
    "dataframe"
   ]
  },
  {
   "cell_type": "markdown",
   "id": "3efacc96",
   "metadata": {},
   "source": [
    "                             considering  index"
   ]
  },
  {
   "cell_type": "code",
   "execution_count": 5,
   "id": "0953d858",
   "metadata": {},
   "outputs": [
    {
     "data": {
      "text/html": [
       "<div>\n",
       "<style scoped>\n",
       "    .dataframe tbody tr th:only-of-type {\n",
       "        vertical-align: middle;\n",
       "    }\n",
       "\n",
       "    .dataframe tbody tr th {\n",
       "        vertical-align: top;\n",
       "    }\n",
       "\n",
       "    .dataframe thead th {\n",
       "        text-align: right;\n",
       "    }\n",
       "</style>\n",
       "<table border=\"1\" class=\"dataframe\">\n",
       "  <thead>\n",
       "    <tr style=\"text-align: right;\">\n",
       "      <th></th>\n",
       "      <th>person1</th>\n",
       "      <th>person2</th>\n",
       "      <th>person3</th>\n",
       "    </tr>\n",
       "  </thead>\n",
       "  <tbody>\n",
       "    <tr>\n",
       "      <th>name</th>\n",
       "      <td>aami</td>\n",
       "      <td>niva</td>\n",
       "      <td>keerthi</td>\n",
       "    </tr>\n",
       "    <tr>\n",
       "      <th>year</th>\n",
       "      <td>21</td>\n",
       "      <td>19</td>\n",
       "      <td>NaN</td>\n",
       "    </tr>\n",
       "    <tr>\n",
       "      <th>age</th>\n",
       "      <td>NaN</td>\n",
       "      <td>19</td>\n",
       "      <td>NaN</td>\n",
       "    </tr>\n",
       "  </tbody>\n",
       "</table>\n",
       "</div>"
      ],
      "text/plain": [
       "     person1 person2  person3\n",
       "name    aami    niva  keerthi\n",
       "year      21      19      NaN\n",
       "age      NaN      19      NaN"
      ]
     },
     "execution_count": 5,
     "metadata": {},
     "output_type": "execute_result"
    }
   ],
   "source": [
    "pd.DataFrame(dataframe,index=['person1','person2','person3'])\n",
    "dataframe"
   ]
  },
  {
   "cell_type": "markdown",
   "id": "a829c50e",
   "metadata": {},
   "source": [
    "                       Transposition"
   ]
  },
  {
   "cell_type": "code",
   "execution_count": 6,
   "id": "17b9d48c",
   "metadata": {},
   "outputs": [
    {
     "data": {
      "text/html": [
       "<div>\n",
       "<style scoped>\n",
       "    .dataframe tbody tr th:only-of-type {\n",
       "        vertical-align: middle;\n",
       "    }\n",
       "\n",
       "    .dataframe tbody tr th {\n",
       "        vertical-align: top;\n",
       "    }\n",
       "\n",
       "    .dataframe thead th {\n",
       "        text-align: right;\n",
       "    }\n",
       "</style>\n",
       "<table border=\"1\" class=\"dataframe\">\n",
       "  <thead>\n",
       "    <tr style=\"text-align: right;\">\n",
       "      <th></th>\n",
       "      <th>name</th>\n",
       "      <th>year</th>\n",
       "      <th>age</th>\n",
       "    </tr>\n",
       "  </thead>\n",
       "  <tbody>\n",
       "    <tr>\n",
       "      <th>person1</th>\n",
       "      <td>aami</td>\n",
       "      <td>21</td>\n",
       "      <td>NaN</td>\n",
       "    </tr>\n",
       "    <tr>\n",
       "      <th>person2</th>\n",
       "      <td>niva</td>\n",
       "      <td>19</td>\n",
       "      <td>19</td>\n",
       "    </tr>\n",
       "    <tr>\n",
       "      <th>person3</th>\n",
       "      <td>keerthi</td>\n",
       "      <td>NaN</td>\n",
       "      <td>NaN</td>\n",
       "    </tr>\n",
       "  </tbody>\n",
       "</table>\n",
       "</div>"
      ],
      "text/plain": [
       "            name year  age\n",
       "person1     aami   21  NaN\n",
       "person2     niva   19   19\n",
       "person3  keerthi  NaN  NaN"
      ]
     },
     "execution_count": 6,
     "metadata": {},
     "output_type": "execute_result"
    }
   ],
   "source": [
    "transposed=dataframe.T\n",
    "transposed"
   ]
  },
  {
   "cell_type": "code",
   "execution_count": 18,
   "id": "d5355655",
   "metadata": {},
   "outputs": [
    {
     "data": {
      "text/html": [
       "<div>\n",
       "<style scoped>\n",
       "    .dataframe tbody tr th:only-of-type {\n",
       "        vertical-align: middle;\n",
       "    }\n",
       "\n",
       "    .dataframe tbody tr th {\n",
       "        vertical-align: top;\n",
       "    }\n",
       "\n",
       "    .dataframe thead th {\n",
       "        text-align: right;\n",
       "    }\n",
       "</style>\n",
       "<table border=\"1\" class=\"dataframe\">\n",
       "  <thead>\n",
       "    <tr style=\"text-align: right;\">\n",
       "      <th></th>\n",
       "      <th>name</th>\n",
       "      <th>year</th>\n",
       "      <th>age</th>\n",
       "    </tr>\n",
       "  </thead>\n",
       "  <tbody>\n",
       "    <tr>\n",
       "      <th>person1</th>\n",
       "      <td>aami</td>\n",
       "      <td>21</td>\n",
       "      <td>NaN</td>\n",
       "    </tr>\n",
       "    <tr>\n",
       "      <th>person2</th>\n",
       "      <td>niva</td>\n",
       "      <td>19</td>\n",
       "      <td>19</td>\n",
       "    </tr>\n",
       "    <tr>\n",
       "      <th>person3</th>\n",
       "      <td>keerthi</td>\n",
       "      <td>NaN</td>\n",
       "      <td>NaN</td>\n",
       "    </tr>\n",
       "  </tbody>\n",
       "</table>\n",
       "</div>"
      ],
      "text/plain": [
       "            name year  age\n",
       "person1     aami   21  NaN\n",
       "person2     niva   19   19\n",
       "person3  keerthi  NaN  NaN"
      ]
     },
     "execution_count": 18,
     "metadata": {},
     "output_type": "execute_result"
    }
   ],
   "source": [
    "pd.DataFrame(transposed,index=['person1','person2','person3'])\n",
    "transposed"
   ]
  },
  {
   "cell_type": "markdown",
   "id": "0b459eb9",
   "metadata": {},
   "source": [
    "                                     dataframe access  by slicing \n",
    "                                     \n",
    "                                     \n",
    "                                     \n",
    "                                      for this method activate for only data must be indexed  \n",
    "                                       here transposed "
   ]
  },
  {
   "cell_type": "code",
   "execution_count": 21,
   "id": "5d281bfc",
   "metadata": {},
   "outputs": [
    {
     "data": {
      "text/plain": [
       "{'student1': person1    aami\n",
       " person2    niva\n",
       " Name: name, dtype: object}"
      ]
     },
     "execution_count": 21,
     "metadata": {},
     "output_type": "execute_result"
    }
   ],
   "source": [
    "# here \"transposed is data frame , which is indexed also \"\n",
    "new_data={'student1':transposed['name'][:-1],}\n",
    "new_data\n"
   ]
  },
  {
   "cell_type": "markdown",
   "id": "87a76057",
   "metadata": {},
   "source": [
    "data={'person1':{'name': 'aami','year':'21'},'person2':{'name':'niva','year':'19','age':'19'},'person3':{\"name\":'keerthi'}}\n",
    "frame1=pd.DataFrame(data)\n",
    "new_data={'student1':frame1['name'][:-1]}     \n",
    "new_data     \n",
    "        # run this code it will shows error\n"
   ]
  },
  {
   "cell_type": "markdown",
   "id": "294464af",
   "metadata": {},
   "source": [
    "                                 giving name for index row\n",
    "                                 \n",
    "                                 \n",
    "                                 \n",
    "                                 see difference for non indexed frame (frame1) and indexed frame (transposed)"
   ]
  },
  {
   "cell_type": "code",
   "execution_count": 12,
   "id": "82809fc7",
   "metadata": {
    "scrolled": true
   },
   "outputs": [
    {
     "data": {
      "text/html": [
       "<div>\n",
       "<style scoped>\n",
       "    .dataframe tbody tr th:only-of-type {\n",
       "        vertical-align: middle;\n",
       "    }\n",
       "\n",
       "    .dataframe tbody tr th {\n",
       "        vertical-align: top;\n",
       "    }\n",
       "\n",
       "    .dataframe thead th {\n",
       "        text-align: right;\n",
       "    }\n",
       "</style>\n",
       "<table border=\"1\" class=\"dataframe\">\n",
       "  <thead>\n",
       "    <tr style=\"text-align: right;\">\n",
       "      <th></th>\n",
       "      <th>person1</th>\n",
       "      <th>person2</th>\n",
       "      <th>person3</th>\n",
       "    </tr>\n",
       "    <tr>\n",
       "      <th>person</th>\n",
       "      <th></th>\n",
       "      <th></th>\n",
       "      <th></th>\n",
       "    </tr>\n",
       "  </thead>\n",
       "  <tbody>\n",
       "    <tr>\n",
       "      <th>name</th>\n",
       "      <td>aami</td>\n",
       "      <td>niva</td>\n",
       "      <td>keerthi</td>\n",
       "    </tr>\n",
       "    <tr>\n",
       "      <th>year</th>\n",
       "      <td>21</td>\n",
       "      <td>19</td>\n",
       "      <td>NaN</td>\n",
       "    </tr>\n",
       "    <tr>\n",
       "      <th>age</th>\n",
       "      <td>NaN</td>\n",
       "      <td>19</td>\n",
       "      <td>NaN</td>\n",
       "    </tr>\n",
       "  </tbody>\n",
       "</table>\n",
       "</div>"
      ],
      "text/plain": [
       "       person1 person2  person3\n",
       "person                         \n",
       "name      aami    niva  keerthi\n",
       "year        21      19      NaN\n",
       "age        NaN      19      NaN"
      ]
     },
     "execution_count": 12,
     "metadata": {},
     "output_type": "execute_result"
    }
   ],
   "source": [
    "import pandas as pd\n",
    "data={'person1':{'name': 'aami','year':'21'},'person2':{'name':'niva','year':'19','age':'19'},'person3':{\"name\":'keerthi'}}\n",
    "frame1=pd.DataFrame(data)\n",
    "frame1.index.name='person'\n",
    "frame1"
   ]
  },
  {
   "cell_type": "code",
   "execution_count": 11,
   "id": "0df87013",
   "metadata": {},
   "outputs": [
    {
     "data": {
      "text/html": [
       "<div>\n",
       "<style scoped>\n",
       "    .dataframe tbody tr th:only-of-type {\n",
       "        vertical-align: middle;\n",
       "    }\n",
       "\n",
       "    .dataframe tbody tr th {\n",
       "        vertical-align: top;\n",
       "    }\n",
       "\n",
       "    .dataframe thead th {\n",
       "        text-align: right;\n",
       "    }\n",
       "</style>\n",
       "<table border=\"1\" class=\"dataframe\">\n",
       "  <thead>\n",
       "    <tr style=\"text-align: right;\">\n",
       "      <th></th>\n",
       "      <th>name</th>\n",
       "      <th>year</th>\n",
       "      <th>age</th>\n",
       "    </tr>\n",
       "    <tr>\n",
       "      <th>person</th>\n",
       "      <th></th>\n",
       "      <th></th>\n",
       "      <th></th>\n",
       "    </tr>\n",
       "  </thead>\n",
       "  <tbody>\n",
       "    <tr>\n",
       "      <th>person1</th>\n",
       "      <td>aami</td>\n",
       "      <td>21</td>\n",
       "      <td>NaN</td>\n",
       "    </tr>\n",
       "    <tr>\n",
       "      <th>person2</th>\n",
       "      <td>niva</td>\n",
       "      <td>19</td>\n",
       "      <td>19</td>\n",
       "    </tr>\n",
       "    <tr>\n",
       "      <th>person3</th>\n",
       "      <td>keerthi</td>\n",
       "      <td>NaN</td>\n",
       "      <td>NaN</td>\n",
       "    </tr>\n",
       "  </tbody>\n",
       "</table>\n",
       "</div>"
      ],
      "text/plain": [
       "            name year  age\n",
       "person                    \n",
       "person1     aami   21  NaN\n",
       "person2     niva   19   19\n",
       "person3  keerthi  NaN  NaN"
      ]
     },
     "execution_count": 11,
     "metadata": {},
     "output_type": "execute_result"
    }
   ],
   "source": [
    "transposed.index.name='person'\n",
    "transposed"
   ]
  },
  {
   "cell_type": "markdown",
   "id": "ef38591e",
   "metadata": {},
   "source": [
    "                           Returns values of the data frame"
   ]
  },
  {
   "cell_type": "code",
   "execution_count": 13,
   "id": "cc7307cd",
   "metadata": {},
   "outputs": [
    {
     "data": {
      "text/plain": [
       "array([['aami', '21', nan],\n",
       "       ['niva', '19', '19'],\n",
       "       ['keerthi', nan, nan]], dtype=object)"
      ]
     },
     "execution_count": 13,
     "metadata": {},
     "output_type": "execute_result"
    }
   ],
   "source": [
    "transposed.values"
   ]
  },
  {
   "cell_type": "code",
   "execution_count": null,
   "id": "41ef8dc0",
   "metadata": {},
   "outputs": [],
   "source": [
    "Using CSV files \n",
    "WE can get files and access data .\n",
    "\n",
    "\n",
    "df=pd.read_csv(\"file_name\")\n",
    "df.head()\n",
    "                            "
   ]
  },
  {
   "cell_type": "code",
   "execution_count": null,
   "id": "81966486",
   "metadata": {},
   "outputs": [],
   "source": []
  },
  {
   "cell_type": "markdown",
   "id": "bca58dd2",
   "metadata": {},
   "source": [
    "#  i)Series\n",
    "\n",
    "\n",
    "one deminsion array  - similar type of numpy    \n",
    " it as fixed length , ordered dict(when mapping to index or considering real dictnary)\n",
    " \n",
    " \n",
    " \n",
    "list to series\n",
    "values returns\n",
    "putting index\n",
    "returning index\n",
    "performing math operations\n",
    "seriesmaking  in dictionary format\n",
    "index making  and giving name to index column\n",
    "Detect missing values  in pandas  which actually by isnull and notnull function in pandas \n",
    "one of the series feature  : data will automatically align by index"
   ]
  },
  {
   "cell_type": "code",
   "execution_count": 15,
   "id": "335c2572",
   "metadata": {},
   "outputs": [
    {
     "data": {
      "text/plain": [
       "0    1\n",
       "1    2\n",
       "2    3\n",
       "3    4\n",
       "4    5\n",
       "dtype: int64"
      ]
     },
     "execution_count": 15,
     "metadata": {},
     "output_type": "execute_result"
    }
   ],
   "source": [
    "import pandas as pd\n",
    "a=pd.Series([1,2,3,4,5])\n",
    "a"
   ]
  },
  {
   "cell_type": "code",
   "execution_count": 22,
   "id": "c74d85ad",
   "metadata": {},
   "outputs": [
    {
     "data": {
      "text/plain": [
       "a   NaN\n",
       "b   NaN\n",
       "c   NaN\n",
       "d   NaN\n",
       "e   NaN\n",
       "dtype: float64"
      ]
     },
     "execution_count": 22,
     "metadata": {},
     "output_type": "execute_result"
    }
   ],
   "source": [
    "a.values\n"
   ]
  },
  {
   "cell_type": "markdown",
   "id": "f378af57",
   "metadata": {},
   "source": [
    "                                 putting index  - see differences\n",
    "    \n",
    "    \n",
    "    \n",
    "    pd.Series(a,index=['a','b','c','d','e'])\n",
    "    \n",
    "    pd.Series(['1','2','3','4','5'],index=['a','b','c','d','e'])\n",
    "    \n",
    "                                "
   ]
  },
  {
   "cell_type": "code",
   "execution_count": 20,
   "id": "d73d09f8",
   "metadata": {
    "scrolled": true
   },
   "outputs": [
    {
     "data": {
      "text/plain": [
       "a   NaN\n",
       "b   NaN\n",
       "c   NaN\n",
       "d   NaN\n",
       "e   NaN\n",
       "dtype: float64"
      ]
     },
     "execution_count": 20,
     "metadata": {},
     "output_type": "execute_result"
    }
   ],
   "source": [
    "pd.Series(a,index=['a','b','c','d','e'])"
   ]
  },
  {
   "cell_type": "code",
   "execution_count": 21,
   "id": "5e77e60d",
   "metadata": {},
   "outputs": [
    {
     "data": {
      "text/plain": [
       "a    1\n",
       "b    2\n",
       "c    3\n",
       "d    4\n",
       "e    5\n",
       "dtype: object"
      ]
     },
     "execution_count": 21,
     "metadata": {},
     "output_type": "execute_result"
    }
   ],
   "source": [
    "pd.Series(['1','2','3','4','5'],index=['a','b','c','d','e'])"
   ]
  },
  {
   "cell_type": "raw",
   "id": "e5594546",
   "metadata": {},
   "source": [
    " returning index\n",
    "    "
   ]
  },
  {
   "cell_type": "code",
   "execution_count": 23,
   "id": "c25a452c",
   "metadata": {},
   "outputs": [
    {
     "data": {
      "text/plain": [
       "Index(['a', 'b', 'c', 'd', 'e'], dtype='object')"
      ]
     },
     "execution_count": 23,
     "metadata": {},
     "output_type": "execute_result"
    }
   ],
   "source": [
    "myseries=pd.Series(['1','2','3','4','5'],index=['a','b','c','d','e'])\n",
    "myseries.index"
   ]
  },
  {
   "cell_type": "raw",
   "id": "c85d6651",
   "metadata": {},
   "source": [
    "Getting data by index"
   ]
  },
  {
   "cell_type": "code",
   "execution_count": 2,
   "id": "4ca4ca97",
   "metadata": {
    "scrolled": true
   },
   "outputs": [
    {
     "data": {
      "text/plain": [
       "day1    439\n",
       "day2    555\n",
       "dtype: int64"
      ]
     },
     "execution_count": 2,
     "metadata": {},
     "output_type": "execute_result"
    }
   ],
   "source": [
    "import pandas as pd\n",
    "calories={'day1':439,\"day2\":555,\"day3\":678}\n",
    "myvar=pd.Series(calories,index=['day1','day2'])\n",
    "myvar"
   ]
  },
  {
   "cell_type": "markdown",
   "id": "0e774fd3",
   "metadata": {},
   "source": [
    "   performing operations     - using numpy functions or numpy_like operations such as boolean array, scalar multiplication, math function.\n",
    "   \n",
    "   \n",
    "   *\n",
    "   >,<\n",
    "   exp"
   ]
  },
  {
   "cell_type": "code",
   "execution_count": 24,
   "id": "649502d2",
   "metadata": {
    "scrolled": true
   },
   "outputs": [
    {
     "data": {
      "text/plain": [
       "a    11\n",
       "b    22\n",
       "c    33\n",
       "d    44\n",
       "e    55\n",
       "dtype: object"
      ]
     },
     "execution_count": 24,
     "metadata": {},
     "output_type": "execute_result"
    }
   ],
   "source": [
    "myseries*2      "
   ]
  },
  {
   "cell_type": "code",
   "execution_count": 30,
   "id": "7910320e",
   "metadata": {},
   "outputs": [
    {
     "data": {
      "text/plain": [
       "0      44\n",
       "1      77\n",
       "2    -5-5\n",
       "3      aa\n",
       "dtype: object"
      ]
     },
     "execution_count": 30,
     "metadata": {},
     "output_type": "execute_result"
    }
   ],
   "source": [
    "a= pd.Series(['4','7','-5','a'])\n",
    "a*2"
   ]
  },
  {
   "cell_type": "code",
   "execution_count": 29,
   "id": "b484bfb1",
   "metadata": {},
   "outputs": [
    {
     "data": {
      "text/plain": [
       "0     8\n",
       "1    14\n",
       "2   -10\n",
       "dtype: int64"
      ]
     },
     "execution_count": 29,
     "metadata": {},
     "output_type": "execute_result"
    }
   ],
   "source": [
    "a=pd.Series([4,7,-5])\n",
    "a*2"
   ]
  },
  {
   "cell_type": "markdown",
   "id": "673689ba",
   "metadata": {},
   "source": [
    "above \n",
    "Here main difference is ,in series    the list values in quatation is consider as string values so it put two times\n",
    "    soo don't put numerical value in quatation"
   ]
  },
  {
   "cell_type": "code",
   "execution_count": 33,
   "id": "94b071ea",
   "metadata": {},
   "outputs": [
    {
     "data": {
      "text/plain": [
       "True"
      ]
     },
     "execution_count": 33,
     "metadata": {},
     "output_type": "execute_result"
    }
   ],
   "source": [
    "#boolean \n",
    "myseries=pd.Series([1,2,3,5,4],index=['a','b','c','d','e'])                  # note: access by index \n",
    "'a'in myseries\n"
   ]
  },
  {
   "cell_type": "code",
   "execution_count": 36,
   "id": "bdc89301",
   "metadata": {},
   "outputs": [
    {
     "data": {
      "text/plain": [
       "False"
      ]
     },
     "execution_count": 36,
     "metadata": {},
     "output_type": "execute_result"
    }
   ],
   "source": [
    "# mistake making area\n",
    "myseries=pd.Series([1,2,3,5,4],index=['a','b','c','d','e'])                  # note: access by index   it sees  the  index only\n",
    "'1'in myseries                                                              # checking index based \n"
   ]
  },
  {
   "cell_type": "markdown",
   "id": "7b2cc4f5",
   "metadata": {},
   "source": [
    "series making in dictionary format      "
   ]
  },
  {
   "cell_type": "code",
   "execution_count": 38,
   "id": "d84e7359",
   "metadata": {
    "scrolled": true
   },
   "outputs": [
    {
     "data": {
      "text/plain": [
       "niva      2l\n",
       "aami    1.5l\n",
       "dtype: object"
      ]
     },
     "execution_count": 38,
     "metadata": {},
     "output_type": "execute_result"
    }
   ],
   "source": [
    "my_dict={'niva':\"2l\",\"aami\":\"1.5l\"}\n",
    "my_series=pd.Series(my_dict)\n",
    "my_series"
   ]
  },
  {
   "cell_type": "markdown",
   "id": "f54b9e19",
   "metadata": {},
   "source": [
    "index making  and giving name to index column"
   ]
  },
  {
   "cell_type": "code",
   "execution_count": 42,
   "id": "d927e3a7",
   "metadata": {},
   "outputs": [
    {
     "data": {
      "text/plain": [
       "Index(['niva', 'aami'], dtype='object')"
      ]
     },
     "execution_count": 42,
     "metadata": {},
     "output_type": "execute_result"
    }
   ],
   "source": [
    "name=['niva','aami']\n",
    "a=pd.Series(my_series,index=name)\n",
    "a.index"
   ]
  },
  {
   "cell_type": "code",
   "execution_count": 45,
   "id": "5d0eb95f",
   "metadata": {},
   "outputs": [
    {
     "data": {
      "text/plain": [
       "['niva', 'aami']"
      ]
     },
     "execution_count": 45,
     "metadata": {},
     "output_type": "execute_result"
    }
   ],
   "source": [
    "name"
   ]
  },
  {
   "cell_type": "code",
   "execution_count": 46,
   "id": "54554257",
   "metadata": {},
   "outputs": [
    {
     "data": {
      "text/plain": [
       "niva      2l\n",
       "aami    1.5l\n",
       "dtype: object"
      ]
     },
     "execution_count": 46,
     "metadata": {},
     "output_type": "execute_result"
    }
   ],
   "source": [
    "a"
   ]
  },
  {
   "cell_type": "markdown",
   "id": "d9f8636c",
   "metadata": {},
   "source": [
    "Detect missing values  in pandas  which actually by isnull and notnull function in pandas \n",
    "\n",
    "\n",
    "\n",
    "making non by extrarow data  in  index giving area"
   ]
  },
  {
   "cell_type": "code",
   "execution_count": 48,
   "id": "cc49e4b1",
   "metadata": {
    "scrolled": true
   },
   "outputs": [
    {
     "data": {
      "text/plain": [
       "niva      2l\n",
       "aami    1.5l\n",
       "anu      NaN\n",
       "dtype: object"
      ]
     },
     "execution_count": 48,
     "metadata": {},
     "output_type": "execute_result"
    }
   ],
   "source": [
    "name=['niva','aami','anu']\n",
    "a=pd.Series(my_series,index=name)\n",
    "a"
   ]
  },
  {
   "cell_type": "code",
   "execution_count": 49,
   "id": "0e9acd90",
   "metadata": {},
   "outputs": [
    {
     "data": {
      "text/plain": [
       "niva    False\n",
       "aami    False\n",
       "anu      True\n",
       "dtype: bool"
      ]
     },
     "execution_count": 49,
     "metadata": {},
     "output_type": "execute_result"
    }
   ],
   "source": [
    "pd.isnull(a)"
   ]
  },
  {
   "cell_type": "code",
   "execution_count": 50,
   "id": "7e046958",
   "metadata": {},
   "outputs": [
    {
     "data": {
      "text/plain": [
       "niva     True\n",
       "aami     True\n",
       "anu     False\n",
       "dtype: bool"
      ]
     },
     "execution_count": 50,
     "metadata": {},
     "output_type": "execute_result"
    }
   ],
   "source": [
    "pd.notnull(a)"
   ]
  },
  {
   "cell_type": "markdown",
   "id": "6f1b06d4",
   "metadata": {},
   "source": [
    " one of the series feature  : data will automatically align by index"
   ]
  },
  {
   "cell_type": "code",
   "execution_count": 51,
   "id": "f283aad7",
   "metadata": {},
   "outputs": [
    {
     "data": {
      "text/plain": [
       "niva      2l\n",
       "aami    1.5l\n",
       "anu      NaN\n",
       "dtype: object"
      ]
     },
     "execution_count": 51,
     "metadata": {},
     "output_type": "execute_result"
    }
   ],
   "source": [
    "a                # series one"
   ]
  },
  {
   "cell_type": "code",
   "execution_count": 52,
   "id": "36612e64",
   "metadata": {},
   "outputs": [
    {
     "data": {
      "text/plain": [
       "niva      2l\n",
       "aami    1.5l\n",
       "dtype: object"
      ]
     },
     "execution_count": 52,
     "metadata": {},
     "output_type": "execute_result"
    }
   ],
   "source": [
    "my_series            # 2nd series"
   ]
  },
  {
   "cell_type": "code",
   "execution_count": 53,
   "id": "aa829848",
   "metadata": {},
   "outputs": [
    {
     "data": {
      "text/plain": [
       "aami    1.5l1.5l\n",
       "anu          NaN\n",
       "niva        2l2l\n",
       "dtype: object"
      ]
     },
     "execution_count": 53,
     "metadata": {},
     "output_type": "execute_result"
    }
   ],
   "source": [
    "a+my_series                        # automatically aligned for operation .\n",
    "                                   #and it consider  zero for non datarow column (0+NaN)=NaN"
   ]
  },
  {
   "cell_type": "markdown",
   "id": "b6410cce",
   "metadata": {},
   "source": [
    "#   sorting \n",
    "\n",
    "sort_index  -> this is method for sorting \n",
    " "
   ]
  },
  {
   "cell_type": "code",
   "execution_count": 6,
   "id": "0873f3ac",
   "metadata": {},
   "outputs": [
    {
     "data": {
      "text/plain": [
       "0    1\n",
       "1    2\n",
       "2    3\n",
       "3    5\n",
       "4    6\n",
       "dtype: int64"
      ]
     },
     "execution_count": 6,
     "metadata": {},
     "output_type": "execute_result"
    }
   ],
   "source": [
    "import pandas as pd\n",
    "import numpy as np\n",
    "data=[1,2,3,5,6]\n",
    "myseries=pd.Series(data)\n",
    "myseries.sort_index()\n"
   ]
  },
  {
   "cell_type": "code",
   "execution_count": 7,
   "id": "960987c4",
   "metadata": {},
   "outputs": [
    {
     "data": {
      "text/html": [
       "<div>\n",
       "<style scoped>\n",
       "    .dataframe tbody tr th:only-of-type {\n",
       "        vertical-align: middle;\n",
       "    }\n",
       "\n",
       "    .dataframe tbody tr th {\n",
       "        vertical-align: top;\n",
       "    }\n",
       "\n",
       "    .dataframe thead th {\n",
       "        text-align: right;\n",
       "    }\n",
       "</style>\n",
       "<table border=\"1\" class=\"dataframe\">\n",
       "  <thead>\n",
       "    <tr style=\"text-align: right;\">\n",
       "      <th></th>\n",
       "      <th>0</th>\n",
       "    </tr>\n",
       "  </thead>\n",
       "  <tbody>\n",
       "    <tr>\n",
       "      <th>0</th>\n",
       "      <td>1</td>\n",
       "    </tr>\n",
       "    <tr>\n",
       "      <th>1</th>\n",
       "      <td>2</td>\n",
       "    </tr>\n",
       "    <tr>\n",
       "      <th>2</th>\n",
       "      <td>3</td>\n",
       "    </tr>\n",
       "    <tr>\n",
       "      <th>3</th>\n",
       "      <td>4</td>\n",
       "    </tr>\n",
       "    <tr>\n",
       "      <th>4</th>\n",
       "      <td>5</td>\n",
       "    </tr>\n",
       "  </tbody>\n",
       "</table>\n",
       "</div>"
      ],
      "text/plain": [
       "   0\n",
       "0  1\n",
       "1  2\n",
       "2  3\n",
       "3  4\n",
       "4  5"
      ]
     },
     "execution_count": 7,
     "metadata": {},
     "output_type": "execute_result"
    }
   ],
   "source": [
    "data=[1,2,3,4,5]\n",
    "frame=pd.DataFrame(data)\n",
    "frame.sort_index()"
   ]
  },
  {
   "cell_type": "code",
   "execution_count": 13,
   "id": "ad9d530b",
   "metadata": {},
   "outputs": [
    {
     "data": {
      "text/plain": [
       "a    2\n",
       "b    0\n",
       "d    3\n",
       "v    1\n",
       "dtype: int64"
      ]
     },
     "execution_count": 13,
     "metadata": {},
     "output_type": "execute_result"
    }
   ],
   "source": [
    "my_series=pd.Series(range(4),index=['b','v','a','d'])\n",
    "my_series.sort_index()"
   ]
  },
  {
   "cell_type": "code",
   "execution_count": 18,
   "id": "d14e267f",
   "metadata": {},
   "outputs": [
    {
     "data": {
      "text/html": [
       "<div>\n",
       "<style scoped>\n",
       "    .dataframe tbody tr th:only-of-type {\n",
       "        vertical-align: middle;\n",
       "    }\n",
       "\n",
       "    .dataframe tbody tr th {\n",
       "        vertical-align: top;\n",
       "    }\n",
       "\n",
       "    .dataframe thead th {\n",
       "        text-align: right;\n",
       "    }\n",
       "</style>\n",
       "<table border=\"1\" class=\"dataframe\">\n",
       "  <thead>\n",
       "    <tr style=\"text-align: right;\">\n",
       "      <th></th>\n",
       "      <th>a</th>\n",
       "      <th>c</th>\n",
       "      <th>e</th>\n",
       "      <th>1</th>\n",
       "    </tr>\n",
       "  </thead>\n",
       "  <tbody>\n",
       "    <tr>\n",
       "      <th>7</th>\n",
       "      <td>0</td>\n",
       "      <td>1</td>\n",
       "      <td>2</td>\n",
       "      <td>3</td>\n",
       "    </tr>\n",
       "    <tr>\n",
       "      <th>4</th>\n",
       "      <td>4</td>\n",
       "      <td>5</td>\n",
       "      <td>6</td>\n",
       "      <td>7</td>\n",
       "    </tr>\n",
       "  </tbody>\n",
       "</table>\n",
       "</div>"
      ],
      "text/plain": [
       "    a  c  e  1\n",
       "7   0  1  2  3\n",
       "4   4  5  6  7"
      ]
     },
     "execution_count": 18,
     "metadata": {},
     "output_type": "execute_result"
    }
   ],
   "source": [
    "my_frame=pd.DataFrame(np.arange(8).reshape(2,4),\n",
    "                     index=['7 ','4']\n",
    "                     ,columns=['a','c','e','1'])\n",
    "my_frame\n"
   ]
  },
  {
   "cell_type": "code",
   "execution_count": 19,
   "id": "b6f82f5b",
   "metadata": {},
   "outputs": [
    {
     "data": {
      "text/html": [
       "<div>\n",
       "<style scoped>\n",
       "    .dataframe tbody tr th:only-of-type {\n",
       "        vertical-align: middle;\n",
       "    }\n",
       "\n",
       "    .dataframe tbody tr th {\n",
       "        vertical-align: top;\n",
       "    }\n",
       "\n",
       "    .dataframe thead th {\n",
       "        text-align: right;\n",
       "    }\n",
       "</style>\n",
       "<table border=\"1\" class=\"dataframe\">\n",
       "  <thead>\n",
       "    <tr style=\"text-align: right;\">\n",
       "      <th></th>\n",
       "      <th>a</th>\n",
       "      <th>c</th>\n",
       "      <th>e</th>\n",
       "      <th>1</th>\n",
       "    </tr>\n",
       "  </thead>\n",
       "  <tbody>\n",
       "    <tr>\n",
       "      <th>4</th>\n",
       "      <td>4</td>\n",
       "      <td>5</td>\n",
       "      <td>6</td>\n",
       "      <td>7</td>\n",
       "    </tr>\n",
       "    <tr>\n",
       "      <th>7</th>\n",
       "      <td>0</td>\n",
       "      <td>1</td>\n",
       "      <td>2</td>\n",
       "      <td>3</td>\n",
       "    </tr>\n",
       "  </tbody>\n",
       "</table>\n",
       "</div>"
      ],
      "text/plain": [
       "    a  c  e  1\n",
       "4   4  5  6  7\n",
       "7   0  1  2  3"
      ]
     },
     "execution_count": 19,
     "metadata": {},
     "output_type": "execute_result"
    }
   ],
   "source": [
    "my_frame.sort_index()"
   ]
  },
  {
   "cell_type": "code",
   "execution_count": 21,
   "id": "6a4350fc",
   "metadata": {},
   "outputs": [
    {
     "data": {
      "text/html": [
       "<div>\n",
       "<style scoped>\n",
       "    .dataframe tbody tr th:only-of-type {\n",
       "        vertical-align: middle;\n",
       "    }\n",
       "\n",
       "    .dataframe tbody tr th {\n",
       "        vertical-align: top;\n",
       "    }\n",
       "\n",
       "    .dataframe thead th {\n",
       "        text-align: right;\n",
       "    }\n",
       "</style>\n",
       "<table border=\"1\" class=\"dataframe\">\n",
       "  <thead>\n",
       "    <tr style=\"text-align: right;\">\n",
       "      <th></th>\n",
       "      <th>0</th>\n",
       "    </tr>\n",
       "  </thead>\n",
       "  <tbody>\n",
       "    <tr>\n",
       "      <th>0</th>\n",
       "      <td>1</td>\n",
       "    </tr>\n",
       "    <tr>\n",
       "      <th>1</th>\n",
       "      <td>2</td>\n",
       "    </tr>\n",
       "    <tr>\n",
       "      <th>2</th>\n",
       "      <td>3</td>\n",
       "    </tr>\n",
       "    <tr>\n",
       "      <th>3</th>\n",
       "      <td>4</td>\n",
       "    </tr>\n",
       "    <tr>\n",
       "      <th>4</th>\n",
       "      <td>5</td>\n",
       "    </tr>\n",
       "  </tbody>\n",
       "</table>\n",
       "</div>"
      ],
      "text/plain": [
       "   0\n",
       "0  1\n",
       "1  2\n",
       "2  3\n",
       "3  4\n",
       "4  5"
      ]
     },
     "execution_count": 21,
     "metadata": {},
     "output_type": "execute_result"
    }
   ],
   "source": [
    "frame.sort_index(axis=1)\n"
   ]
  },
  {
   "cell_type": "code",
   "execution_count": 25,
   "id": "44962fa7",
   "metadata": {},
   "outputs": [
    {
     "data": {
      "text/plain": [
       "array([ 4., nan,  7., nan, -3.,  2.])"
      ]
     },
     "execution_count": 25,
     "metadata": {},
     "output_type": "execute_result"
    }
   ],
   "source": [
    "a=pd.Series([4,np.nan,7,np.nan,-3,2])\n",
    "a.values\n",
    "#a.sort_values()"
   ]
  },
  {
   "cell_type": "code",
   "execution_count": 26,
   "id": "f6e51f36",
   "metadata": {},
   "outputs": [
    {
     "name": "stderr",
     "output_type": "stream",
     "text": [
      "C:\\Users\\SARAVANAN\\AppData\\Local\\Temp\\ipykernel_18008\\745743667.py:2: FutureWarning: The default dtype for empty Series will be 'object' instead of 'float64' in a future version. Specify a dtype explicitly to silence this warning.\n",
      "  a=pd.Series()\n"
     ]
    },
    {
     "data": {
      "text/plain": [
       "array([], dtype=float64)"
      ]
     },
     "execution_count": 26,
     "metadata": {},
     "output_type": "execute_result"
    }
   ],
   "source": [
    "series=[np.nan]\n",
    "a=pd.Series()\n",
    "a.values"
   ]
  },
  {
   "cell_type": "code",
   "execution_count": 32,
   "id": "8280cac4",
   "metadata": {},
   "outputs": [
    {
     "data": {
      "text/html": [
       "<div>\n",
       "<style scoped>\n",
       "    .dataframe tbody tr th:only-of-type {\n",
       "        vertical-align: middle;\n",
       "    }\n",
       "\n",
       "    .dataframe tbody tr th {\n",
       "        vertical-align: top;\n",
       "    }\n",
       "\n",
       "    .dataframe thead th {\n",
       "        text-align: right;\n",
       "    }\n",
       "</style>\n",
       "<table border=\"1\" class=\"dataframe\">\n",
       "  <thead>\n",
       "    <tr style=\"text-align: right;\">\n",
       "      <th></th>\n",
       "      <th>b</th>\n",
       "      <th>a</th>\n",
       "    </tr>\n",
       "  </thead>\n",
       "  <tbody>\n",
       "    <tr>\n",
       "      <th>0</th>\n",
       "      <td>1</td>\n",
       "      <td>1</td>\n",
       "    </tr>\n",
       "    <tr>\n",
       "      <th>1</th>\n",
       "      <td>2</td>\n",
       "      <td>9</td>\n",
       "    </tr>\n",
       "    <tr>\n",
       "      <th>2</th>\n",
       "      <td>3</td>\n",
       "      <td>3</td>\n",
       "    </tr>\n",
       "    <tr>\n",
       "      <th>3</th>\n",
       "      <td>5</td>\n",
       "      <td>4</td>\n",
       "    </tr>\n",
       "  </tbody>\n",
       "</table>\n",
       "</div>"
      ],
      "text/plain": [
       "   b  a\n",
       "0  1  1\n",
       "1  2  9\n",
       "2  3  3\n",
       "3  5  4"
      ]
     },
     "execution_count": 32,
     "metadata": {},
     "output_type": "execute_result"
    }
   ],
   "source": [
    "frame=pd.DataFrame({'b':[1,2,3,5],'a':[1,9,3,4]})\n",
    "frame"
   ]
  },
  {
   "cell_type": "markdown",
   "id": "f54c0c2c",
   "metadata": {},
   "source": [
    "sort by particular column  \n",
    "\n",
    " two method\n",
    "     sort_values(by='a')\n",
    "     sort_values('a')"
   ]
  },
  {
   "cell_type": "code",
   "execution_count": 33,
   "id": "dc1e2b85",
   "metadata": {},
   "outputs": [
    {
     "data": {
      "text/html": [
       "<div>\n",
       "<style scoped>\n",
       "    .dataframe tbody tr th:only-of-type {\n",
       "        vertical-align: middle;\n",
       "    }\n",
       "\n",
       "    .dataframe tbody tr th {\n",
       "        vertical-align: top;\n",
       "    }\n",
       "\n",
       "    .dataframe thead th {\n",
       "        text-align: right;\n",
       "    }\n",
       "</style>\n",
       "<table border=\"1\" class=\"dataframe\">\n",
       "  <thead>\n",
       "    <tr style=\"text-align: right;\">\n",
       "      <th></th>\n",
       "      <th>b</th>\n",
       "      <th>a</th>\n",
       "    </tr>\n",
       "  </thead>\n",
       "  <tbody>\n",
       "    <tr>\n",
       "      <th>0</th>\n",
       "      <td>1</td>\n",
       "      <td>1</td>\n",
       "    </tr>\n",
       "    <tr>\n",
       "      <th>2</th>\n",
       "      <td>3</td>\n",
       "      <td>3</td>\n",
       "    </tr>\n",
       "    <tr>\n",
       "      <th>3</th>\n",
       "      <td>5</td>\n",
       "      <td>4</td>\n",
       "    </tr>\n",
       "    <tr>\n",
       "      <th>1</th>\n",
       "      <td>2</td>\n",
       "      <td>9</td>\n",
       "    </tr>\n",
       "  </tbody>\n",
       "</table>\n",
       "</div>"
      ],
      "text/plain": [
       "   b  a\n",
       "0  1  1\n",
       "2  3  3\n",
       "3  5  4\n",
       "1  2  9"
      ]
     },
     "execution_count": 33,
     "metadata": {},
     "output_type": "execute_result"
    }
   ],
   "source": [
    "frame.sort_values(by='a')"
   ]
  },
  {
   "cell_type": "code",
   "execution_count": 35,
   "id": "03a8181d",
   "metadata": {},
   "outputs": [
    {
     "data": {
      "text/html": [
       "<div>\n",
       "<style scoped>\n",
       "    .dataframe tbody tr th:only-of-type {\n",
       "        vertical-align: middle;\n",
       "    }\n",
       "\n",
       "    .dataframe tbody tr th {\n",
       "        vertical-align: top;\n",
       "    }\n",
       "\n",
       "    .dataframe thead th {\n",
       "        text-align: right;\n",
       "    }\n",
       "</style>\n",
       "<table border=\"1\" class=\"dataframe\">\n",
       "  <thead>\n",
       "    <tr style=\"text-align: right;\">\n",
       "      <th></th>\n",
       "      <th>b</th>\n",
       "      <th>a</th>\n",
       "    </tr>\n",
       "  </thead>\n",
       "  <tbody>\n",
       "    <tr>\n",
       "      <th>0</th>\n",
       "      <td>1</td>\n",
       "      <td>1</td>\n",
       "    </tr>\n",
       "    <tr>\n",
       "      <th>2</th>\n",
       "      <td>3</td>\n",
       "      <td>3</td>\n",
       "    </tr>\n",
       "    <tr>\n",
       "      <th>3</th>\n",
       "      <td>5</td>\n",
       "      <td>4</td>\n",
       "    </tr>\n",
       "    <tr>\n",
       "      <th>1</th>\n",
       "      <td>2</td>\n",
       "      <td>9</td>\n",
       "    </tr>\n",
       "  </tbody>\n",
       "</table>\n",
       "</div>"
      ],
      "text/plain": [
       "   b  a\n",
       "0  1  1\n",
       "2  3  3\n",
       "3  5  4\n",
       "1  2  9"
      ]
     },
     "execution_count": 35,
     "metadata": {},
     "output_type": "execute_result"
    }
   ],
   "source": [
    "frame.sort_values('a')      # both are same"
   ]
  },
  {
   "cell_type": "markdown",
   "id": "d8f45013",
   "metadata": {},
   "source": [
    "\n",
    "# Ranking \n",
    "\n",
    "\n",
    "seriesname.rank()\n",
    "framename.rank()\n",
    "\n",
    "                        dataframe_or_series_name.rank(method=' method name')\n",
    "\n",
    "\n",
    " method      describtion\n",
    "    \n",
    "average      default   average rank of each entry in the equal group\n",
    "min          use the minimum rank for the whole group \n",
    "max          use the maximum rank for the whole group \n",
    "first        assign ranks in the order the values appear in the data\n",
    "dense        l\n",
    "\n",
    "=> min, max  with sorted in asecending and descending\n",
    "\n",
    "=> ranking based on column and rows\n",
    "\n"
   ]
  },
  {
   "cell_type": "code",
   "execution_count": 3,
   "id": "ed5e6eab",
   "metadata": {},
   "outputs": [
    {
     "data": {
      "text/plain": [
       "0    4.0\n",
       "1    1.0\n",
       "2    2.0\n",
       "3    3.0\n",
       "dtype: float64"
      ]
     },
     "execution_count": 3,
     "metadata": {},
     "output_type": "execute_result"
    }
   ],
   "source": [
    "import pandas as pd\n",
    "name=pd.Series([7,3,5,6])\n",
    "name.rank()"
   ]
  },
  {
   "cell_type": "code",
   "execution_count": 4,
   "id": "a6fccccb",
   "metadata": {},
   "outputs": [
    {
     "data": {
      "text/plain": [
       "0    4.0\n",
       "1    1.0\n",
       "2    2.0\n",
       "3    3.0\n",
       "dtype: float64"
      ]
     },
     "execution_count": 4,
     "metadata": {},
     "output_type": "execute_result"
    }
   ],
   "source": [
    "name.rank(method='first')"
   ]
  },
  {
   "cell_type": "markdown",
   "id": "a8351505",
   "metadata": {},
   "source": [
    "    In ranking ,sort values based on ascending => generally ascending data or use => ascending =True\n",
    "                      descending => use   => ascending =False"
   ]
  },
  {
   "cell_type": "code",
   "execution_count": 5,
   "id": "397ae7f4",
   "metadata": {},
   "outputs": [
    {
     "data": {
      "text/plain": [
       "0    4.0\n",
       "1    1.0\n",
       "2    2.0\n",
       "3    3.0\n",
       "dtype: float64"
      ]
     },
     "execution_count": 5,
     "metadata": {},
     "output_type": "execute_result"
    }
   ],
   "source": [
    "name.rank(ascending=True,method='max')   "
   ]
  },
  {
   "cell_type": "code",
   "execution_count": 6,
   "id": "43309a78",
   "metadata": {},
   "outputs": [
    {
     "data": {
      "text/html": [
       "<div>\n",
       "<style scoped>\n",
       "    .dataframe tbody tr th:only-of-type {\n",
       "        vertical-align: middle;\n",
       "    }\n",
       "\n",
       "    .dataframe tbody tr th {\n",
       "        vertical-align: top;\n",
       "    }\n",
       "\n",
       "    .dataframe thead th {\n",
       "        text-align: right;\n",
       "    }\n",
       "</style>\n",
       "<table border=\"1\" class=\"dataframe\">\n",
       "  <thead>\n",
       "    <tr style=\"text-align: right;\">\n",
       "      <th></th>\n",
       "      <th>b</th>\n",
       "      <th>a</th>\n",
       "      <th>c</th>\n",
       "    </tr>\n",
       "  </thead>\n",
       "  <tbody>\n",
       "    <tr>\n",
       "      <th>0</th>\n",
       "      <td>1</td>\n",
       "      <td>1</td>\n",
       "      <td>2</td>\n",
       "    </tr>\n",
       "    <tr>\n",
       "      <th>1</th>\n",
       "      <td>2</td>\n",
       "      <td>2</td>\n",
       "      <td>3</td>\n",
       "    </tr>\n",
       "    <tr>\n",
       "      <th>2</th>\n",
       "      <td>3</td>\n",
       "      <td>3</td>\n",
       "      <td>4</td>\n",
       "    </tr>\n",
       "    <tr>\n",
       "      <th>3</th>\n",
       "      <td>4</td>\n",
       "      <td>4</td>\n",
       "      <td>5</td>\n",
       "    </tr>\n",
       "    <tr>\n",
       "      <th>4</th>\n",
       "      <td>5</td>\n",
       "      <td>7</td>\n",
       "      <td>6</td>\n",
       "    </tr>\n",
       "  </tbody>\n",
       "</table>\n",
       "</div>"
      ],
      "text/plain": [
       "   b  a  c\n",
       "0  1  1  2\n",
       "1  2  2  3\n",
       "2  3  3  4\n",
       "3  4  4  5\n",
       "4  5  7  6"
      ]
     },
     "execution_count": 6,
     "metadata": {},
     "output_type": "execute_result"
    }
   ],
   "source": [
    "frame=pd.DataFrame({'b':[1,2,3,4,5],'a':[1,2,3,4,7],'c':[2,3,4,5,6]})\n",
    "frame"
   ]
  },
  {
   "cell_type": "code",
   "execution_count": 7,
   "id": "9a2b276a",
   "metadata": {},
   "outputs": [
    {
     "data": {
      "text/html": [
       "<div>\n",
       "<style scoped>\n",
       "    .dataframe tbody tr th:only-of-type {\n",
       "        vertical-align: middle;\n",
       "    }\n",
       "\n",
       "    .dataframe tbody tr th {\n",
       "        vertical-align: top;\n",
       "    }\n",
       "\n",
       "    .dataframe thead th {\n",
       "        text-align: right;\n",
       "    }\n",
       "</style>\n",
       "<table border=\"1\" class=\"dataframe\">\n",
       "  <thead>\n",
       "    <tr style=\"text-align: right;\">\n",
       "      <th></th>\n",
       "      <th>b</th>\n",
       "      <th>a</th>\n",
       "      <th>c</th>\n",
       "    </tr>\n",
       "  </thead>\n",
       "  <tbody>\n",
       "    <tr>\n",
       "      <th>0</th>\n",
       "      <td>1.5</td>\n",
       "      <td>1.5</td>\n",
       "      <td>3.0</td>\n",
       "    </tr>\n",
       "    <tr>\n",
       "      <th>1</th>\n",
       "      <td>1.5</td>\n",
       "      <td>1.5</td>\n",
       "      <td>3.0</td>\n",
       "    </tr>\n",
       "    <tr>\n",
       "      <th>2</th>\n",
       "      <td>1.5</td>\n",
       "      <td>1.5</td>\n",
       "      <td>3.0</td>\n",
       "    </tr>\n",
       "    <tr>\n",
       "      <th>3</th>\n",
       "      <td>1.5</td>\n",
       "      <td>1.5</td>\n",
       "      <td>3.0</td>\n",
       "    </tr>\n",
       "    <tr>\n",
       "      <th>4</th>\n",
       "      <td>1.0</td>\n",
       "      <td>3.0</td>\n",
       "      <td>2.0</td>\n",
       "    </tr>\n",
       "  </tbody>\n",
       "</table>\n",
       "</div>"
      ],
      "text/plain": [
       "     b    a    c\n",
       "0  1.5  1.5  3.0\n",
       "1  1.5  1.5  3.0\n",
       "2  1.5  1.5  3.0\n",
       "3  1.5  1.5  3.0\n",
       "4  1.0  3.0  2.0"
      ]
     },
     "execution_count": 7,
     "metadata": {},
     "output_type": "execute_result"
    }
   ],
   "source": [
    "frame.rank(axis='columns')"
   ]
  },
  {
   "cell_type": "code",
   "execution_count": 8,
   "id": "89583c91",
   "metadata": {},
   "outputs": [
    {
     "data": {
      "text/html": [
       "<div>\n",
       "<style scoped>\n",
       "    .dataframe tbody tr th:only-of-type {\n",
       "        vertical-align: middle;\n",
       "    }\n",
       "\n",
       "    .dataframe tbody tr th {\n",
       "        vertical-align: top;\n",
       "    }\n",
       "\n",
       "    .dataframe thead th {\n",
       "        text-align: right;\n",
       "    }\n",
       "</style>\n",
       "<table border=\"1\" class=\"dataframe\">\n",
       "  <thead>\n",
       "    <tr style=\"text-align: right;\">\n",
       "      <th></th>\n",
       "      <th>b</th>\n",
       "      <th>a</th>\n",
       "      <th>c</th>\n",
       "    </tr>\n",
       "  </thead>\n",
       "  <tbody>\n",
       "    <tr>\n",
       "      <th>0</th>\n",
       "      <td>1.0</td>\n",
       "      <td>1.0</td>\n",
       "      <td>1.0</td>\n",
       "    </tr>\n",
       "    <tr>\n",
       "      <th>1</th>\n",
       "      <td>2.0</td>\n",
       "      <td>2.0</td>\n",
       "      <td>2.0</td>\n",
       "    </tr>\n",
       "    <tr>\n",
       "      <th>2</th>\n",
       "      <td>3.0</td>\n",
       "      <td>3.0</td>\n",
       "      <td>3.0</td>\n",
       "    </tr>\n",
       "    <tr>\n",
       "      <th>3</th>\n",
       "      <td>4.0</td>\n",
       "      <td>4.0</td>\n",
       "      <td>4.0</td>\n",
       "    </tr>\n",
       "    <tr>\n",
       "      <th>4</th>\n",
       "      <td>5.0</td>\n",
       "      <td>5.0</td>\n",
       "      <td>5.0</td>\n",
       "    </tr>\n",
       "  </tbody>\n",
       "</table>\n",
       "</div>"
      ],
      "text/plain": [
       "     b    a    c\n",
       "0  1.0  1.0  1.0\n",
       "1  2.0  2.0  2.0\n",
       "2  3.0  3.0  3.0\n",
       "3  4.0  4.0  4.0\n",
       "4  5.0  5.0  5.0"
      ]
     },
     "execution_count": 8,
     "metadata": {},
     "output_type": "execute_result"
    }
   ],
   "source": [
    "frame.rank(method='min')"
   ]
  },
  {
   "cell_type": "markdown",
   "id": "250be6a2",
   "metadata": {},
   "source": [
    "               The ranking based on row and columns\n",
    "The rank() method in Pandas with axis='columns'\n",
    "calculates the ranks along the columns of a DataFrame rather than along the rows.\n",
    "\n",
    "\n",
    "When you want to calculate the ranks along the rows of a DataFrame,\n",
    "you would use axis=1 in the rank() method in Pandas.    \n",
    "\n",
    "\n",
    "\n",
    "check once again \n",
    "\n",
    " which all are works\n",
    " \n",
    "        axis=0           # along row\n",
    "        axis=1             # along column\n",
    "        axis='column'      # along column"
   ]
  },
  {
   "cell_type": "code",
   "execution_count": 9,
   "id": "ad08cb93",
   "metadata": {},
   "outputs": [
    {
     "name": "stdout",
     "output_type": "stream",
     "text": [
      "column wise\n",
      "     A    B    C\n",
      "0  2.0  3.0  1.0\n",
      "1  1.0  2.0  3.0\n",
      "2  1.0  2.0  3.0\n",
      "row wise\n",
      "     A    B    C\n",
      "0  3.0  3.0  1.0\n",
      "1  1.0  2.0  2.0\n",
      "2  2.0  1.0  3.0\n"
     ]
    }
   ],
   "source": [
    "import pandas as pd\n",
    "\n",
    "data = {'A': [3, 1, 2],\n",
    "        'B': [9, 7, 6],\n",
    "        'C': [1, 10, 11]}\n",
    "df = pd.DataFrame(data)\n",
    "\n",
    "                                        # column wise    0 line 1 line 2 line in index\n",
    "\n",
    "column_ranks = df.rank(axis='columns')             #A  B   C\n",
    "print( \"column wise\")                             # 3  9  1\n",
    "                                                  # 1  7   10\n",
    "print(column_ranks)                               # 2  6   11\n",
    "\n",
    "\n",
    "\n",
    "row_ranks = df.rank(axis=0)    # row wise   A line B line C line likewise\n",
    "print(\"row wise\")\n",
    "print(row_ranks)"
   ]
  },
  {
   "cell_type": "markdown",
   "id": "6cfb017c",
   "metadata": {},
   "source": [
    "# Indexing  and Reindexing\n",
    "\n",
    " "
   ]
  },
  {
   "cell_type": "markdown",
   "id": "d0170c6a",
   "metadata": {},
   "source": [
    "# i) Indexing   \n",
    " index are immutable and thus can't modify by users\n",
    " \n",
    " "
   ]
  },
  {
   "cell_type": "raw",
   "id": "09e02235",
   "metadata": {},
   "source": [
    " \n",
    "\n",
    "syntex:             dataframe.reindex(keys, method, copy, level, fill_value, limit, tolerance)\n",
    "----------  \n",
    "  \n",
    " => index also behave like a fixed size set for being array \n",
    " => python index contain duplicate labels\n",
    "  \n",
    "  \n",
    "***   keys\t =>\tRequired. String or list containing row indexes or column labels\n",
    " \n",
    "  \n",
    "  \n",
    "***  method         'backfill','bfill','pad',ffill,nearest \n",
    "\n",
    "          [Optional, default None. Specifies the method to use when filling holes in the indexes.\n",
    "          For increasing/decreasing indexes only.]\n",
    "***  copy\t\n",
    "          True\n",
    "          False\t[Optional, default True. Whether to return a new object (a copy)\n",
    "                 when all the new indexes are the same as the old level\tNumber.]\n",
    "\n",
    "\n",
    "***  Label                                              Optional\n",
    "                                                   \n",
    "***  fill_value\t   List of values\t                   Optional, default NaN. Specifies the value to use for missing values\n",
    "\n",
    "***  limit\t       Number\t                           optional, default None.\n",
    "***  tolerance\t \t                                   Optional"
   ]
  },
  {
   "cell_type": "markdown",
   "id": "e8d0b0c6",
   "metadata": {},
   "source": [
    "Create index  and returning index\n",
    "    using range data\n"
   ]
  },
  {
   "cell_type": "code",
   "execution_count": 13,
   "id": "88d86770",
   "metadata": {},
   "outputs": [
    {
     "data": {
      "text/plain": [
       "Index(['2', '3', '4'], dtype='object')"
      ]
     },
     "execution_count": 13,
     "metadata": {},
     "output_type": "execute_result"
    }
   ],
   "source": [
    "import pandas as pd \n",
    "data=pd.Series(range(3),index=['2','3','4'])\n",
    "data.index"
   ]
  },
  {
   "cell_type": "code",
   "execution_count": 14,
   "id": "9923a4b5",
   "metadata": {},
   "outputs": [
    {
     "data": {
      "text/plain": [
       "Index(['3', '4'], dtype='object')"
      ]
     },
     "execution_count": 14,
     "metadata": {},
     "output_type": "execute_result"
    }
   ],
   "source": [
    "indexing=data.index\n",
    "indexing[1:]"
   ]
  },
  {
   "cell_type": "code",
   "execution_count": 15,
   "id": "67542b09",
   "metadata": {
    "scrolled": true
   },
   "outputs": [
    {
     "ename": "TypeError",
     "evalue": "Index does not support mutable operations",
     "output_type": "error",
     "traceback": [
      "\u001b[1;31m---------------------------------------------------------------------------\u001b[0m",
      "\u001b[1;31mTypeError\u001b[0m                                 Traceback (most recent call last)",
      "Cell \u001b[1;32mIn[15], line 1\u001b[0m\n\u001b[1;32m----> 1\u001b[0m \u001b[43mindexing\u001b[49m\u001b[43m[\u001b[49m\u001b[38;5;241;43m1\u001b[39;49m\u001b[43m]\u001b[49m\u001b[38;5;241m=\u001b[39m\u001b[38;5;124m'\u001b[39m\u001b[38;5;124md\u001b[39m\u001b[38;5;124m'\u001b[39m      \u001b[38;5;66;03m# type error,Index does not support mutable operations\u001b[39;00m\n",
      "File \u001b[1;32m~\\anaconda3\\Lib\\site-packages\\pandas\\core\\indexes\\base.py:5302\u001b[0m, in \u001b[0;36mIndex.__setitem__\u001b[1;34m(self, key, value)\u001b[0m\n\u001b[0;32m   5300\u001b[0m \u001b[38;5;129m@final\u001b[39m\n\u001b[0;32m   5301\u001b[0m \u001b[38;5;28;01mdef\u001b[39;00m \u001b[38;5;21m__setitem__\u001b[39m(\u001b[38;5;28mself\u001b[39m, key, value):\n\u001b[1;32m-> 5302\u001b[0m     \u001b[38;5;28;01mraise\u001b[39;00m \u001b[38;5;167;01mTypeError\u001b[39;00m(\u001b[38;5;124m\"\u001b[39m\u001b[38;5;124mIndex does not support mutable operations\u001b[39m\u001b[38;5;124m\"\u001b[39m)\n",
      "\u001b[1;31mTypeError\u001b[0m: Index does not support mutable operations"
     ]
    }
   ],
   "source": [
    "indexing[1]='d'      # type error,Index does not support mutable operations"
   ]
  },
  {
   "cell_type": "code",
   "execution_count": 18,
   "id": "52b8f34e",
   "metadata": {},
   "outputs": [
    {
     "data": {
      "text/plain": [
       "Int64Index([0, 1, 2], dtype='int64')"
      ]
     },
     "execution_count": 18,
     "metadata": {},
     "output_type": "execute_result"
    }
   ],
   "source": [
    "import numpy as np\n",
    "labels=pd.Index(np.arange(3))\n",
    "labels"
   ]
  },
  {
   "cell_type": "code",
   "execution_count": 19,
   "id": "b67c0ba1",
   "metadata": {},
   "outputs": [
    {
     "data": {
      "text/plain": [
       "0    11\n",
       "1    22\n",
       "2    33\n",
       "dtype: int64"
      ]
     },
     "execution_count": 19,
     "metadata": {},
     "output_type": "execute_result"
    }
   ],
   "source": [
    "data2=pd.Series([11,22,33],index=labels)\n",
    "data2"
   ]
  },
  {
   "cell_type": "code",
   "execution_count": 17,
   "id": "33ae407c",
   "metadata": {},
   "outputs": [
    {
     "data": {
      "text/html": [
       "<div>\n",
       "<style scoped>\n",
       "    .dataframe tbody tr th:only-of-type {\n",
       "        vertical-align: middle;\n",
       "    }\n",
       "\n",
       "    .dataframe tbody tr th {\n",
       "        vertical-align: top;\n",
       "    }\n",
       "\n",
       "    .dataframe thead th {\n",
       "        text-align: right;\n",
       "    }\n",
       "</style>\n",
       "<table border=\"1\" class=\"dataframe\">\n",
       "  <thead>\n",
       "    <tr style=\"text-align: right;\">\n",
       "      <th></th>\n",
       "      <th>b</th>\n",
       "      <th>a</th>\n",
       "      <th>c</th>\n",
       "    </tr>\n",
       "  </thead>\n",
       "  <tbody>\n",
       "    <tr>\n",
       "      <th>0</th>\n",
       "      <td>1</td>\n",
       "      <td>1</td>\n",
       "      <td>2</td>\n",
       "    </tr>\n",
       "    <tr>\n",
       "      <th>1</th>\n",
       "      <td>2</td>\n",
       "      <td>2</td>\n",
       "      <td>3</td>\n",
       "    </tr>\n",
       "    <tr>\n",
       "      <th>2</th>\n",
       "      <td>3</td>\n",
       "      <td>3</td>\n",
       "      <td>4</td>\n",
       "    </tr>\n",
       "    <tr>\n",
       "      <th>3</th>\n",
       "      <td>4</td>\n",
       "      <td>4</td>\n",
       "      <td>5</td>\n",
       "    </tr>\n",
       "    <tr>\n",
       "      <th>4</th>\n",
       "      <td>5</td>\n",
       "      <td>7</td>\n",
       "      <td>6</td>\n",
       "    </tr>\n",
       "  </tbody>\n",
       "</table>\n",
       "</div>"
      ],
      "text/plain": [
       "   b  a  c\n",
       "0  1  1  2\n",
       "1  2  2  3\n",
       "2  3  3  4\n",
       "3  4  4  5\n",
       "4  5  7  6"
      ]
     },
     "execution_count": 17,
     "metadata": {},
     "output_type": "execute_result"
    }
   ],
   "source": [
    "# index also behave like a fixed size set\n",
    "\n",
    "\n",
    "\n",
    "frame\n"
   ]
  },
  {
   "cell_type": "code",
   "execution_count": 21,
   "id": "b5be079f",
   "metadata": {},
   "outputs": [
    {
     "data": {
      "text/plain": [
       "Index(['b', 'a', 'c'], dtype='object')"
      ]
     },
     "execution_count": 21,
     "metadata": {},
     "output_type": "execute_result"
    }
   ],
   "source": [
    "frame.columns"
   ]
  },
  {
   "cell_type": "code",
   "execution_count": 22,
   "id": "4e6dc028",
   "metadata": {},
   "outputs": [
    {
     "data": {
      "text/plain": [
       "True"
      ]
     },
     "execution_count": 22,
     "metadata": {},
     "output_type": "execute_result"
    }
   ],
   "source": [
    "'b' in frame.columns"
   ]
  },
  {
   "cell_type": "code",
   "execution_count": 25,
   "id": "6b1f2f60",
   "metadata": {},
   "outputs": [
    {
     "data": {
      "text/plain": [
       "False"
      ]
     },
     "execution_count": 25,
     "metadata": {},
     "output_type": "execute_result"
    }
   ],
   "source": [
    "'1' in frame.columns"
   ]
  },
  {
   "cell_type": "code",
   "execution_count": 33,
   "id": "dab20fd9",
   "metadata": {},
   "outputs": [
    {
     "data": {
      "text/plain": [
       "Index(['a', 'a', 'b', 'c'], dtype='object')"
      ]
     },
     "execution_count": 33,
     "metadata": {},
     "output_type": "execute_result"
    }
   ],
   "source": [
    "# index contain duplicate labels\n",
    "dup_labels=pd.Index(['a','a','b','c'])\n",
    "dup_labels"
   ]
  },
  {
   "cell_type": "code",
   "execution_count": 34,
   "id": "56738f60",
   "metadata": {},
   "outputs": [
    {
     "data": {
      "text/plain": [
       "False"
      ]
     },
     "execution_count": 34,
     "metadata": {},
     "output_type": "execute_result"
    }
   ],
   "source": [
    "dup_labels.is_unique\n"
   ]
  },
  {
   "cell_type": "code",
   "execution_count": 36,
   "id": "fef1bb63",
   "metadata": {},
   "outputs": [
    {
     "data": {
      "text/plain": [
       "Index(['w', 'a', 'b', 'c'], dtype='object')"
      ]
     },
     "execution_count": 36,
     "metadata": {},
     "output_type": "execute_result"
    }
   ],
   "source": [
    "not_dup_labels=pd.Index(['w','a','b','c'])\n",
    "not_dup_labels"
   ]
  },
  {
   "cell_type": "code",
   "execution_count": 37,
   "id": "dd2e8c7e",
   "metadata": {},
   "outputs": [
    {
     "data": {
      "text/plain": [
       "True"
      ]
     },
     "execution_count": 37,
     "metadata": {},
     "output_type": "execute_result"
    }
   ],
   "source": [
    "not_dup_labels.is_unique"
   ]
  },
  {
   "cell_type": "code",
   "execution_count": 39,
   "id": "f3a71675",
   "metadata": {},
   "outputs": [
    {
     "data": {
      "text/plain": [
       "<bound method Index.delete of Index(['w', 'a', 'b', 'c'], dtype='object')>"
      ]
     },
     "execution_count": 39,
     "metadata": {},
     "output_type": "execute_result"
    }
   ],
   "source": [
    "not_dup_labels.delete"
   ]
  },
  {
   "cell_type": "code",
   "execution_count": 43,
   "id": "92afc227",
   "metadata": {},
   "outputs": [
    {
     "data": {
      "text/plain": [
       "<bound method Index.isin of Index(['w', 'a', 'b', 'c'], dtype='object')>"
      ]
     },
     "execution_count": 43,
     "metadata": {},
     "output_type": "execute_result"
    }
   ],
   "source": [
    "not_dup_labels.isin\n"
   ]
  },
  {
   "cell_type": "markdown",
   "id": "16513bdd",
   "metadata": {},
   "source": [
    "   some Index  Methods :\n",
    "    \n",
    "    \n",
    "    \n",
    "    append                concatenate with additional index object ,producting new index\n",
    "    difference            compute set difference as an index\n",
    "    intersection          compute set intersection\n",
    "    union                 compute set union\n",
    "    isin                  compute boolean array indicating whether each value is contained in the passed collection\n",
    "    delete                compute new index with element at index i deleted\n",
    "    drop                  compute new index by deleting passed values\n",
    "\n",
    "    insert                compute new index by inserting element at index i\n",
    "    is_monotonic          Returns true if each element is > or = to previous element\n",
    "    is_unique             Returns true if index has no duplicates\n",
    "    unique                compute array of unique values in the index"
   ]
  },
  {
   "cell_type": "code",
   "execution_count": 45,
   "id": "97da6054",
   "metadata": {},
   "outputs": [],
   "source": [
    "# try out these methods  "
   ]
  },
  {
   "cell_type": "markdown",
   "id": "45c10985",
   "metadata": {},
   "source": [
    "# ii)Reindexing"
   ]
  },
  {
   "cell_type": "code",
   "execution_count": null,
   "id": "6c5b3e8c",
   "metadata": {},
   "outputs": [],
   "source": [
    "reindex method also have arguments\n",
    "\n",
    "\n",
    "\n",
    "index \n",
    "method       => interpolation =>forward 'ffill', backward 'bfill'\n",
    "fill_value  =>substitute value to use when introducing  missing data by reindexing\n",
    "limit\n",
    "tolerance\n",
    "level    =>   match simple index on level of multiindex otherwise select subset of\n",
    "copy      =>  If True copy underlying data even if new index is equal to old index \n",
    "             if False donot copy  the data when index are equal"
   ]
  },
  {
   "cell_type": "code",
   "execution_count": 46,
   "id": "5076de37",
   "metadata": {},
   "outputs": [
    {
     "data": {
      "text/plain": [
       "a    2\n",
       "b    5\n",
       "c    5\n",
       "d    6\n",
       "e    7\n",
       "dtype: int64"
      ]
     },
     "execution_count": 46,
     "metadata": {},
     "output_type": "execute_result"
    }
   ],
   "source": [
    "data=pd.Series([2,5,5,6,7],index=['a','b','c','d','e'])\n",
    "data"
   ]
  },
  {
   "cell_type": "code",
   "execution_count": 48,
   "id": "ccf32a69",
   "metadata": {},
   "outputs": [
    {
     "data": {
      "text/plain": [
       "a    2.0\n",
       "b    5.0\n",
       "t    NaN\n",
       "s    NaN\n",
       "h    NaN\n",
       "dtype: float64"
      ]
     },
     "execution_count": 48,
     "metadata": {},
     "output_type": "execute_result"
    }
   ],
   "source": [
    "data2=data.reindex(['a','b','t','s','h'])\n",
    "data2"
   ]
  },
  {
   "cell_type": "code",
   "execution_count": 51,
   "id": "40b63de6",
   "metadata": {},
   "outputs": [
    {
     "name": "stdout",
     "output_type": "stream",
     "text": [
      "        age qualified\n",
      "Robert  NaN       NaN\n",
      "Cindy   NaN       NaN\n",
      "Chloe   NaN       NaN\n",
      "Pete    NaN       NaN\n"
     ]
    }
   ],
   "source": [
    "# reindexed values represented as NaN\n",
    "\n",
    "import pandas as pd\n",
    "\n",
    "data = {\n",
    "\"age\": [50, 40, 30, 40],\n",
    "\"qualified\": [True, False, False, False]\n",
    "}\n",
    "idx = [\"Sally\", \"Mary\", \"John\", \"Monica\"]\n",
    "df = pd.DataFrame(data, index=idx)\n",
    "\n",
    "newidx = [\"Robert\", \"Cindy\", \"Chloe\", \"Pete\"]\n",
    "newdf = df.reindex(newidx)                    #  new index  doesnot equal to old index , that's why it returns NaN\n",
    "print(newdf)"
   ]
  },
  {
   "cell_type": "code",
   "execution_count": 56,
   "id": "eacbf163",
   "metadata": {},
   "outputs": [
    {
     "data": {
      "text/html": [
       "<div>\n",
       "<style scoped>\n",
       "    .dataframe tbody tr th:only-of-type {\n",
       "        vertical-align: middle;\n",
       "    }\n",
       "\n",
       "    .dataframe tbody tr th {\n",
       "        vertical-align: top;\n",
       "    }\n",
       "\n",
       "    .dataframe thead th {\n",
       "        text-align: right;\n",
       "    }\n",
       "</style>\n",
       "<table border=\"1\" class=\"dataframe\">\n",
       "  <thead>\n",
       "    <tr style=\"text-align: right;\">\n",
       "      <th></th>\n",
       "      <th>age</th>\n",
       "      <th>name</th>\n",
       "    </tr>\n",
       "  </thead>\n",
       "  <tbody>\n",
       "    <tr>\n",
       "      <th>a</th>\n",
       "      <td>NaN</td>\n",
       "      <td>NaN</td>\n",
       "    </tr>\n",
       "    <tr>\n",
       "      <th>b</th>\n",
       "      <td>NaN</td>\n",
       "      <td>NaN</td>\n",
       "    </tr>\n",
       "  </tbody>\n",
       "</table>\n",
       "</div>"
      ],
      "text/plain": [
       "   age name\n",
       "a  NaN  NaN\n",
       "b  NaN  NaN"
      ]
     },
     "execution_count": 56,
     "metadata": {},
     "output_type": "execute_result"
    }
   ],
   "source": [
    "import pandas as pd\n",
    "data={'age':[49,45],'name':['niva','nivi']}\n",
    "indx=[2,3]\n",
    "df=pd.DataFrame(data,index=indx)\n",
    "new_indx=['a','b']\n",
    "newidx=df.reindex(new_indx)\n",
    "newidx"
   ]
  },
  {
   "cell_type": "code",
   "execution_count": 58,
   "id": "e4d9d102",
   "metadata": {},
   "outputs": [
    {
     "data": {
      "text/plain": [
       "{'age': [49, 45], 'name': ['niva', 'nivi']}"
      ]
     },
     "execution_count": 58,
     "metadata": {},
     "output_type": "execute_result"
    }
   ],
   "source": [
    "\n",
    "df.reindex(range(3),method='ffill')\n",
    "data"
   ]
  },
  {
   "cell_type": "code",
   "execution_count": 65,
   "id": "ae152774",
   "metadata": {},
   "outputs": [
    {
     "ename": "SyntaxError",
     "evalue": "invalid syntax. Maybe you meant '==' or ':=' instead of '='? (992013362.py, line 1)",
     "output_type": "error",
     "traceback": [
      "\u001b[1;36m  Cell \u001b[1;32mIn[65], line 1\u001b[1;36m\u001b[0m\n\u001b[1;33m    frame=pd.DataFrame(np.arange(9).reshape(3,3)),index=['a','b','c'],columns==['column1','column2','column3']\u001b[0m\n\u001b[1;37m    ^\u001b[0m\n\u001b[1;31mSyntaxError\u001b[0m\u001b[1;31m:\u001b[0m invalid syntax. Maybe you meant '==' or ':=' instead of '='?\n"
     ]
    }
   ],
   "source": [
    "frame=pd.DataFrame(np.arange(9).reshape(3,3)),index=['a','b','c'],columns==['column1','column2','column3']   # error check this \n",
    "frame"
   ]
  },
  {
   "cell_type": "code",
   "execution_count": 67,
   "id": "75ce4388",
   "metadata": {},
   "outputs": [
    {
     "data": {
      "text/html": [
       "<div>\n",
       "<style scoped>\n",
       "    .dataframe tbody tr th:only-of-type {\n",
       "        vertical-align: middle;\n",
       "    }\n",
       "\n",
       "    .dataframe tbody tr th {\n",
       "        vertical-align: top;\n",
       "    }\n",
       "\n",
       "    .dataframe thead th {\n",
       "        text-align: right;\n",
       "    }\n",
       "</style>\n",
       "<table border=\"1\" class=\"dataframe\">\n",
       "  <thead>\n",
       "    <tr style=\"text-align: right;\">\n",
       "      <th></th>\n",
       "      <th>tn</th>\n",
       "      <th>hh</th>\n",
       "      <th>dd</th>\n",
       "    </tr>\n",
       "  </thead>\n",
       "  <tbody>\n",
       "    <tr>\n",
       "      <th>0</th>\n",
       "      <td>NaN</td>\n",
       "      <td>NaN</td>\n",
       "      <td>NaN</td>\n",
       "    </tr>\n",
       "    <tr>\n",
       "      <th>1</th>\n",
       "      <td>NaN</td>\n",
       "      <td>NaN</td>\n",
       "      <td>NaN</td>\n",
       "    </tr>\n",
       "    <tr>\n",
       "      <th>2</th>\n",
       "      <td>NaN</td>\n",
       "      <td>NaN</td>\n",
       "      <td>NaN</td>\n",
       "    </tr>\n",
       "    <tr>\n",
       "      <th>3</th>\n",
       "      <td>NaN</td>\n",
       "      <td>NaN</td>\n",
       "      <td>NaN</td>\n",
       "    </tr>\n",
       "    <tr>\n",
       "      <th>4</th>\n",
       "      <td>NaN</td>\n",
       "      <td>NaN</td>\n",
       "      <td>NaN</td>\n",
       "    </tr>\n",
       "  </tbody>\n",
       "</table>\n",
       "</div>"
      ],
      "text/plain": [
       "   tn  hh  dd\n",
       "0 NaN NaN NaN\n",
       "1 NaN NaN NaN\n",
       "2 NaN NaN NaN\n",
       "3 NaN NaN NaN\n",
       "4 NaN NaN NaN"
      ]
     },
     "execution_count": 67,
     "metadata": {},
     "output_type": "execute_result"
    }
   ],
   "source": [
    "states=['tn','hh','dd']\n",
    "reframe=frame.reindex(columns=states)           # column name only changed\n",
    "reframe"
   ]
  },
  {
   "cell_type": "code",
   "execution_count": 3,
   "id": "d217bbb8",
   "metadata": {},
   "outputs": [
    {
     "data": {
      "text/html": [
       "<div>\n",
       "<style scoped>\n",
       "    .dataframe tbody tr th:only-of-type {\n",
       "        vertical-align: middle;\n",
       "    }\n",
       "\n",
       "    .dataframe tbody tr th {\n",
       "        vertical-align: top;\n",
       "    }\n",
       "\n",
       "    .dataframe thead th {\n",
       "        text-align: right;\n",
       "    }\n",
       "</style>\n",
       "<table border=\"1\" class=\"dataframe\">\n",
       "  <thead>\n",
       "    <tr style=\"text-align: right;\">\n",
       "      <th></th>\n",
       "      <th>name</th>\n",
       "      <th>NaN</th>\n",
       "    </tr>\n",
       "  </thead>\n",
       "  <tbody>\n",
       "    <tr>\n",
       "      <th>0</th>\n",
       "      <td>False</td>\n",
       "      <td>False</td>\n",
       "    </tr>\n",
       "    <tr>\n",
       "      <th>1</th>\n",
       "      <td>False</td>\n",
       "      <td>False</td>\n",
       "    </tr>\n",
       "    <tr>\n",
       "      <th>2</th>\n",
       "      <td>False</td>\n",
       "      <td>False</td>\n",
       "    </tr>\n",
       "  </tbody>\n",
       "</table>\n",
       "</div>"
      ],
      "text/plain": [
       "    name    NaN\n",
       "0  False  False\n",
       "1  False  False\n",
       "2  False  False"
      ]
     },
     "execution_count": 3,
     "metadata": {},
     "output_type": "execute_result"
    }
   ],
   "source": [
    "import pandas as pd\n",
    "import numpy as np\n",
    "data={'name':['niva','shar','sanju']\n",
    "     ,np.nan:['19','18','16']}\n",
    "df=pd.DataFrame(data)\n",
    "df.isnull()"
   ]
  },
  {
   "cell_type": "code",
   "execution_count": 4,
   "id": "e9366cc6",
   "metadata": {},
   "outputs": [
    {
     "data": {
      "text/html": [
       "<div>\n",
       "<style scoped>\n",
       "    .dataframe tbody tr th:only-of-type {\n",
       "        vertical-align: middle;\n",
       "    }\n",
       "\n",
       "    .dataframe tbody tr th {\n",
       "        vertical-align: top;\n",
       "    }\n",
       "\n",
       "    .dataframe thead th {\n",
       "        text-align: right;\n",
       "    }\n",
       "</style>\n",
       "<table border=\"1\" class=\"dataframe\">\n",
       "  <thead>\n",
       "    <tr style=\"text-align: right;\">\n",
       "      <th></th>\n",
       "      <th>name</th>\n",
       "      <th>NaN</th>\n",
       "    </tr>\n",
       "  </thead>\n",
       "  <tbody>\n",
       "    <tr>\n",
       "      <th>0</th>\n",
       "      <td>True</td>\n",
       "      <td>True</td>\n",
       "    </tr>\n",
       "    <tr>\n",
       "      <th>1</th>\n",
       "      <td>True</td>\n",
       "      <td>True</td>\n",
       "    </tr>\n",
       "    <tr>\n",
       "      <th>2</th>\n",
       "      <td>True</td>\n",
       "      <td>True</td>\n",
       "    </tr>\n",
       "  </tbody>\n",
       "</table>\n",
       "</div>"
      ],
      "text/plain": [
       "   name   NaN\n",
       "0  True  True\n",
       "1  True  True\n",
       "2  True  True"
      ]
     },
     "execution_count": 4,
     "metadata": {},
     "output_type": "execute_result"
    }
   ],
   "source": [
    "df.notnull()"
   ]
  },
  {
   "cell_type": "code",
   "execution_count": 11,
   "id": "4223bdd8",
   "metadata": {},
   "outputs": [
    {
     "data": {
      "text/html": [
       "<div>\n",
       "<style scoped>\n",
       "    .dataframe tbody tr th:only-of-type {\n",
       "        vertical-align: middle;\n",
       "    }\n",
       "\n",
       "    .dataframe tbody tr th {\n",
       "        vertical-align: top;\n",
       "    }\n",
       "\n",
       "    .dataframe thead th {\n",
       "        text-align: right;\n",
       "    }\n",
       "</style>\n",
       "<table border=\"1\" class=\"dataframe\">\n",
       "  <thead>\n",
       "    <tr style=\"text-align: right;\">\n",
       "      <th></th>\n",
       "      <th>name</th>\n",
       "      <th>NaN</th>\n",
       "    </tr>\n",
       "  </thead>\n",
       "  <tbody>\n",
       "    <tr>\n",
       "      <th>0</th>\n",
       "      <td>niva</td>\n",
       "      <td>19</td>\n",
       "    </tr>\n",
       "    <tr>\n",
       "      <th>1</th>\n",
       "      <td>0</td>\n",
       "      <td>18</td>\n",
       "    </tr>\n",
       "    <tr>\n",
       "      <th>2</th>\n",
       "      <td>sanju</td>\n",
       "      <td>0</td>\n",
       "    </tr>\n",
       "  </tbody>\n",
       "</table>\n",
       "</div>"
      ],
      "text/plain": [
       "    name NaN\n",
       "0   niva  19\n",
       "1      0  18\n",
       "2  sanju   0"
      ]
     },
     "execution_count": 11,
     "metadata": {},
     "output_type": "execute_result"
    }
   ],
   "source": [
    "import pandas as pd\n",
    "import numpy as np\n",
    "data={'name':['niva',np.nan,'sanju']\n",
    "     ,np.nan:['19','18',np.nan]}\n",
    "df=pd.DataFrame(data)\n",
    "df.fillna(0)"
   ]
  },
  {
   "cell_type": "code",
   "execution_count": 12,
   "id": "f9425018",
   "metadata": {},
   "outputs": [
    {
     "data": {
      "text/html": [
       "<div>\n",
       "<style scoped>\n",
       "    .dataframe tbody tr th:only-of-type {\n",
       "        vertical-align: middle;\n",
       "    }\n",
       "\n",
       "    .dataframe tbody tr th {\n",
       "        vertical-align: top;\n",
       "    }\n",
       "\n",
       "    .dataframe thead th {\n",
       "        text-align: right;\n",
       "    }\n",
       "</style>\n",
       "<table border=\"1\" class=\"dataframe\">\n",
       "  <thead>\n",
       "    <tr style=\"text-align: right;\">\n",
       "      <th></th>\n",
       "      <th>name</th>\n",
       "      <th>NaN</th>\n",
       "    </tr>\n",
       "  </thead>\n",
       "  <tbody>\n",
       "    <tr>\n",
       "      <th>0</th>\n",
       "      <td>niva</td>\n",
       "      <td>19</td>\n",
       "    </tr>\n",
       "    <tr>\n",
       "      <th>1</th>\n",
       "      <td>sanju</td>\n",
       "      <td>18</td>\n",
       "    </tr>\n",
       "    <tr>\n",
       "      <th>2</th>\n",
       "      <td>sanju</td>\n",
       "      <td>NaN</td>\n",
       "    </tr>\n",
       "  </tbody>\n",
       "</table>\n",
       "</div>"
      ],
      "text/plain": [
       "    name  NaN\n",
       "0   niva   19\n",
       "1  sanju   18\n",
       "2  sanju  NaN"
      ]
     },
     "execution_count": 12,
     "metadata": {},
     "output_type": "execute_result"
    }
   ],
   "source": [
    "\n",
    "df.fillna(method='bfill')"
   ]
  },
  {
   "cell_type": "raw",
   "id": "cf9cb8eb",
   "metadata": {},
   "source": [
    "df.fillna(method='pad')"
   ]
  },
  {
   "cell_type": "code",
   "execution_count": 14,
   "id": "bf9faea4",
   "metadata": {},
   "outputs": [
    {
     "data": {
      "text/plain": [
       "0    19\n",
       "Name: nan, dtype: object"
      ]
     },
     "execution_count": 14,
     "metadata": {},
     "output_type": "execute_result"
    }
   ],
   "source": [
    "df.iloc[:1,1]"
   ]
  },
  {
   "cell_type": "code",
   "execution_count": 15,
   "id": "d80de311",
   "metadata": {},
   "outputs": [
    {
     "data": {
      "text/plain": [
       "name    sanju\n",
       "NaN       NaN\n",
       "Name: 2, dtype: object"
      ]
     },
     "execution_count": 15,
     "metadata": {},
     "output_type": "execute_result"
    }
   ],
   "source": [
    "df.iloc[2,:2]"
   ]
  },
  {
   "cell_type": "code",
   "execution_count": null,
   "id": "c03b9a2f",
   "metadata": {},
   "outputs": [],
   "source": [
    "SAMPLE PROGRAM"
   ]
  },
  {
   "cell_type": "code",
   "execution_count": 1,
   "id": "e8be07cb",
   "metadata": {},
   "outputs": [
    {
     "name": "stdout",
     "output_type": "stream",
     "text": [
      "          a         b         c         d         e\n",
      "A  0.180164  0.706458  0.651602  0.407392  0.239765\n",
      "B  0.968994  0.853227  0.803450  0.928243  0.150734\n",
      "C  0.826725  0.233518  0.282751  0.512691  0.162685\n",
      "D  0.003031  0.385660  0.729674  0.379215  0.910797\n",
      "E  0.475828  0.049215  0.088729  0.996730  0.969761\n",
      "          a         b         c         d         e\n",
      "B  0.968994  0.853227  0.803450  0.928243  0.150734\n",
      "D  0.003031  0.385660  0.729674  0.379215  0.910797\n",
      "A  0.180164  0.706458  0.651602  0.407392  0.239765\n",
      "C  0.826725  0.233518  0.282751  0.512691  0.162685\n",
      "E  0.475828  0.049215  0.088729  0.996730  0.969761\n"
     ]
    }
   ],
   "source": [
    "import pandas as pd\n",
    "import numpy as np\n",
    "column=['a','b','c','d','e']\n",
    "index=['A','B','C','D','E']\n",
    "df=pd.DataFrame(np.random.rand(5,5),columns=column,index=index)\n",
    "print(df)\n",
    "re_indexed=df.reindex(['B','D','A','C','E'])\n",
    "print(re_indexed)"
   ]
  },
  {
   "cell_type": "code",
   "execution_count": 11,
   "id": "9da5fb55",
   "metadata": {},
   "outputs": [
    {
     "data": {
      "text/html": [
       "<div>\n",
       "<style scoped>\n",
       "    .dataframe tbody tr th:only-of-type {\n",
       "        vertical-align: middle;\n",
       "    }\n",
       "\n",
       "    .dataframe tbody tr th {\n",
       "        vertical-align: top;\n",
       "    }\n",
       "\n",
       "    .dataframe thead th {\n",
       "        text-align: right;\n",
       "    }\n",
       "</style>\n",
       "<table border=\"1\" class=\"dataframe\">\n",
       "  <thead>\n",
       "    <tr style=\"text-align: right;\">\n",
       "      <th></th>\n",
       "      <th>a</th>\n",
       "      <th>b</th>\n",
       "      <th>c</th>\n",
       "      <th>d</th>\n",
       "      <th>e</th>\n",
       "    </tr>\n",
       "  </thead>\n",
       "  <tbody>\n",
       "    <tr>\n",
       "      <th>U</th>\n",
       "      <td>NaN</td>\n",
       "      <td>NaN</td>\n",
       "      <td>NaN</td>\n",
       "      <td>NaN</td>\n",
       "      <td>NaN</td>\n",
       "    </tr>\n",
       "    <tr>\n",
       "      <th>A</th>\n",
       "      <td>0.338796</td>\n",
       "      <td>0.110059</td>\n",
       "      <td>0.398613</td>\n",
       "      <td>0.510555</td>\n",
       "      <td>0.932533</td>\n",
       "    </tr>\n",
       "    <tr>\n",
       "      <th>B</th>\n",
       "      <td>0.928588</td>\n",
       "      <td>0.445105</td>\n",
       "      <td>0.411387</td>\n",
       "      <td>0.059621</td>\n",
       "      <td>0.791675</td>\n",
       "    </tr>\n",
       "    <tr>\n",
       "      <th>O</th>\n",
       "      <td>NaN</td>\n",
       "      <td>NaN</td>\n",
       "      <td>NaN</td>\n",
       "      <td>NaN</td>\n",
       "      <td>NaN</td>\n",
       "    </tr>\n",
       "    <tr>\n",
       "      <th>Y</th>\n",
       "      <td>NaN</td>\n",
       "      <td>NaN</td>\n",
       "      <td>NaN</td>\n",
       "      <td>NaN</td>\n",
       "      <td>NaN</td>\n",
       "    </tr>\n",
       "  </tbody>\n",
       "</table>\n",
       "</div>"
      ],
      "text/plain": [
       "          a         b         c         d         e\n",
       "U       NaN       NaN       NaN       NaN       NaN\n",
       "A  0.338796  0.110059  0.398613  0.510555  0.932533\n",
       "B  0.928588  0.445105  0.411387  0.059621  0.791675\n",
       "O       NaN       NaN       NaN       NaN       NaN\n",
       "Y       NaN       NaN       NaN       NaN       NaN"
      ]
     },
     "execution_count": 11,
     "metadata": {},
     "output_type": "execute_result"
    }
   ],
   "source": [
    "again_re_index=['U','A','B','O','Y']\n",
    "new_df=df.reindex(again_re_index)\n",
    "new_df"
   ]
  },
  {
   "cell_type": "code",
   "execution_count": null,
   "id": "81c555be",
   "metadata": {},
   "outputs": [],
   "source": [
    "# see difference"
   ]
  },
  {
   "cell_type": "code",
   "execution_count": null,
   "id": "ba31970c",
   "metadata": {},
   "outputs": [],
   "source": [
    "REINDEXING is in the column using the axes to reindex.\n",
    "one can reindex single or multiple columns by using reindex method and by specifying the axis to reindex .\n",
    "Default values in the new index, that are not present in the database  are assign as NaN\n",
    "\n",
    "misssing values from the DataFrame can be fill by passing the value to the keyword \"fillvalue\".This fill value will replace NaN."
   ]
  },
  {
   "cell_type": "code",
   "execution_count": 6,
   "id": "279846c8",
   "metadata": {},
   "outputs": [
    {
     "name": "stdout",
     "output_type": "stream",
     "text": [
      "             U            A            B            O            Y\n",
      "A  datamissing  datamissing  datamissing  datamissing  datamissing\n",
      "B  datamissing  datamissing  datamissing  datamissing  datamissing\n",
      "C  datamissing  datamissing  datamissing  datamissing  datamissing\n",
      "D  datamissing  datamissing  datamissing  datamissing  datamissing\n",
      "E  datamissing  datamissing  datamissing  datamissing  datamissing\n"
     ]
    }
   ],
   "source": [
    "\n",
    "re_indexed=df.reindex(again_re_index,axis='columns',fill_value='datamissing')\n",
    "print(re_indexed)"
   ]
  },
  {
   "cell_type": "code",
   "execution_count": 10,
   "id": "fb47640b",
   "metadata": {},
   "outputs": [
    {
     "data": {
      "text/html": [
       "<div>\n",
       "<style scoped>\n",
       "    .dataframe tbody tr th:only-of-type {\n",
       "        vertical-align: middle;\n",
       "    }\n",
       "\n",
       "    .dataframe tbody tr th {\n",
       "        vertical-align: top;\n",
       "    }\n",
       "\n",
       "    .dataframe thead th {\n",
       "        text-align: right;\n",
       "    }\n",
       "</style>\n",
       "<table border=\"1\" class=\"dataframe\">\n",
       "  <thead>\n",
       "    <tr style=\"text-align: right;\">\n",
       "      <th></th>\n",
       "      <th>U</th>\n",
       "      <th>A</th>\n",
       "      <th>B</th>\n",
       "      <th>O</th>\n",
       "      <th>Y</th>\n",
       "    </tr>\n",
       "  </thead>\n",
       "  <tbody>\n",
       "    <tr>\n",
       "      <th>A</th>\n",
       "      <td>datamissing</td>\n",
       "      <td>datamissing</td>\n",
       "      <td>datamissing</td>\n",
       "      <td>datamissing</td>\n",
       "      <td>datamissing</td>\n",
       "    </tr>\n",
       "    <tr>\n",
       "      <th>B</th>\n",
       "      <td>datamissing</td>\n",
       "      <td>datamissing</td>\n",
       "      <td>datamissing</td>\n",
       "      <td>datamissing</td>\n",
       "      <td>datamissing</td>\n",
       "    </tr>\n",
       "    <tr>\n",
       "      <th>C</th>\n",
       "      <td>datamissing</td>\n",
       "      <td>datamissing</td>\n",
       "      <td>datamissing</td>\n",
       "      <td>datamissing</td>\n",
       "      <td>datamissing</td>\n",
       "    </tr>\n",
       "    <tr>\n",
       "      <th>D</th>\n",
       "      <td>datamissing</td>\n",
       "      <td>datamissing</td>\n",
       "      <td>datamissing</td>\n",
       "      <td>datamissing</td>\n",
       "      <td>datamissing</td>\n",
       "    </tr>\n",
       "    <tr>\n",
       "      <th>E</th>\n",
       "      <td>datamissing</td>\n",
       "      <td>datamissing</td>\n",
       "      <td>datamissing</td>\n",
       "      <td>datamissing</td>\n",
       "      <td>datamissing</td>\n",
       "    </tr>\n",
       "  </tbody>\n",
       "</table>\n",
       "</div>"
      ],
      "text/plain": [
       "             U            A            B            O            Y\n",
       "A  datamissing  datamissing  datamissing  datamissing  datamissing\n",
       "B  datamissing  datamissing  datamissing  datamissing  datamissing\n",
       "C  datamissing  datamissing  datamissing  datamissing  datamissing\n",
       "D  datamissing  datamissing  datamissing  datamissing  datamissing\n",
       "E  datamissing  datamissing  datamissing  datamissing  datamissing"
      ]
     },
     "execution_count": 10,
     "metadata": {},
     "output_type": "execute_result"
    }
   ],
   "source": [
    "re_indexed.fillna(0)"
   ]
  },
  {
   "cell_type": "code",
   "execution_count": 2,
   "id": "0cbfc898",
   "metadata": {},
   "outputs": [
    {
     "name": "stdout",
     "output_type": "stream",
     "text": [
      "---------BEFORE-------\n",
      "      age qualified\n",
      "niva   50      true\n",
      "nivi   70     false\n",
      "aami   40     false\n",
      "loga   30      true\n",
      "------Afters--------\n",
      "         0\n",
      "0  keerthi\n",
      "1  nithish\n",
      "2     shar\n",
      "3    sanju\n"
     ]
    }
   ],
   "source": [
    "import pandas as pd\n",
    "data={'age':[50,70,40,30],'qualified':['true','false','false','true']}\n",
    "idx=['niva','nivi','aami','loga']\n",
    "df=pd.DataFrame(data,index=idx)\n",
    "print(\"---------BEFORE-------\")\n",
    "print(df)\n",
    "new_idx=['keerthi','nithish','shar','sanju']\n",
    "df=pd.DataFrame(new_idx)\n",
    "print(\"------Afters--------\")\n",
    "print(df)"
   ]
  },
  {
   "cell_type": "markdown",
   "id": "27bf0ff5",
   "metadata": {},
   "source": [
    "# HIERARCHICAL INDEXING\n",
    "\n",
    "     "
   ]
  },
  {
   "cell_type": "code",
   "execution_count": null,
   "id": "02c892ac",
   "metadata": {},
   "outputs": [],
   "source": [
    "It is also known as Multi level indexing , is a powerful in pandas,a popular  python data munipulation library.\n",
    "\n",
    "It allows you to work with higher dimensional data within a DataFrame by creating multiple levels\n",
    "by creating multiple levels o indexes on rows and columns.\n",
    "\n",
    "This feature enables you to represent and manipulate complex data structures more efficiently.\n",
    "\n",
    "It provides a way for you to work with higher dimensional data in a lower dimensional form.\n"
   ]
  },
  {
   "cell_type": "raw",
   "id": "68582357",
   "metadata": {},
   "source": [
    "Benefits of Hierarchical indexing:\n",
    "    \n",
    "    \n",
    "    \n",
    "   😊 Multi-demensional data representation: \n",
    "         It enables the representation of higher dimensional data within the structure of a DataFrame \n",
    "                                           by organzing data across multiple levels of indexes on rows and columns.\n",
    "    \n",
    "   😊Flexible Data operation:\n",
    "        It  provides a way to perform operatios and analyses on grouped data subsets, \n",
    "        making it easier to handle and analyze complex data structures.\n",
    "        \n",
    "        \n",
    "   😊Indexing and Slicing:\n",
    "        it allows for advanced indexing and slicing operations, \n",
    "        making it simpler to access and manipulate specific sections of the data.\n",
    "        \n",
    "   😊Efficient Data Organization: \n",
    "        It facilitates the organization of complex datasets \n",
    "        by allowing for the arrangement of data in a structured and aiding in better data management.\n",
    "    \n",
    "   😊Data Aggregation and Reshaping:\n",
    "        It plays an important role in reshaping data and group based operations like forming a pivot table .For example : you could rearrange the data into a DataFrame using its unstack method.\n",
    "                \n",
    "                   data.unstack()\n",
    "                   \n",
    "         Inverse operation of unstack is stack:     data.unstack().stack()\n",
    "                   \n",
    "        \n",
    "        \n",
    "        It facilitates data aggregation and reshaping,\n",
    "        enabling users to transform and reshape their data for different analysis needs."
   ]
  },
  {
   "cell_type": "code",
   "execution_count": 3,
   "id": "f1756379",
   "metadata": {},
   "outputs": [
    {
     "data": {
      "text/plain": [
       "a  1   -0.658639\n",
       "   2    0.959597\n",
       "   3    1.488763\n",
       "b  1    0.918826\n",
       "   3   -0.372733\n",
       "c  1   -0.888725\n",
       "   2    1.763236\n",
       "d  2    1.719244\n",
       "   3   -1.014291\n",
       "dtype: float64"
      ]
     },
     "execution_count": 3,
     "metadata": {},
     "output_type": "execute_result"
    }
   ],
   "source": [
    "import pandas as pd\n",
    "import numpy as np\n",
    "data=pd.Series(np.random.randn(9),index=[['a','a','a','b','b','c','c','d','d'],[1,2,3,1,3,1,2,d2,3]])\n",
    "data"
   ]
  },
  {
   "cell_type": "code",
   "execution_count": 4,
   "id": "39f5550b",
   "metadata": {},
   "outputs": [
    {
     "data": {
      "text/plain": [
       "MultiIndex([('a', 1),\n",
       "            ('a', 2),\n",
       "            ('a', 3),\n",
       "            ('b', 1),\n",
       "            ('b', 3),\n",
       "            ('c', 1),\n",
       "            ('c', 2),\n",
       "            ('d', 2),\n",
       "            ('d', 3)],\n",
       "           )"
      ]
     },
     "execution_count": 4,
     "metadata": {},
     "output_type": "execute_result"
    }
   ],
   "source": [
    "data.index"
   ]
  },
  {
   "cell_type": "code",
   "execution_count": 5,
   "id": "bd64a109",
   "metadata": {},
   "outputs": [
    {
     "data": {
      "text/plain": [
       "1    0.918826\n",
       "3   -0.372733\n",
       "dtype: float64"
      ]
     },
     "execution_count": 5,
     "metadata": {},
     "output_type": "execute_result"
    }
   ],
   "source": [
    "data['b']"
   ]
  },
  {
   "cell_type": "code",
   "execution_count": 6,
   "id": "849c93ee",
   "metadata": {},
   "outputs": [
    {
     "data": {
      "text/plain": [
       "b  1    0.918826\n",
       "   3   -0.372733\n",
       "c  1   -0.888725\n",
       "   2    1.763236\n",
       "dtype: float64"
      ]
     },
     "execution_count": 6,
     "metadata": {},
     "output_type": "execute_result"
    }
   ],
   "source": [
    "data['b':'c']"
   ]
  },
  {
   "cell_type": "code",
   "execution_count": 7,
   "id": "2c8676ae",
   "metadata": {},
   "outputs": [
    {
     "data": {
      "text/plain": [
       "b  1    0.918826\n",
       "   3   -0.372733\n",
       "d  2    1.719244\n",
       "   3   -1.014291\n",
       "dtype: float64"
      ]
     },
     "execution_count": 7,
     "metadata": {},
     "output_type": "execute_result"
    }
   ],
   "source": [
    "data.loc[['b','d']]"
   ]
  },
  {
   "cell_type": "code",
   "execution_count": 8,
   "id": "baf61c0a",
   "metadata": {},
   "outputs": [
    {
     "data": {
      "text/plain": [
       "a    0.959597\n",
       "c    1.763236\n",
       "d    1.719244\n",
       "dtype: float64"
      ]
     },
     "execution_count": 8,
     "metadata": {},
     "output_type": "execute_result"
    }
   ],
   "source": [
    "data.loc[:,2]"
   ]
  },
  {
   "cell_type": "code",
   "execution_count": 9,
   "id": "b650b52a",
   "metadata": {},
   "outputs": [
    {
     "data": {
      "text/html": [
       "<div>\n",
       "<style scoped>\n",
       "    .dataframe tbody tr th:only-of-type {\n",
       "        vertical-align: middle;\n",
       "    }\n",
       "\n",
       "    .dataframe tbody tr th {\n",
       "        vertical-align: top;\n",
       "    }\n",
       "\n",
       "    .dataframe thead th {\n",
       "        text-align: right;\n",
       "    }\n",
       "</style>\n",
       "<table border=\"1\" class=\"dataframe\">\n",
       "  <thead>\n",
       "    <tr style=\"text-align: right;\">\n",
       "      <th></th>\n",
       "      <th>1</th>\n",
       "      <th>2</th>\n",
       "      <th>3</th>\n",
       "    </tr>\n",
       "  </thead>\n",
       "  <tbody>\n",
       "    <tr>\n",
       "      <th>a</th>\n",
       "      <td>-0.658639</td>\n",
       "      <td>0.959597</td>\n",
       "      <td>1.488763</td>\n",
       "    </tr>\n",
       "    <tr>\n",
       "      <th>b</th>\n",
       "      <td>0.918826</td>\n",
       "      <td>NaN</td>\n",
       "      <td>-0.372733</td>\n",
       "    </tr>\n",
       "    <tr>\n",
       "      <th>c</th>\n",
       "      <td>-0.888725</td>\n",
       "      <td>1.763236</td>\n",
       "      <td>NaN</td>\n",
       "    </tr>\n",
       "    <tr>\n",
       "      <th>d</th>\n",
       "      <td>NaN</td>\n",
       "      <td>1.719244</td>\n",
       "      <td>-1.014291</td>\n",
       "    </tr>\n",
       "  </tbody>\n",
       "</table>\n",
       "</div>"
      ],
      "text/plain": [
       "          1         2         3\n",
       "a -0.658639  0.959597  1.488763\n",
       "b  0.918826       NaN -0.372733\n",
       "c -0.888725  1.763236       NaN\n",
       "d       NaN  1.719244 -1.014291"
      ]
     },
     "execution_count": 9,
     "metadata": {},
     "output_type": "execute_result"
    }
   ],
   "source": [
    "  data.unstack()"
   ]
  },
  {
   "cell_type": "code",
   "execution_count": 10,
   "id": "aacbaaf2",
   "metadata": {},
   "outputs": [
    {
     "data": {
      "text/plain": [
       "a  1   -0.658639\n",
       "   2    0.959597\n",
       "   3    1.488763\n",
       "b  1    0.918826\n",
       "   3   -0.372733\n",
       "c  1   -0.888725\n",
       "   2    1.763236\n",
       "d  2    1.719244\n",
       "   3   -1.014291\n",
       "dtype: float64"
      ]
     },
     "execution_count": 10,
     "metadata": {},
     "output_type": "execute_result"
    }
   ],
   "source": [
    "data.unstack().stack()"
   ]
  },
  {
   "cell_type": "raw",
   "id": "afb5f71b",
   "metadata": {},
   "source": [
    "With a DataFrame , either axis can have a hierarchical index:\n",
    "    \n",
    "    "
   ]
  },
  {
   "cell_type": "code",
   "execution_count": null,
   "id": "23f5afaa",
   "metadata": {},
   "outputs": [],
   "source": []
  },
  {
   "cell_type": "code",
   "execution_count": 20,
   "id": "fbdc754f",
   "metadata": {},
   "outputs": [
    {
     "data": {
      "text/html": [
       "<div>\n",
       "<style scoped>\n",
       "    .dataframe tbody tr th:only-of-type {\n",
       "        vertical-align: middle;\n",
       "    }\n",
       "\n",
       "    .dataframe tbody tr th {\n",
       "        vertical-align: top;\n",
       "    }\n",
       "\n",
       "    .dataframe thead tr th {\n",
       "        text-align: left;\n",
       "    }\n",
       "</style>\n",
       "<table border=\"1\" class=\"dataframe\">\n",
       "  <thead>\n",
       "    <tr>\n",
       "      <th></th>\n",
       "      <th></th>\n",
       "      <th colspan=\"2\" halign=\"left\">ohio</th>\n",
       "      <th>colorado</th>\n",
       "    </tr>\n",
       "    <tr>\n",
       "      <th></th>\n",
       "      <th></th>\n",
       "      <th>Green</th>\n",
       "      <th>Red</th>\n",
       "      <th>Red</th>\n",
       "    </tr>\n",
       "  </thead>\n",
       "  <tbody>\n",
       "    <tr>\n",
       "      <th rowspan=\"2\" valign=\"top\">a</th>\n",
       "      <th>1</th>\n",
       "      <td>0</td>\n",
       "      <td>1</td>\n",
       "      <td>2</td>\n",
       "    </tr>\n",
       "    <tr>\n",
       "      <th>2</th>\n",
       "      <td>3</td>\n",
       "      <td>4</td>\n",
       "      <td>5</td>\n",
       "    </tr>\n",
       "    <tr>\n",
       "      <th rowspan=\"2\" valign=\"top\">b</th>\n",
       "      <th>1</th>\n",
       "      <td>6</td>\n",
       "      <td>7</td>\n",
       "      <td>8</td>\n",
       "    </tr>\n",
       "    <tr>\n",
       "      <th>2</th>\n",
       "      <td>9</td>\n",
       "      <td>10</td>\n",
       "      <td>11</td>\n",
       "    </tr>\n",
       "  </tbody>\n",
       "</table>\n",
       "</div>"
      ],
      "text/plain": [
       "     ohio     colorado\n",
       "    Green Red      Red\n",
       "a 1     0   1        2\n",
       "  2     3   4        5\n",
       "b 1     6   7        8\n",
       "  2     9  10       11"
      ]
     },
     "execution_count": 20,
     "metadata": {},
     "output_type": "execute_result"
    }
   ],
   "source": [
    "frame=pd.DataFrame(np.arange(12).reshape((4,3)),index=[['a','a','b','b'],[1,2,1,2]],\n",
    "                   columns=[['ohio','ohio','colorado'],['Green','Red','Red']])\n",
    "frame"
   ]
  },
  {
   "cell_type": "raw",
   "id": "0f67e09e",
   "metadata": {},
   "source": [
    "explanation:\n",
    "\n",
    "😁pd.DataFrame: This creates a pandas DataFrame.\n",
    "    \n",
    "😁np.arange(12).reshape((4,3)): \n",
    "    This NumPy function generates an array from 0 to 11 (12 elements) and reshapes it into a 4x3 matrix.\n",
    "    \n",
    "😁index=[['a','a','b','b'],[1,2,1,2]]:\n",
    "    This specifies a two-level index for the rows. \n",
    "    The rows are indexed hierarchically with the first level being 'a' and 'b' and the second level being 1 and 2.\n",
    "    \n",
    "😁columns=[['ohio','ohio','colorado'],['Green','Red','Red']]: \n",
    "    This sets a two-level column index. The first level consists of 'ohio' and 'colorado', \n",
    "    while the second level has 'Green' and 'Red' repeated under 'ohio' and 'Red' under 'colorado'."
   ]
  },
  {
   "cell_type": "markdown",
   "id": "4bc955b6",
   "metadata": {},
   "source": [
    "**What is Hierarchical Indexing?\n",
    "\n",
    "Hierarchical indexing, also known as multi-indexing,\n",
    "enables you to have multiple levels of indices for both rows and columns in a pandas DataFrame. \n",
    "It provides a way to represent higher-dimensional data in a tabular, two-dimensional structure.\n",
    "\n"
   ]
  },
  {
   "cell_type": "markdown",
   "id": "47f73dec",
   "metadata": {},
   "source": [
    "**Example:   Creating a DataFrame with Hierarchical Indexing\n"
   ]
  },
  {
   "cell_type": "code",
   "execution_count": 2,
   "id": "e2f68de5",
   "metadata": {
    "scrolled": true
   },
   "outputs": [
    {
     "name": "stdout",
     "output_type": "stream",
     "text": [
      "State            Ohio     Colorado\n",
      "Color           Green Red      Red\n",
      "Alphabet Number                   \n",
      "A        1          0   1        2\n",
      "         2          3   4        5\n",
      "B        1          6   7        8\n",
      "         2          9  10       11\n"
     ]
    }
   ],
   "source": [
    "import pandas as pd\n",
    "import numpy as np\n",
    "\n",
    "                                                            # Creating multi-level index arrays for rows and columns\n",
    "rows_index = [['A', 'A', 'B', 'B'], [1, 2, 1, 2]]\n",
    "columns_index = [['Ohio', 'Ohio', 'Colorado'], ['Green', 'Red', 'Red']]\n",
    "\n",
    "                                                                  # Creating the multi-index DataFrame\n",
    "data = np.arange(12).reshape((4, 3))\n",
    "multi_index = pd.DataFrame(data, index=rows_index, columns=columns_index)\n",
    "\n",
    "                                                                     # Naming the index levels\n",
    "multi_index.index.names = ['Alphabet', 'Number']\n",
    "multi_index.columns.names = ['State', 'Color']                        # Note , we can give index's name also\n",
    "\n",
    "print(multi_index)\n"
   ]
  },
  {
   "cell_type": "code",
   "execution_count": 3,
   "id": "1ca5a8a1",
   "metadata": {
    "scrolled": true
   },
   "outputs": [
    {
     "data": {
      "text/html": [
       "<div>\n",
       "<style scoped>\n",
       "    .dataframe tbody tr th:only-of-type {\n",
       "        vertical-align: middle;\n",
       "    }\n",
       "\n",
       "    .dataframe tbody tr th {\n",
       "        vertical-align: top;\n",
       "    }\n",
       "\n",
       "    .dataframe thead tr th {\n",
       "        text-align: left;\n",
       "    }\n",
       "\n",
       "    .dataframe thead tr:last-of-type th {\n",
       "        text-align: right;\n",
       "    }\n",
       "</style>\n",
       "<table border=\"1\" class=\"dataframe\">\n",
       "  <thead>\n",
       "    <tr>\n",
       "      <th></th>\n",
       "      <th>State</th>\n",
       "      <th colspan=\"2\" halign=\"left\">Ohio</th>\n",
       "      <th>Colorado</th>\n",
       "    </tr>\n",
       "    <tr>\n",
       "      <th></th>\n",
       "      <th>Color</th>\n",
       "      <th>Green</th>\n",
       "      <th>Red</th>\n",
       "      <th>Red</th>\n",
       "    </tr>\n",
       "    <tr>\n",
       "      <th>Alphabet</th>\n",
       "      <th>Number</th>\n",
       "      <th></th>\n",
       "      <th></th>\n",
       "      <th></th>\n",
       "    </tr>\n",
       "  </thead>\n",
       "  <tbody>\n",
       "    <tr>\n",
       "      <th rowspan=\"2\" valign=\"top\">A</th>\n",
       "      <th>1</th>\n",
       "      <td>0</td>\n",
       "      <td>1</td>\n",
       "      <td>2</td>\n",
       "    </tr>\n",
       "    <tr>\n",
       "      <th>2</th>\n",
       "      <td>3</td>\n",
       "      <td>4</td>\n",
       "      <td>5</td>\n",
       "    </tr>\n",
       "    <tr>\n",
       "      <th rowspan=\"2\" valign=\"top\">B</th>\n",
       "      <th>1</th>\n",
       "      <td>6</td>\n",
       "      <td>7</td>\n",
       "      <td>8</td>\n",
       "    </tr>\n",
       "    <tr>\n",
       "      <th>2</th>\n",
       "      <td>9</td>\n",
       "      <td>10</td>\n",
       "      <td>11</td>\n",
       "    </tr>\n",
       "  </tbody>\n",
       "</table>\n",
       "</div>"
      ],
      "text/plain": [
       "State            Ohio     Colorado\n",
       "Color           Green Red      Red\n",
       "Alphabet Number                   \n",
       "A        1          0   1        2\n",
       "         2          3   4        5\n",
       "B        1          6   7        8\n",
       "         2          9  10       11"
      ]
     },
     "execution_count": 3,
     "metadata": {},
     "output_type": "execute_result"
    }
   ],
   "source": [
    "multi_index"
   ]
  },
  {
   "cell_type": "markdown",
   "id": "4d7a9d14",
   "metadata": {},
   "source": [
    "# Reordering and Sorting levels  in Hierachical  indexing "
   ]
  },
  {
   "cell_type": "markdown",
   "id": "5758b94c",
   "metadata": {},
   "source": [
    "data.swaplevel('level1','level2')\n",
    "data.sort_index(level=0 or 1 or based on indexlevel)\n",
    "data.sort_index() => it sort based on 1st level that means  zero is first level like range (0,1,2,3....)"
   ]
  },
  {
   "cell_type": "code",
   "execution_count": 5,
   "id": "5b5e0d0c",
   "metadata": {
    "scrolled": false
   },
   "outputs": [
    {
     "data": {
      "text/html": [
       "<div>\n",
       "<style scoped>\n",
       "    .dataframe tbody tr th:only-of-type {\n",
       "        vertical-align: middle;\n",
       "    }\n",
       "\n",
       "    .dataframe tbody tr th {\n",
       "        vertical-align: top;\n",
       "    }\n",
       "\n",
       "    .dataframe thead tr th {\n",
       "        text-align: left;\n",
       "    }\n",
       "\n",
       "    .dataframe thead tr:last-of-type th {\n",
       "        text-align: right;\n",
       "    }\n",
       "</style>\n",
       "<table border=\"1\" class=\"dataframe\">\n",
       "  <thead>\n",
       "    <tr>\n",
       "      <th></th>\n",
       "      <th>State</th>\n",
       "      <th colspan=\"2\" halign=\"left\">Ohio</th>\n",
       "      <th>Colorado</th>\n",
       "    </tr>\n",
       "    <tr>\n",
       "      <th></th>\n",
       "      <th>Color</th>\n",
       "      <th>Green</th>\n",
       "      <th>Red</th>\n",
       "      <th>Red</th>\n",
       "    </tr>\n",
       "    <tr>\n",
       "      <th>Number</th>\n",
       "      <th>Alphabet</th>\n",
       "      <th></th>\n",
       "      <th></th>\n",
       "      <th></th>\n",
       "    </tr>\n",
       "  </thead>\n",
       "  <tbody>\n",
       "    <tr>\n",
       "      <th>1</th>\n",
       "      <th>A</th>\n",
       "      <td>0</td>\n",
       "      <td>1</td>\n",
       "      <td>2</td>\n",
       "    </tr>\n",
       "    <tr>\n",
       "      <th>2</th>\n",
       "      <th>A</th>\n",
       "      <td>3</td>\n",
       "      <td>4</td>\n",
       "      <td>5</td>\n",
       "    </tr>\n",
       "    <tr>\n",
       "      <th>1</th>\n",
       "      <th>B</th>\n",
       "      <td>6</td>\n",
       "      <td>7</td>\n",
       "      <td>8</td>\n",
       "    </tr>\n",
       "    <tr>\n",
       "      <th>2</th>\n",
       "      <th>B</th>\n",
       "      <td>9</td>\n",
       "      <td>10</td>\n",
       "      <td>11</td>\n",
       "    </tr>\n",
       "  </tbody>\n",
       "</table>\n",
       "</div>"
      ],
      "text/plain": [
       "State            Ohio     Colorado\n",
       "Color           Green Red      Red\n",
       "Number Alphabet                   \n",
       "1      A            0   1        2\n",
       "2      A            3   4        5\n",
       "1      B            6   7        8\n",
       "2      B            9  10       11"
      ]
     },
     "execution_count": 5,
     "metadata": {},
     "output_type": "execute_result"
    }
   ],
   "source": [
    "multi_index.swaplevel('Alphabet','Number')     # swaping index level"
   ]
  },
  {
   "cell_type": "code",
   "execution_count": 9,
   "id": "aa7aa28c",
   "metadata": {
    "scrolled": true
   },
   "outputs": [
    {
     "data": {
      "text/html": [
       "<div>\n",
       "<style scoped>\n",
       "    .dataframe tbody tr th:only-of-type {\n",
       "        vertical-align: middle;\n",
       "    }\n",
       "\n",
       "    .dataframe tbody tr th {\n",
       "        vertical-align: top;\n",
       "    }\n",
       "\n",
       "    .dataframe thead tr th {\n",
       "        text-align: left;\n",
       "    }\n",
       "\n",
       "    .dataframe thead tr:last-of-type th {\n",
       "        text-align: right;\n",
       "    }\n",
       "</style>\n",
       "<table border=\"1\" class=\"dataframe\">\n",
       "  <thead>\n",
       "    <tr>\n",
       "      <th></th>\n",
       "      <th>State</th>\n",
       "      <th colspan=\"2\" halign=\"left\">Ohio</th>\n",
       "      <th>Colorado</th>\n",
       "    </tr>\n",
       "    <tr>\n",
       "      <th></th>\n",
       "      <th>Color</th>\n",
       "      <th>Green</th>\n",
       "      <th>Red</th>\n",
       "      <th>Red</th>\n",
       "    </tr>\n",
       "    <tr>\n",
       "      <th>Alphabet</th>\n",
       "      <th>Number</th>\n",
       "      <th></th>\n",
       "      <th></th>\n",
       "      <th></th>\n",
       "    </tr>\n",
       "  </thead>\n",
       "  <tbody>\n",
       "    <tr>\n",
       "      <th>A</th>\n",
       "      <th>1</th>\n",
       "      <td>0</td>\n",
       "      <td>1</td>\n",
       "      <td>2</td>\n",
       "    </tr>\n",
       "    <tr>\n",
       "      <th>B</th>\n",
       "      <th>1</th>\n",
       "      <td>6</td>\n",
       "      <td>7</td>\n",
       "      <td>8</td>\n",
       "    </tr>\n",
       "    <tr>\n",
       "      <th>A</th>\n",
       "      <th>2</th>\n",
       "      <td>3</td>\n",
       "      <td>4</td>\n",
       "      <td>5</td>\n",
       "    </tr>\n",
       "    <tr>\n",
       "      <th>B</th>\n",
       "      <th>2</th>\n",
       "      <td>9</td>\n",
       "      <td>10</td>\n",
       "      <td>11</td>\n",
       "    </tr>\n",
       "  </tbody>\n",
       "</table>\n",
       "</div>"
      ],
      "text/plain": [
       "State            Ohio     Colorado\n",
       "Color           Green Red      Red\n",
       "Alphabet Number                   \n",
       "A        1          0   1        2\n",
       "B        1          6   7        8\n",
       "A        2          3   4        5\n",
       "B        2          9  10       11"
      ]
     },
     "execution_count": 9,
     "metadata": {},
     "output_type": "execute_result"
    }
   ],
   "source": [
    "multi_index.sort_index(level=1)       # sort the data using only the values in a single level\n",
    "                                      # Here two level= 0,1 "
   ]
  },
  {
   "cell_type": "code",
   "execution_count": 11,
   "id": "9915b433",
   "metadata": {},
   "outputs": [
    {
     "data": {
      "text/html": [
       "<div>\n",
       "<style scoped>\n",
       "    .dataframe tbody tr th:only-of-type {\n",
       "        vertical-align: middle;\n",
       "    }\n",
       "\n",
       "    .dataframe tbody tr th {\n",
       "        vertical-align: top;\n",
       "    }\n",
       "\n",
       "    .dataframe thead tr th {\n",
       "        text-align: left;\n",
       "    }\n",
       "\n",
       "    .dataframe thead tr:last-of-type th {\n",
       "        text-align: right;\n",
       "    }\n",
       "</style>\n",
       "<table border=\"1\" class=\"dataframe\">\n",
       "  <thead>\n",
       "    <tr>\n",
       "      <th></th>\n",
       "      <th>State</th>\n",
       "      <th colspan=\"2\" halign=\"left\">Ohio</th>\n",
       "      <th>Colorado</th>\n",
       "    </tr>\n",
       "    <tr>\n",
       "      <th></th>\n",
       "      <th>Color</th>\n",
       "      <th>Green</th>\n",
       "      <th>Red</th>\n",
       "      <th>Red</th>\n",
       "    </tr>\n",
       "    <tr>\n",
       "      <th>Alphabet</th>\n",
       "      <th>Number</th>\n",
       "      <th></th>\n",
       "      <th></th>\n",
       "      <th></th>\n",
       "    </tr>\n",
       "  </thead>\n",
       "  <tbody>\n",
       "    <tr>\n",
       "      <th rowspan=\"2\" valign=\"top\">A</th>\n",
       "      <th>1</th>\n",
       "      <td>0</td>\n",
       "      <td>1</td>\n",
       "      <td>2</td>\n",
       "    </tr>\n",
       "    <tr>\n",
       "      <th>2</th>\n",
       "      <td>3</td>\n",
       "      <td>4</td>\n",
       "      <td>5</td>\n",
       "    </tr>\n",
       "    <tr>\n",
       "      <th rowspan=\"2\" valign=\"top\">B</th>\n",
       "      <th>1</th>\n",
       "      <td>6</td>\n",
       "      <td>7</td>\n",
       "      <td>8</td>\n",
       "    </tr>\n",
       "    <tr>\n",
       "      <th>2</th>\n",
       "      <td>9</td>\n",
       "      <td>10</td>\n",
       "      <td>11</td>\n",
       "    </tr>\n",
       "  </tbody>\n",
       "</table>\n",
       "</div>"
      ],
      "text/plain": [
       "State            Ohio     Colorado\n",
       "Color           Green Red      Red\n",
       "Alphabet Number                   \n",
       "A        1          0   1        2\n",
       "         2          3   4        5\n",
       "B        1          6   7        8\n",
       "         2          9  10       11"
      ]
     },
     "execution_count": 11,
     "metadata": {},
     "output_type": "execute_result"
    }
   ],
   "source": [
    "multi_index.sort_index(level=0)         "
   ]
  },
  {
   "cell_type": "code",
   "execution_count": 10,
   "id": "16b7ea36",
   "metadata": {},
   "outputs": [
    {
     "data": {
      "text/html": [
       "<div>\n",
       "<style scoped>\n",
       "    .dataframe tbody tr th:only-of-type {\n",
       "        vertical-align: middle;\n",
       "    }\n",
       "\n",
       "    .dataframe tbody tr th {\n",
       "        vertical-align: top;\n",
       "    }\n",
       "\n",
       "    .dataframe thead tr th {\n",
       "        text-align: left;\n",
       "    }\n",
       "\n",
       "    .dataframe thead tr:last-of-type th {\n",
       "        text-align: right;\n",
       "    }\n",
       "</style>\n",
       "<table border=\"1\" class=\"dataframe\">\n",
       "  <thead>\n",
       "    <tr>\n",
       "      <th></th>\n",
       "      <th>State</th>\n",
       "      <th colspan=\"2\" halign=\"left\">Ohio</th>\n",
       "      <th>Colorado</th>\n",
       "    </tr>\n",
       "    <tr>\n",
       "      <th></th>\n",
       "      <th>Color</th>\n",
       "      <th>Green</th>\n",
       "      <th>Red</th>\n",
       "      <th>Red</th>\n",
       "    </tr>\n",
       "    <tr>\n",
       "      <th>Number</th>\n",
       "      <th>Alphabet</th>\n",
       "      <th></th>\n",
       "      <th></th>\n",
       "      <th></th>\n",
       "    </tr>\n",
       "  </thead>\n",
       "  <tbody>\n",
       "    <tr>\n",
       "      <th rowspan=\"2\" valign=\"top\">1</th>\n",
       "      <th>A</th>\n",
       "      <td>0</td>\n",
       "      <td>1</td>\n",
       "      <td>2</td>\n",
       "    </tr>\n",
       "    <tr>\n",
       "      <th>B</th>\n",
       "      <td>6</td>\n",
       "      <td>7</td>\n",
       "      <td>8</td>\n",
       "    </tr>\n",
       "    <tr>\n",
       "      <th rowspan=\"2\" valign=\"top\">2</th>\n",
       "      <th>A</th>\n",
       "      <td>3</td>\n",
       "      <td>4</td>\n",
       "      <td>5</td>\n",
       "    </tr>\n",
       "    <tr>\n",
       "      <th>B</th>\n",
       "      <td>9</td>\n",
       "      <td>10</td>\n",
       "      <td>11</td>\n",
       "    </tr>\n",
       "  </tbody>\n",
       "</table>\n",
       "</div>"
      ],
      "text/plain": [
       "State            Ohio     Colorado\n",
       "Color           Green Red      Red\n",
       "Number Alphabet                   \n",
       "1      A            0   1        2\n",
       "       B            6   7        8\n",
       "2      A            3   4        5\n",
       "       B            9  10       11"
      ]
     },
     "execution_count": 10,
     "metadata": {},
     "output_type": "execute_result"
    }
   ],
   "source": [
    "multi_index.swaplevel(0,1).sort_index(level=0)    #    lexicographincally sorted by the indicated level"
   ]
  },
  {
   "cell_type": "markdown",
   "id": "53bad3e6",
   "metadata": {},
   "source": [
    "**Features"
   ]
  },
  {
   "cell_type": "markdown",
   "id": "d55e472c",
   "metadata": {},
   "source": [
    "**Accessing Data:\n",
    "\n",
    ".loc[] allows you to access data based on the index levels."
   ]
  },
  {
   "cell_type": "code",
   "execution_count": 26,
   "id": "341b40a0",
   "metadata": {},
   "outputs": [
    {
     "data": {
      "text/plain": [
       "0"
      ]
     },
     "execution_count": 26,
     "metadata": {},
     "output_type": "execute_result"
    }
   ],
   "source": [
    "# Accessing a specific cell\n",
    "cell_value = multi_index.loc[('A', 1), ('Ohio', 'Green')]\n",
    "cell_value"
   ]
  },
  {
   "cell_type": "code",
   "execution_count": null,
   "id": "7402c69f",
   "metadata": {},
   "outputs": [],
   "source": [
    "Partial Indexing:\n",
    "\n",
    "Partial indexing allows selecting subsets of the data at various levels."
   ]
  },
  {
   "cell_type": "code",
   "execution_count": 29,
   "id": "847f7ff4",
   "metadata": {
    "scrolled": true
   },
   "outputs": [
    {
     "name": "stdout",
     "output_type": "stream",
     "text": [
      "subset A\n",
      "State   Ohio     Colorado\n",
      "Color  Green Red      Red\n",
      "Number                   \n",
      "1          0   1        2\n",
      "2          3   4        5\n",
      "ohio_data\n",
      "Color            Green  Red\n",
      "Alphabet Number            \n",
      "A        1           0    1\n",
      "         2           3    4\n",
      "B        1           6    7\n",
      "         2           9   10\n"
     ]
    }
   ],
   "source": [
    "# Selecting rows with Alphabet 'A'\n",
    "subset_A = multi_index.loc['A']\n",
    "\n",
    "# Selecting columns with State 'Ohio'\n",
    "ohio_data = multi_index.loc[:, 'Ohio']\n",
    "print(\"subset A\")\n",
    "print(subset_A)\n",
    "print(\"ohio_data\")\n",
    "print(ohio_data)"
   ]
  },
  {
   "cell_type": "markdown",
   "id": "e555eff7",
   "metadata": {},
   "source": [
    "**Index Slicing:\n",
    "\n",
    "Slicing lets you select a range of data based on the index levels."
   ]
  },
  {
   "cell_type": "code",
   "execution_count": 33,
   "id": "1ea67363",
   "metadata": {},
   "outputs": [
    {
     "name": "stdout",
     "output_type": "stream",
     "text": [
      "Slice Rows:\n",
      "    Colorado  Ohio    \n",
      "         Red Green Red\n",
      "A 1        2     0   1\n",
      "  2        5     3   4\n",
      "B 1        8     6   7\n",
      "  2       11     9  10\n",
      "\n",
      "Slice Columns:\n",
      "Empty DataFrame\n",
      "Columns: []\n",
      "Index: [(A, 1), (A, 2), (B, 1), (B, 2)]\n"
     ]
    }
   ],
   "source": [
    "import pandas as pd\n",
    "import numpy as np\n",
    "\n",
    "# Create the DataFrame with a MultiIndex\n",
    "rows_index = [['A', 'A', 'B', 'B'], [1, 2, 1, 2]]\n",
    "columns_index = [['Ohio', 'Ohio', 'Colorado'], ['Green', 'Red', 'Red']]\n",
    "data = np.arange(12).reshape((4, 3))\n",
    "multi_index = pd.DataFrame(data, index=rows_index, columns=columns_index)\n",
    "\n",
    "# Sort the index levels\n",
    "multi_index.sort_index(axis=0, level=0, inplace=True)  # Sort rows\n",
    "multi_index.sort_index(axis=1, level=0, inplace=True)  # Sort columns\n",
    "\n",
    "# Now, perform slicing operations\n",
    "slice_rows = multi_index.loc['A':'B']\n",
    "slice_columns = multi_index.loc[:, ('Ohio', 'Green'):('Colorado', 'Red')]\n",
    "\n",
    "print(\"Slice Rows:\")\n",
    "print(slice_rows)\n",
    "print(\"\\nSlice Columns:\")\n",
    "print(slice_columns)\n"
   ]
  },
  {
   "cell_type": "markdown",
   "id": "87f25e66",
   "metadata": {},
   "source": [
    "**Stacking and Unstacking:\n",
    "\n",
    "stack() and unstack() functions convert between hierarchical and regular indexing for rows and columns.\n"
   ]
  },
  {
   "cell_type": "code",
   "execution_count": 37,
   "id": "3f79e1ec",
   "metadata": {},
   "outputs": [
    {
     "name": "stdout",
     "output_type": "stream",
     "text": [
      "[None, None]\n",
      "[['Colorado', 'Ohio'], ['Green', 'Red']]\n"
     ]
    }
   ],
   "source": [
    "print(multi_index.columns.names)  # Print the names of levels in columns\n",
    "print(multi_index.columns.levels) # Print the actual levels in columns\n"
   ]
  },
  {
   "cell_type": "code",
   "execution_count": 14,
   "id": "70c1e403",
   "metadata": {
    "scrolled": true
   },
   "outputs": [
    {
     "data": {
      "text/html": [
       "<div>\n",
       "<style scoped>\n",
       "    .dataframe tbody tr th:only-of-type {\n",
       "        vertical-align: middle;\n",
       "    }\n",
       "\n",
       "    .dataframe tbody tr th {\n",
       "        vertical-align: top;\n",
       "    }\n",
       "\n",
       "    .dataframe thead th {\n",
       "        text-align: right;\n",
       "    }\n",
       "</style>\n",
       "<table border=\"1\" class=\"dataframe\">\n",
       "  <thead>\n",
       "    <tr style=\"text-align: right;\">\n",
       "      <th></th>\n",
       "      <th></th>\n",
       "      <th>State</th>\n",
       "      <th>Colorado</th>\n",
       "      <th>Ohio</th>\n",
       "    </tr>\n",
       "    <tr>\n",
       "      <th>Alphabet</th>\n",
       "      <th>Number</th>\n",
       "      <th>Color</th>\n",
       "      <th></th>\n",
       "      <th></th>\n",
       "    </tr>\n",
       "  </thead>\n",
       "  <tbody>\n",
       "    <tr>\n",
       "      <th rowspan=\"4\" valign=\"top\">A</th>\n",
       "      <th rowspan=\"2\" valign=\"top\">1</th>\n",
       "      <th>Green</th>\n",
       "      <td>NaN</td>\n",
       "      <td>0</td>\n",
       "    </tr>\n",
       "    <tr>\n",
       "      <th>Red</th>\n",
       "      <td>2.0</td>\n",
       "      <td>1</td>\n",
       "    </tr>\n",
       "    <tr>\n",
       "      <th rowspan=\"2\" valign=\"top\">2</th>\n",
       "      <th>Green</th>\n",
       "      <td>NaN</td>\n",
       "      <td>3</td>\n",
       "    </tr>\n",
       "    <tr>\n",
       "      <th>Red</th>\n",
       "      <td>5.0</td>\n",
       "      <td>4</td>\n",
       "    </tr>\n",
       "    <tr>\n",
       "      <th rowspan=\"4\" valign=\"top\">B</th>\n",
       "      <th rowspan=\"2\" valign=\"top\">1</th>\n",
       "      <th>Green</th>\n",
       "      <td>NaN</td>\n",
       "      <td>6</td>\n",
       "    </tr>\n",
       "    <tr>\n",
       "      <th>Red</th>\n",
       "      <td>8.0</td>\n",
       "      <td>7</td>\n",
       "    </tr>\n",
       "    <tr>\n",
       "      <th rowspan=\"2\" valign=\"top\">2</th>\n",
       "      <th>Green</th>\n",
       "      <td>NaN</td>\n",
       "      <td>9</td>\n",
       "    </tr>\n",
       "    <tr>\n",
       "      <th>Red</th>\n",
       "      <td>11.0</td>\n",
       "      <td>10</td>\n",
       "    </tr>\n",
       "  </tbody>\n",
       "</table>\n",
       "</div>"
      ],
      "text/plain": [
       "State                  Colorado  Ohio\n",
       "Alphabet Number Color                \n",
       "A        1      Green       NaN     0\n",
       "                Red         2.0     1\n",
       "         2      Green       NaN     3\n",
       "                Red         5.0     4\n",
       "B        1      Green       NaN     6\n",
       "                Red         8.0     7\n",
       "         2      Green       NaN     9\n",
       "                Red        11.0    10"
      ]
     },
     "execution_count": 14,
     "metadata": {},
     "output_type": "execute_result"
    }
   ],
   "source": [
    "stack_index_data=multi_index.stack()\n",
    "stack_index_data"
   ]
  },
  {
   "cell_type": "code",
   "execution_count": 15,
   "id": "208f2506",
   "metadata": {},
   "outputs": [
    {
     "data": {
      "text/html": [
       "<div>\n",
       "<style scoped>\n",
       "    .dataframe tbody tr th:only-of-type {\n",
       "        vertical-align: middle;\n",
       "    }\n",
       "\n",
       "    .dataframe tbody tr th {\n",
       "        vertical-align: top;\n",
       "    }\n",
       "\n",
       "    .dataframe thead tr th {\n",
       "        text-align: left;\n",
       "    }\n",
       "\n",
       "    .dataframe thead tr:last-of-type th {\n",
       "        text-align: right;\n",
       "    }\n",
       "</style>\n",
       "<table border=\"1\" class=\"dataframe\">\n",
       "  <thead>\n",
       "    <tr>\n",
       "      <th></th>\n",
       "      <th>State</th>\n",
       "      <th colspan=\"2\" halign=\"left\">Colorado</th>\n",
       "      <th colspan=\"2\" halign=\"left\">Ohio</th>\n",
       "    </tr>\n",
       "    <tr>\n",
       "      <th></th>\n",
       "      <th>Color</th>\n",
       "      <th>Green</th>\n",
       "      <th>Red</th>\n",
       "      <th>Green</th>\n",
       "      <th>Red</th>\n",
       "    </tr>\n",
       "    <tr>\n",
       "      <th>Alphabet</th>\n",
       "      <th>Number</th>\n",
       "      <th></th>\n",
       "      <th></th>\n",
       "      <th></th>\n",
       "      <th></th>\n",
       "    </tr>\n",
       "  </thead>\n",
       "  <tbody>\n",
       "    <tr>\n",
       "      <th rowspan=\"2\" valign=\"top\">A</th>\n",
       "      <th>1</th>\n",
       "      <td>NaN</td>\n",
       "      <td>2.0</td>\n",
       "      <td>0</td>\n",
       "      <td>1</td>\n",
       "    </tr>\n",
       "    <tr>\n",
       "      <th>2</th>\n",
       "      <td>NaN</td>\n",
       "      <td>5.0</td>\n",
       "      <td>3</td>\n",
       "      <td>4</td>\n",
       "    </tr>\n",
       "    <tr>\n",
       "      <th rowspan=\"2\" valign=\"top\">B</th>\n",
       "      <th>1</th>\n",
       "      <td>NaN</td>\n",
       "      <td>8.0</td>\n",
       "      <td>6</td>\n",
       "      <td>7</td>\n",
       "    </tr>\n",
       "    <tr>\n",
       "      <th>2</th>\n",
       "      <td>NaN</td>\n",
       "      <td>11.0</td>\n",
       "      <td>9</td>\n",
       "      <td>10</td>\n",
       "    </tr>\n",
       "  </tbody>\n",
       "</table>\n",
       "</div>"
      ],
      "text/plain": [
       "State           Colorado        Ohio    \n",
       "Color              Green   Red Green Red\n",
       "Alphabet Number                         \n",
       "A        1           NaN   2.0     0   1\n",
       "         2           NaN   5.0     3   4\n",
       "B        1           NaN   8.0     6   7\n",
       "         2           NaN  11.0     9  10"
      ]
     },
     "execution_count": 15,
     "metadata": {},
     "output_type": "execute_result"
    }
   ],
   "source": [
    "stack_index_data.unstack()"
   ]
  },
  {
   "cell_type": "markdown",
   "id": "7e99228b",
   "metadata": {},
   "source": [
    "**Conclusion\n",
    "\n",
    "Data selection performance is much better on hierarchically indexed objects \n",
    "if the index is lexicographically sorted starting with the outermost level \n",
    "[-that is  the result of calling sort_index(level=0)or sort_index()].\n",
    "\n",
    "\n",
    "Hierarchical indexing in pandas is a powerful feature allowing the representation and manipulation of complex,\n",
    "higher-dimensional data within a DataFrame structure. \n",
    "\n",
    "It offers flexibility in data selection, manipulation, and analysis through its various functionalities, \n",
    "making it a valuable tool in data analysis and manipulation workflows."
   ]
  }
 ],
 "metadata": {
  "kernelspec": {
   "display_name": "Python 3 (ipykernel)",
   "language": "python",
   "name": "python3"
  },
  "language_info": {
   "codemirror_mode": {
    "name": "ipython",
    "version": 3
   },
   "file_extension": ".py",
   "mimetype": "text/x-python",
   "name": "python",
   "nbconvert_exporter": "python",
   "pygments_lexer": "ipython3",
   "version": "3.11.3"
  }
 },
 "nbformat": 4,
 "nbformat_minor": 5
}
