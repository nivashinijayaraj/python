{
 "cells": [
  {
   "cell_type": "code",
   "execution_count": null,
   "id": "bcf430ff",
   "metadata": {},
   "outputs": [],
   "source": [
    "Question10. Write a program to accept n and display its multiplication table. Value of n must\n",
    "be provided by the user. (Example: n * 1, n * 2,....,n*10) (Use for loop)"
   ]
  },
  {
   "cell_type": "code",
   "execution_count": 1,
   "id": "7e8e233c",
   "metadata": {},
   "outputs": [
    {
     "name": "stdout",
     "output_type": "stream",
     "text": [
      "Enter a number: 4\n",
      "Multiplication table of 4\n",
      "4 * 1 = 4\n",
      "4 * 2 = 8\n",
      "4 * 3 = 12\n",
      "4 * 4 = 16\n",
      "4 * 5 = 20\n",
      "4 * 6 = 24\n",
      "4 * 7 = 28\n",
      "4 * 8 = 32\n",
      "4 * 9 = 36\n",
      "4 * 10 = 40\n"
     ]
    }
   ],
   "source": [
    "n = int(input(\"Enter a number: \"))\n",
    "print(\"Multiplication table of\", n)\n",
    "for i in range(1, 11):\n",
    "    print(n, \"*\", i, \"=\", n * i)\n"
   ]
  },
  {
   "cell_type": "code",
   "execution_count": null,
   "id": "d6b7f900",
   "metadata": {},
   "outputs": [],
   "source": []
  }
 ],
 "metadata": {
  "kernelspec": {
   "display_name": "Python 3 (ipykernel)",
   "language": "python",
   "name": "python3"
  },
  "language_info": {
   "codemirror_mode": {
    "name": "ipython",
    "version": 3
   },
   "file_extension": ".py",
   "mimetype": "text/x-python",
   "name": "python",
   "nbconvert_exporter": "python",
   "pygments_lexer": "ipython3",
   "version": "3.11.3"
  }
 },
 "nbformat": 4,
 "nbformat_minor": 5
}
