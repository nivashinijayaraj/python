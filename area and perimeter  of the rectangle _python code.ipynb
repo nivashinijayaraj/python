{
 "cells": [
  {
   "cell_type": "markdown",
   "id": "74fe0220",
   "metadata": {},
   "source": [
    "Question1. Write a program in Python to input length and breadth of a rectangle and print the\n",
    "area and perimeter of it.\n",
    " Test you code with atleast 2 test cases"
   ]
  },
  {
   "cell_type": "code",
   "execution_count": 1,
   "id": "f59940ec",
   "metadata": {},
   "outputs": [
    {
     "name": "stdout",
     "output_type": "stream",
     "text": [
      "Enter the length:100\n",
      "Enter the width:200\n",
      "Area of the Rectangle: 20000.0\n",
      "Perimeter of the Rectangle 40000.0\n"
     ]
    }
   ],
   "source": [
    "length=float(input(\"Enter the length:\"))\n",
    "width=float(input(\"Enter the width:\"))\n",
    "area=(length*width)\n",
    "perimeter=(2*(length*width))\n",
    "print(\"Area of the Rectangle:\",area)\n",
    "print(\"Perimeter of the Rectangle\",perimeter)"
   ]
  },
  {
   "cell_type": "code",
   "execution_count": null,
   "id": "d08cd09f",
   "metadata": {},
   "outputs": [],
   "source": []
  }
 ],
 "metadata": {
  "kernelspec": {
   "display_name": "Python 3 (ipykernel)",
   "language": "python",
   "name": "python3"
  },
  "language_info": {
   "codemirror_mode": {
    "name": "ipython",
    "version": 3
   },
   "file_extension": ".py",
   "mimetype": "text/x-python",
   "name": "python",
   "nbconvert_exporter": "python",
   "pygments_lexer": "ipython3",
   "version": "3.11.3"
  }
 },
 "nbformat": 4,
 "nbformat_minor": 5
}
