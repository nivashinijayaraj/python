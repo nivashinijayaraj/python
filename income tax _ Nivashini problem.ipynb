{
 "cells": [
  {
   "cell_type": "markdown",
   "metadata": {},
   "source": [
    "Nivashinilabsheet problem 2"
   ]
  },
  {
   "cell_type": "code",
   "execution_count": 2,
   "metadata": {},
   "outputs": [
    {
     "name": "stdout",
     "output_type": "stream",
     "text": [
      "name: Nivashini\n",
      "income: 600000\n",
      "tax: 180000.0\n"
     ]
    }
   ],
   "source": [
    "name=\"Nivashini\"\n",
    "a=600000\n",
    "if(a<150000):\n",
    "    tax=0\n",
    "elif(150000<a<300000):\n",
    "        tax=(a*(20/100))\n",
    "elif(a>300000):\n",
    "            tax=(a*(30/100))\n",
    "print(\"name:\",name)\n",
    "print(\"income:\",a)\n",
    "print(\"tax:\",tax)\n",
    "            "
   ]
  },
  {
   "cell_type": "code",
   "execution_count": null,
   "metadata": {},
   "outputs": [],
   "source": []
  }
 ],
 "metadata": {
  "kernelspec": {
   "display_name": "Python 3",
   "language": "python",
   "name": "python3"
  },
  "language_info": {
   "codemirror_mode": {
    "name": "ipython",
    "version": 3
   },
   "file_extension": ".py",
   "mimetype": "text/x-python",
   "name": "python",
   "nbconvert_exporter": "python",
   "pygments_lexer": "ipython3",
   "version": "3.6.4"
  }
 },
 "nbformat": 4,
 "nbformat_minor": 2
}
