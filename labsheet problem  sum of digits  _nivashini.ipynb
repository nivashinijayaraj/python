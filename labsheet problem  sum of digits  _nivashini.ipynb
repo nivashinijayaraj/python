{
 "cells": [
  {
   "cell_type": "markdown",
   "id": "0cd9dbff",
   "metadata": {},
   "source": [
    "Question11. Write a program that receives an integer and prints the sum of its digits. For\n",
    "example, an input 125 will print output 1+2+5=8.\n",
    " Try out with the following test cases\n",
    " 125\n",
    " 12\n",
    " 2\n",
    " -15"
   ]
  },
  {
   "cell_type": "code",
   "execution_count": null,
   "id": "4adcfc6d",
   "metadata": {},
   "outputs": [
    {
     "name": "stdout",
     "output_type": "stream",
     "text": [
      "enter the number:125\n",
      "sum of the digits: 1+2+5 = 8\n",
      "enter the number:12\n",
      "sum of the digits: 1+2 = 3\n",
      "enter the number:1\n",
      "sum of the digits: 1 = 1\n",
      "enter the number:-15\n",
      "sum of the digits: 1+5 = 6\n"
     ]
    }
   ],
   "source": [
    "while True:\n",
    "    n=int(input(\"enter the number:\"))\n",
    "    n=abs(n)  # convert number to positive number\n",
    "    sum=0\n",
    "    \n",
    "    for i in str(n):\n",
    "         sum=sum+int(i)\n",
    "    print(\"sum of the digits:\",\"+\".join(str(n)),\"=\",sum)    "
   ]
  },
  {
   "cell_type": "code",
   "execution_count": null,
   "id": "7c24f2aa",
   "metadata": {},
   "outputs": [],
   "source": []
  }
 ],
 "metadata": {
  "kernelspec": {
   "display_name": "Python 3 (ipykernel)",
   "language": "python",
   "name": "python3"
  },
  "language_info": {
   "codemirror_mode": {
    "name": "ipython",
    "version": 3
   },
   "file_extension": ".py",
   "mimetype": "text/x-python",
   "name": "python",
   "nbconvert_exporter": "python",
   "pygments_lexer": "ipython3",
   "version": "3.11.3"
  }
 },
 "nbformat": 4,
 "nbformat_minor": 5
}
