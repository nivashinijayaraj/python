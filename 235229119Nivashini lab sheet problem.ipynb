{
 "cells": [
  {
   "cell_type": "markdown",
   "metadata": {},
   "source": [
    "Question3. Write a program to accept quantity and rate for three (3) items. Compute the total\n",
    "sales amount. Also compute and print the discount as follows:\n",
    " Amount > Rs. 2000/- : 20% discount\n",
    " Amount between Rs. 1500/- to Rs.1999/- :15% discount\n",
    " Amount between Rs. 1000/- to Rs.1499/- 8 % discount\n",
    " Compute final amount to be paid.\n",
    " Print name, rate and quantity of 3 items. Then print total sales amount, total discount\n",
    "and final amount to be paid to shop.\n",
    " Write 3 test cases to validate all conditions"
   ]
  },
  {
   "cell_type": "code",
   "execution_count": 1,
   "metadata": {},
   "outputs": [
    {
     "name": "stdout",
     "output_type": "stream",
     "text": [
      "enter your name:Nivashini\n",
      "enter your 1st item:kajal\n",
      "enter your 2nd item:eyeliner\n",
      "enter your 3rd item:lipbalm\n",
      "enter your 1st item price:100\n",
      "enter your 2nd item price:100\n",
      "enter your 3rd item price:100\n",
      "enter your 1st item quantity:1\n",
      "enter your 2nd item quantiy:1\n",
      "enter your 3rd item quantity:1\n"
     ]
    },
    {
     "ename": "NameError",
     "evalue": "name 'T' is not defined",
     "output_type": "error",
     "traceback": [
      "\u001b[1;31m---------------------------------------------------------------------------\u001b[0m",
      "\u001b[1;31mNameError\u001b[0m                                 Traceback (most recent call last)",
      "Cell \u001b[1;32mIn[1], line 11\u001b[0m\n\u001b[0;32m      9\u001b[0m q2\u001b[38;5;241m=\u001b[39m\u001b[38;5;28mint\u001b[39m(\u001b[38;5;28minput\u001b[39m(\u001b[38;5;124m\"\u001b[39m\u001b[38;5;124menter your 2nd item quantiy:\u001b[39m\u001b[38;5;124m\"\u001b[39m))\n\u001b[0;32m     10\u001b[0m q3\u001b[38;5;241m=\u001b[39m\u001b[38;5;28mint\u001b[39m(\u001b[38;5;28minput\u001b[39m(\u001b[38;5;124m\"\u001b[39m\u001b[38;5;124menter your 3rd item quantity:\u001b[39m\u001b[38;5;124m\"\u001b[39m))\n\u001b[1;32m---> 11\u001b[0m \u001b[38;5;28;01mif\u001b[39;00m(\u001b[43mT\u001b[49m\u001b[38;5;241m>\u001b[39m\u001b[38;5;241m2000\u001b[39m):\n\u001b[0;32m     12\u001b[0m     discount\u001b[38;5;241m=\u001b[39m(\u001b[38;5;241m20\u001b[39m\u001b[38;5;241m/\u001b[39m\u001b[38;5;241m100\u001b[39m)\n\u001b[0;32m     13\u001b[0m \u001b[38;5;28;01melif\u001b[39;00m(\u001b[38;5;241m1500\u001b[39m\u001b[38;5;241m<\u001b[39mT\u001b[38;5;241m<\u001b[39m\u001b[38;5;241m1999\u001b[39m):\n",
      "\u001b[1;31mNameError\u001b[0m: name 'T' is not defined"
     ]
    }
   ],
   "source": [
    "n=input(\"enter your name:\")\n",
    "t1=input(\"enter your 1st item:\")\n",
    "t2=input(\"enter your 2nd item:\")\n",
    "t3=input(\"enter your 3rd item:\")\n",
    "r1=int(input(\"enter your 1st item price:\"))\n",
    "r2=int(input(\"enter your 2nd item price:\"))\n",
    "r3=int(input(\"enter your 3rd item price:\"))\n",
    "q1=int(input(\"enter your 1st item quantity:\"))\n",
    "q2=int(input(\"enter your 2nd item quantiy:\"))\n",
    "q3=int(input(\"enter your 3rd item quantity:\"))\n",
    "if(T>2000):\n",
    "    discount=(20/100)\n",
    "elif(1500<T<1999):\n",
    "    discount=(15/100)\n",
    "elif(1000<T<1499):\n",
    "    discount=(8/100)\n",
    "T=((r1)+(r2)+(r3))\n",
    "print(\"name of things:\",t1,t2,t3)\n",
    "print(\"rate of things:\",r1,r2,r3)\n",
    "print(\"total sales amount:\",T)\n",
    "print(\"quantity of the item:\",q1,q2,q3)\n",
    "print(\"discount:\",discount)\n"
   ]
  },
  {
   "cell_type": "code",
   "execution_count": null,
   "metadata": {},
   "outputs": [],
   "source": []
  },
  {
   "cell_type": "code",
   "execution_count": null,
   "metadata": {},
   "outputs": [],
   "source": []
  },
  {
   "cell_type": "code",
   "execution_count": null,
   "metadata": {},
   "outputs": [],
   "source": []
  },
  {
   "cell_type": "code",
   "execution_count": null,
   "metadata": {},
   "outputs": [],
   "source": []
  }
 ],
 "metadata": {
  "kernelspec": {
   "display_name": "Python 3 (ipykernel)",
   "language": "python",
   "name": "python3"
  },
  "language_info": {
   "codemirror_mode": {
    "name": "ipython",
    "version": 3
   },
   "file_extension": ".py",
   "mimetype": "text/x-python",
   "name": "python",
   "nbconvert_exporter": "python",
   "pygments_lexer": "ipython3",
   "version": "3.11.3"
  }
 },
 "nbformat": 4,
 "nbformat_minor": 2
}
