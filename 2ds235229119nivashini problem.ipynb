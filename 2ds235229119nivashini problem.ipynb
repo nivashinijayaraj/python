{
 "cells": [
  {
   "cell_type": "markdown",
   "metadata": {},
   "source": [
    "Question5. Write a program to accept name, marks for three subjects and find the total marks\n",
    "secured, average and also display the class obtained.\n",
    " Class I – above 80%\n",
    " Class II – 60% to 80%\n",
    " Pass class – 40% to 59% and\n",
    " Fail otherwise\n",
    "Print a message as “Congratulations << your name>>, you secured a total of <<total marks>>,\n",
    "and Your class is <<class>>”\n",
    "Test you code with atleast 2 test cases"
   ]
  },
  {
   "cell_type": "code",
   "execution_count": 4,
   "metadata": {},
   "outputs": [
    {
     "name": "stdout",
     "output_type": "stream",
     "text": [
      "your name:nivashini\n",
      "enter your 1st subject mark:100\n",
      "enter your 2nd subject mark:100\n",
      "enter your 3rd subject mark:100\n",
      "congratulation nivashini you secured 300 and you got class1\n"
     ]
    }
   ],
   "source": [
    "name=input(\"your name:\")\n",
    "m1=int(input(\"enter your 1st subject mark:\"))\n",
    "m2=int(input(\"enter your 2nd subject mark:\"))\n",
    "m3=int(input(\"enter your 3rd subject mark:\"))\n",
    "total=m1+m2+m3\n",
    "avg=(total/3)\n",
    "if(avg>(80)):\n",
    "    print(\"congratulation\",name,\"you secured\" ,total,\"and you got class1\")\n",
    "elif((60)>avg>(80)):\n",
    "    print(\"congratualtion\",name,\"you secured\",total,\"and you got class2\")\n",
    "elif((40)>avg>(59)):\n",
    "    print(\"congratulation\",name,\"yousecured\",total,\"and you got pass class\")\n",
    "else:\n",
    "    print(\"congratulation\",name,\"you secured\",total,\"and you are fail\")\n",
    "\n",
    "\n",
    "\n",
    "    "
   ]
  },
  {
   "cell_type": "code",
   "execution_count": null,
   "metadata": {},
   "outputs": [],
   "source": []
  }
 ],
 "metadata": {
  "kernelspec": {
   "display_name": "Python 3 (ipykernel)",
   "language": "python",
   "name": "python3"
  },
  "language_info": {
   "codemirror_mode": {
    "name": "ipython",
    "version": 3
   },
   "file_extension": ".py",
   "mimetype": "text/x-python",
   "name": "python",
   "nbconvert_exporter": "python",
   "pygments_lexer": "ipython3",
   "version": "3.11.3"
  }
 },
 "nbformat": 4,
 "nbformat_minor": 2
}
