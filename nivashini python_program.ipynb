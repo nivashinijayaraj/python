{
 "cells": [
  {
   "cell_type": "markdown",
   "metadata": {},
   "source": [
    " Write a program to take the values of two integers m and n from the user.\n",
    "Calculate the sum of even number between m and n (including both m and n).\n",
    "Please note that value of m must be less than value of n. If m > n. then you must print a\n",
    "message “Value of m should be less than n” and ask for next input values.\n",
    "Print the values of m, n and sum. (Use while loop).\n",
    "The program should continue until user types ‘q’ to quit the program.\n",
    "\n",
    "Sample user interaction:\n",
    "Enter m: 1\n",
    "Enter n: 10\n",
    "Sum of even numbers: 20\n",
    "Do you want to quit (Type q)? :\n",
    "Enter m: 2\n",
    "Enter n: 10\n",
    "Sum of even numbers: 20\n",
    "Do you want to quit (Type q)? :\n",
    "Enter m: 20\n",
    "Enter n: 10\n",
    "Value of m should be less than n\n",
    "\n",
    "Do you want to quit (Type q)? : q"
   ]
  },
  {
   "cell_type": "code",
   "execution_count": null,
   "metadata": {},
   "outputs": [],
   "source": [
    "sum=0\n",
    "while(True):\n",
    "    m=int(input(\"enter 1st integer:\"))\n",
    "    n=int(input(\"enter 2nd integer:\"))\n",
    "    if(m>=n):\n",
    "        print(\"m is must be less than n\")\n",
    "    for i in range (m,n+1):\n",
    "        if(i%2==0):\n",
    "            sum+=i\n",
    "    print(sum)\n",
    "    a=input(\"do you want to quit\")\n",
    "    if(a==\"q\"):\n",
    "        break"
   ]
  },
  {
   "cell_type": "code",
   "execution_count": null,
   "metadata": {},
   "outputs": [],
   "source": []
  }
 ],
 "metadata": {
  "kernelspec": {
   "display_name": "Python 3 (ipykernel)",
   "language": "python",
   "name": "python3"
  },
  "language_info": {
   "codemirror_mode": {
    "name": "ipython",
    "version": 3
   },
   "file_extension": ".py",
   "mimetype": "text/x-python",
   "name": "python",
   "nbconvert_exporter": "python",
   "pygments_lexer": "ipython3",
   "version": "3.11.3"
  }
 },
 "nbformat": 4,
 "nbformat_minor": 2
}
