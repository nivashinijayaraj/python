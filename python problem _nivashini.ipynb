{
 "cells": [
  {
   "cell_type": "markdown",
   "id": "c64d7cf8",
   "metadata": {},
   "source": [
    "Question12. Develop an application in Python that repeatedly reads numbers until the user\n",
    "enters done. Once done is entered, print out the total, count, and average of the numbers. If\n",
    "the user enters anything other than a number, detect their mistake using try and except and\n",
    "print an error message and skip to the next number."
   ]
  },
  {
   "cell_type": "code",
   "execution_count": 1,
   "id": "a87f3537",
   "metadata": {},
   "outputs": [
    {
     "name": "stdout",
     "output_type": "stream",
     "text": [
      "Enter a number (or 'done' for finish): 23\n",
      "Enter a number (or 'done' for finish): done\n",
      "Count: 1\n",
      "Total: 23.0\n",
      "Average: 23.0\n"
     ]
    }
   ],
   "source": [
    "count = 0\n",
    "total = 0\n",
    "\n",
    "while True:\n",
    "    n = input(\"Enter a number (or 'done' for finish): \")\n",
    "\n",
    "    if n == 'done':\n",
    "        break\n",
    "\n",
    "    try:\n",
    "        num = float(n)\n",
    "        total += num\n",
    "        count += 1\n",
    "    except ValueError:\n",
    "        print(\"Invalid input. Please enter a number or 'done'.\")\n",
    "\n",
    "if count > 0:\n",
    "    average = total / count\n",
    "    print(\"Count:\", count)\n",
    "    print(\"Total:\", total)\n",
    "    print(\"Average:\", average)\n",
    "else:\n",
    "    print(\"No numbers were entered.\")\n"
   ]
  },
  {
   "cell_type": "code",
   "execution_count": null,
   "id": "0eaf3e77",
   "metadata": {},
   "outputs": [],
   "source": []
  }
 ],
 "metadata": {
  "kernelspec": {
   "display_name": "Python 3 (ipykernel)",
   "language": "python",
   "name": "python3"
  },
  "language_info": {
   "codemirror_mode": {
    "name": "ipython",
    "version": 3
   },
   "file_extension": ".py",
   "mimetype": "text/x-python",
   "name": "python",
   "nbconvert_exporter": "python",
   "pygments_lexer": "ipython3",
   "version": "3.11.3"
  }
 },
 "nbformat": 4,
 "nbformat_minor": 5
}
