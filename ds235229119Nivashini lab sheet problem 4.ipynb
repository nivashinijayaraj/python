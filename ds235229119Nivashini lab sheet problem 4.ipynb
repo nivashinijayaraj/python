{
 "cells": [
  {
   "cell_type": "markdown",
   "metadata": {},
   "source": [
    "Question4. Evaluate the expressions using Pen and Paper first and then print the value.\n",
    " X1=(11+31+23+8+7+5)/((1-(1/2)-(1/20)))\n",
    " X2=(((10*8)+8-((7//5)%(5**4)))&3)|(2<<1)"
   ]
  },
  {
   "cell_type": "code",
   "execution_count": 3,
   "metadata": {},
   "outputs": [
    {
     "name": "stdout",
     "output_type": "stream",
     "text": [
      "7\n",
      "188.88888888888889\n"
     ]
    }
   ],
   "source": [
    "X1=(11+31+23+8+7+5)/((1-(1/2)-(1/20)))\n",
    "X2=(((10*8)+8-((7//5)%(5**4)))&3)|(2<<1)\n",
    "print(X2)\n",
    "print(X1)"
   ]
  },
  {
   "cell_type": "code",
   "execution_count": null,
   "metadata": {},
   "outputs": [],
   "source": []
  }
 ],
 "metadata": {
  "kernelspec": {
   "display_name": "Python 3 (ipykernel)",
   "language": "python",
   "name": "python3"
  },
  "language_info": {
   "codemirror_mode": {
    "name": "ipython",
    "version": 3
   },
   "file_extension": ".py",
   "mimetype": "text/x-python",
   "name": "python",
   "nbconvert_exporter": "python",
   "pygments_lexer": "ipython3",
   "version": "3.11.3"
  }
 },
 "nbformat": 4,
 "nbformat_minor": 2
}
