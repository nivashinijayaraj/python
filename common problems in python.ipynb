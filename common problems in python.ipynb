{
 "cells": [
  {
   "cell_type": "markdown",
   "metadata": {},
   "source": [
    "Nivashini\n",
    "235229119\n",
    "22/11/2003\n"
   ]
  },
  {
   "cell_type": "markdown",
   "metadata": {},
   "source": [
    "1] largest of three number"
   ]
  },
  {
   "cell_type": "code",
   "execution_count": null,
   "metadata": {},
   "outputs": [],
   "source": [
    "def largest(a,b,c):\n",
    "    if a>b and a>c: \n",
    "        print(a,\"is largest\")\n",
    "    elif b>a and b>c:\n",
    "        print(b,\"is largest\")\n",
    "    else:\n",
    "        print(c,\"is largest\")\n",
    "ans= largest(1,2,3)\n"
   ]
  },
  {
   "cell_type": "markdown",
   "metadata": {},
   "source": [
    "2] given number is odd or even"
   ]
  },
  {
   "cell_type": "code",
   "execution_count": null,
   "metadata": {},
   "outputs": [],
   "source": [
    "def check(n):\n",
    "    if n%2==0:\n",
    "        print(n, \"is even\")\n",
    "    else:\n",
    "        print(n, \"is odd\")\n",
    "ans= check(3)"
   ]
  },
  {
   "cell_type": "markdown",
   "metadata": {},
   "source": [
    "3]  given number is positive or negative"
   ]
  },
  {
   "cell_type": "code",
   "execution_count": null,
   "metadata": {},
   "outputs": [],
   "source": [
    "n=int(input(\"enter any number\"))\n",
    "if n>0:\n",
    "    print(n, \"is positive\")\n",
    "elif n<0:\n",
    "    print(n,\"is negative\")\n",
    "else:\n",
    "    print(n,\"is zero\")\n",
    "    \n"
   ]
  },
  {
   "cell_type": "markdown",
   "metadata": {},
   "source": [
    "4]factorial of number"
   ]
  },
  {
   "cell_type": "code",
   "execution_count": null,
   "metadata": {},
   "outputs": [],
   "source": [
    "def factorial(n):\n",
    "    if n==0:\n",
    "        return  1         # by module import math        math.factorial(n)\n",
    "    elif n>0 :\n",
    "        return (n* factorial(n-1))\n",
    "x=6\n",
    "print(factorial(x))"
   ]
  },
  {
   "cell_type": "markdown",
   "metadata": {},
   "source": [
    "5] sum of odd and even number in series"
   ]
  },
  {
   "cell_type": "code",
   "execution_count": null,
   "metadata": {},
   "outputs": [],
   "source": [
    "n=1,2,3,4,5,6\n",
    "sumodd=0\n",
    "sumeven=0\n",
    "for i in n:\n",
    "    if i%2==0:\n",
    "        sumeven+=i\n",
    "    else:\n",
    "        sumodd+=i\n",
    "        \n",
    "        \n",
    "print(sumeven)\n",
    "print(sumodd)\n",
    "    "
   ]
  },
  {
   "cell_type": "markdown",
   "metadata": {},
   "source": [
    "6] print all possible combination of three  single digit number"
   ]
  },
  {
   "cell_type": "code",
   "execution_count": null,
   "metadata": {},
   "outputs": [],
   "source": [
    "for i in range(1, 10):\n",
    "    for j in range(0, 10):\n",
    "        for k in range(0, 10):\n",
    "            print(i*100 + j*10 + k)\n"
   ]
  },
  {
   "cell_type": "markdown",
   "metadata": {},
   "source": [
    "7] reverse the given number"
   ]
  },
  {
   "cell_type": "code",
   "execution_count": null,
   "metadata": {},
   "outputs": [],
   "source": [
    "def reverse(n):\n",
    "    reversednum = 0\n",
    "    while n > 0:\n",
    "        remainder = n % 10\n",
    "        reversednum = (reversednum * 10) + remainder\n",
    "        n = n // 10\n",
    "    return reversednum\n",
    "\n",
    "number = 12345\n",
    "print(reverse(number))\n"
   ]
  },
  {
   "cell_type": "code",
   "execution_count": 3,
   "metadata": {},
   "outputs": [
    {
     "name": "stdout",
     "output_type": "stream",
     "text": [
      "12345\n",
      "54321\n"
     ]
    }
   ],
   "source": [
    "n = int(input())\n",
    "num = str(n)\n",
    "result = int(num[::-1])     # [-1 ]    return lastnumber only 5\n",
    "print(result)               #[:-1]     return beforenumber excerptlastnumber   1234\n",
    "                            #[::-1]     return string in reverse order"
   ]
  },
  {
   "cell_type": "markdown",
   "metadata": {},
   "source": [
    "8] union and intersection of two list"
   ]
  },
  {
   "cell_type": "code",
   "execution_count": 16,
   "metadata": {},
   "outputs": [
    {
     "name": "stdout",
     "output_type": "stream",
     "text": [
      "Intersection of 2 list [3, 4, 5]\n",
      "union of 2 list\n",
      "Maintaining repetition  [1, 2, 3, 4, 5, 3, 4, 5, 6, 7]\n",
      "Not maintaining repetition  [1, 2, 3, 4, 5, 6, 7]\n"
     ]
    }
   ],
   "source": [
    "n1 = [1, 2, 3, 4, 5]\n",
    "n2 = [3, 4, 5, 6, 7]\n",
    "\n",
    "intersection = list(set(n1) & set(n2))\n",
    "\n",
    "print(\"Intersection of 2 list\",intersection )\n",
    "n1.extend(n2)\n",
    "print(\"union of 2 list\")\n",
    "print(\"Maintaining repetition \",str(n1))\n",
    " \n",
    "# Not maintaining repetition and order\n",
    "x = list(set(n1))\n",
    "print(\"Not maintaining repetition \",str(x))\n",
    "\n"
   ]
  },
  {
   "cell_type": "markdown",
   "metadata": {},
   "source": [
    "9] Arithmetic Calculator"
   ]
  },
  {
   "cell_type": "code",
   "execution_count": 5,
   "metadata": {},
   "outputs": [
    {
     "name": "stdout",
     "output_type": "stream",
     "text": [
      "Addition: 8\n",
      "Subtraction: 6\n",
      "Multiplication: 42\n",
      "Division: 5.0\n"
     ]
    }
   ],
   "source": [
    " \n",
    "def add(x, y):\n",
    "    return x + y\n",
    "\n",
    "def subtract(x, y):\n",
    "    return x - y\n",
    "\n",
    "def multiply(x, y):\n",
    "    return x * y\n",
    "\n",
    "def divide(x, y):\n",
    "    return x / y\n",
    "\n",
    "# Example usage\n",
    "print(\"Addition:\", add(5, 3))\n",
    "print(\"Subtraction:\", subtract(10, 4))\n",
    "print(\"Multiplication:\", multiply(6, 7))\n",
    "print(\"Division:\", divide(15, 3))"
   ]
  },
  {
   "cell_type": "markdown",
   "metadata": {},
   "source": [
    "23]  Find common letters in two strings"
   ]
  },
  {
   "cell_type": "code",
   "execution_count": 7,
   "metadata": {},
   "outputs": [
    {
     "name": "stdout",
     "output_type": "stream",
     "text": [
      "Common letters: ['o', 'l']\n"
     ]
    }
   ],
   "source": [
    "\n",
    "def common_letters(string1, string2):\n",
    "    set1 = set(string1)\n",
    "    set2 = set(string2)\n",
    "    return list(set1.intersection(set2))\n",
    "\n",
    "# Example usage\n",
    "text1 = \"hello\"\n",
    "text2 = \"world\"\n",
    "common = common_letters(text1, text2)\n",
    "print(\"Common letters:\", common)"
   ]
  },
  {
   "cell_type": "markdown",
   "metadata": {},
   "source": [
    "16] Remove Duplicate Elements"
   ]
  },
  {
   "cell_type": "code",
   "execution_count": 8,
   "metadata": {},
   "outputs": [
    {
     "name": "stdout",
     "output_type": "stream",
     "text": [
      "Without duplicates: [1, 2, 3, 4, 5]\n"
     ]
    }
   ],
   "source": [
    "\n",
    "def remove_duplicates(nums):\n",
    "    return list(set(nums))\n",
    "\n",
    "numbers = [1, 2, 2, 3, 4, 4, 5]\n",
    "print(\"Without duplicates:\", remove_duplicates(numbers))\n",
    "\n"
   ]
  },
  {
   "cell_type": "markdown",
   "metadata": {},
   "source": [
    "17] Swap Values in a List"
   ]
  },
  {
   "cell_type": "code",
   "execution_count": 9,
   "metadata": {},
   "outputs": [
    {
     "name": "stdout",
     "output_type": "stream",
     "text": [
      "Swapped list: [10, 30, 20, 40]\n"
     ]
    }
   ],
   "source": [
    "\n",
    "def swap_list_values(nums, pos1, pos2):\n",
    "    nums[pos1], nums[pos2] = nums[pos2], nums[pos1]\n",
    "    return nums\n",
    "\n",
    "# Example usage\n",
    "list_values = [10, 20, 30, 40]\n",
    "print(\"Swapped list:\", swap_list_values(list_values, 1, 2))"
   ]
  },
  {
   "cell_type": "markdown",
   "metadata": {},
   "source": [
    "10]  Average of numbers in a list"
   ]
  },
  {
   "cell_type": "code",
   "execution_count": 11,
   "metadata": {},
   "outputs": [
    {
     "name": "stdout",
     "output_type": "stream",
     "text": [
      "Average: 9.2\n"
     ]
    }
   ],
   "source": [
    "\n",
    "def average(nums):\n",
    "    return sum(nums) / len(nums) if len(nums) > 0 else 0\n",
    "\n",
    "# Example usage\n",
    "numbers = [4, 7, 9, 11, 15]\n",
    "print(\"Average:\", average(numbers))\n"
   ]
  },
  {
   "cell_type": "code",
   "execution_count": 12,
   "metadata": {},
   "outputs": [
    {
     "ename": "SyntaxError",
     "evalue": "unmatched ']' (3899995012.py, line 1)",
     "output_type": "error",
     "traceback": [
      "\u001b[1;36m  Cell \u001b[1;32mIn[12], line 1\u001b[1;36m\u001b[0m\n\u001b[1;33m    18]  Count number of alphabets, digits, and special characters\u001b[0m\n\u001b[1;37m      ^\u001b[0m\n\u001b[1;31mSyntaxError\u001b[0m\u001b[1;31m:\u001b[0m unmatched ']'\n"
     ]
    }
   ],
   "source": [
    "18]  Count number of alphabets, digits, and special characters"
   ]
  },
  {
   "cell_type": "code",
   "execution_count": 14,
   "metadata": {},
   "outputs": [
    {
     "name": "stdout",
     "output_type": "stream",
     "text": [
      "Alphabets: 14\n",
      "Digits: 3\n",
      "Special Characters: 6\n"
     ]
    }
   ],
   "source": [
    "\n",
    "def count_chars(s):\n",
    "    alphabet = digit = special = 0\n",
    "    for char in s:\n",
    "        if char.isalpha():\n",
    "            alphabet += 1\n",
    "        elif char.isdigit():\n",
    "            digit += 1\n",
    "        else:\n",
    "            special += 1\n",
    "    return alphabet, digit, special\n",
    "\n",
    "text = \"Hello! 123 How are you?\"\n",
    "alpha, digit, special = count_chars(text)\n",
    "print(\"Alphabets:\", alpha)\n",
    "print(\"Digits:\", digit)\n",
    "print(\"Special Characters:\", special)"
   ]
  },
  {
   "cell_type": "markdown",
   "metadata": {},
   "source": [
    "11] Decimal to Octal conversion"
   ]
  },
  {
   "cell_type": "code",
   "execution_count": 17,
   "metadata": {},
   "outputs": [
    {
     "name": "stdout",
     "output_type": "stream",
     "text": [
      "Octal: 116\n"
     ]
    }
   ],
   "source": [
    "\n",
    "def decimal_to_octal(decimal):\n",
    "    return oct(decimal).replace('0o', '')\n",
    "\n",
    "# Example usage\n",
    "number = 78\n",
    "print(\"Octal:\", decimal_to_octal(number))\n"
   ]
  },
  {
   "cell_type": "markdown",
   "metadata": {},
   "source": [
    "12] Decimal to Hexadecimal conversion"
   ]
  },
  {
   "cell_type": "code",
   "execution_count": 18,
   "metadata": {},
   "outputs": [
    {
     "name": "stdout",
     "output_type": "stream",
     "text": [
      "Hexadecimal: 4d2\n"
     ]
    }
   ],
   "source": [
    "\n",
    "def decimal_to_hexadecimal(decimal):\n",
    "    return hex(decimal).replace('0x', '')\n",
    "\n",
    "# Example usage\n",
    "number = 1234\n",
    "print(\"Hexadecimal:\", decimal_to_hexadecimal(number))\n"
   ]
  },
  {
   "cell_type": "markdown",
   "metadata": {},
   "source": [
    "19] Palindrome check"
   ]
  },
  {
   "cell_type": "code",
   "execution_count": 19,
   "metadata": {},
   "outputs": [
    {
     "name": "stdout",
     "output_type": "stream",
     "text": [
      "level is a palindrome: True\n"
     ]
    }
   ],
   "source": [
    "\n",
    "def is_palindrome(s):\n",
    "    s = s.lower().replace(\" \", \"\")\n",
    "    return s == s[::-1]\n",
    "\n",
    "# Example usage\n",
    "word = \"level\"\n",
    "print(f\"{word} is a palindrome:\", is_palindrome(word))"
   ]
  },
  {
   "cell_type": "markdown",
   "metadata": {},
   "source": [
    "20] Count number of vowels and consonants"
   ]
  },
  {
   "cell_type": "code",
   "execution_count": 20,
   "metadata": {},
   "outputs": [
    {
     "name": "stdout",
     "output_type": "stream",
     "text": [
      "Vowels: 3\n",
      "Consonants: 7\n"
     ]
    }
   ],
   "source": [
    "\n",
    "def count_vowels_consonants(s):\n",
    "    vowels = sum(1 for char in s if char.lower() in 'aeiou')\n",
    "    consonants = sum(1 for char in s if char.isalpha() and char.lower() not in 'aeiou')\n",
    "    return vowels, consonants\n",
    "\n",
    "# Example usage\n",
    "text = \"Hello World\"\n",
    "vowels, consonants = count_vowels_consonants(text)\n",
    "print(\"Vowels:\", vowels)\n",
    "print(\"Consonants:\", consonants)"
   ]
  },
  {
   "cell_type": "markdown",
   "metadata": {},
   "source": [
    " 18]  Count number of alphabets, digits, and special characters"
   ]
  },
  {
   "cell_type": "code",
   "execution_count": 21,
   "metadata": {},
   "outputs": [
    {
     "name": "stdout",
     "output_type": "stream",
     "text": [
      "Alphabets: 14\n",
      "Digits: 3\n",
      "Special Characters: 6\n"
     ]
    }
   ],
   "source": [
    "\n",
    "def count_chars(s):\n",
    "    alphabet = digit = special = 0\n",
    "    for char in s:\n",
    "        if char.isalpha():\n",
    "            alphabet += 1\n",
    "        elif char.isdigit():\n",
    "            digit += 1\n",
    "        else:\n",
    "            special += 1\n",
    "    return alphabet, digit, special\n",
    "\n",
    "# Example usage\n",
    "text = \"Hello! 123 How are you?\"\n",
    "alpha, digit, special = count_chars(text)\n",
    "print(\"Alphabets:\", alpha)\n",
    "print(\"Digits:\", digit)\n",
    "print(\"Special Characters:\", special)\n",
    "\n",
    "\n",
    "\n"
   ]
  },
  {
   "cell_type": "markdown",
   "metadata": {},
   "source": [
    " 21]  Exchange of first and last characters"
   ]
  },
  {
   "cell_type": "code",
   "execution_count": 22,
   "metadata": {},
   "outputs": [
    {
     "name": "stdout",
     "output_type": "stream",
     "text": [
      "Exchanged: nythoP\n"
     ]
    }
   ],
   "source": [
    "def exchange_first_last(s):\n",
    "    if len(s) > 1:\n",
    "        return s[-1] + s[1:-1] + s[0]\n",
    "    return s\n",
    "\n",
    "# Example usage\n",
    "word = \"Python\"\n",
    "print(\"Exchanged:\", exchange_first_last(word))"
   ]
  },
  {
   "cell_type": "markdown",
   "metadata": {},
   "source": [
    "23]  Find common letters in two strings"
   ]
  },
  {
   "cell_type": "code",
   "execution_count": 23,
   "metadata": {},
   "outputs": [
    {
     "name": "stdout",
     "output_type": "stream",
     "text": [
      "Common letters: ['o', 'l']\n"
     ]
    }
   ],
   "source": [
    "\n",
    "def common_letters(string1, string2):\n",
    "    set1 = set(string1)\n",
    "    set2 = set(string2)\n",
    "    return list(set1.intersection(set2))\n",
    "\n",
    "\n",
    "text1 = \"hello\"\n",
    "text2 = \"world\"\n",
    "common = common_letters(text1, text2)\n",
    "print(\"Common letters:\", common)"
   ]
  },
  {
   "cell_type": "markdown",
   "metadata": {},
   "source": [
    "24]   Map two lists into dictionary"
   ]
  },
  {
   "cell_type": "code",
   "execution_count": 24,
   "metadata": {},
   "outputs": [
    {
     "name": "stdout",
     "output_type": "stream",
     "text": [
      "Mapped dictionary: {'a': 1, 'b': 2, 'c': 3}\n"
     ]
    }
   ],
   "source": [
    "\n",
    "def map_lists_to_dict(keys, values):\n",
    "    return dict(zip(keys, values))\n",
    "\n",
    "keys_list = ['a', 'b', 'c']\n",
    "values_list = [1, 2, 3]\n",
    "result_dict = map_lists_to_dict(keys_list, values_list)\n",
    "print(\"Mapped dictionary:\", result_dict)"
   ]
  },
  {
   "cell_type": "markdown",
   "metadata": {},
   "source": [
    "22]   Search string"
   ]
  },
  {
   "cell_type": "code",
   "execution_count": 25,
   "metadata": {},
   "outputs": [
    {
     "name": "stdout",
     "output_type": "stream",
     "text": [
      "Substring 'sample' found at index: 10\n"
     ]
    }
   ],
   "source": [
    "\n",
    "def search_string(main_string, sub_string):\n",
    "    return main_string.find(sub_string)\n",
    "text = \"This is a sample text.\"\n",
    "search_term = \"sample\"\n",
    "result = search_string(text, search_term)\n",
    "print(f\"Substring '{search_term}' found at index:\", result)\n"
   ]
  },
  {
   "cell_type": "markdown",
   "metadata": {},
   "source": [
    "25]  Add key-value pair in dictionary"
   ]
  },
  {
   "cell_type": "code",
   "execution_count": null,
   "metadata": {},
   "outputs": [],
   "source": [
    "\n",
    "def add_to_dict(dictionary, key, value):\n",
    "    dictionary[key] = value\n",
    "    return dictionary\n",
    "\n",
    "# Example usage\n",
    "sample_dict = {'a': 1, 'b': 2}\n",
    "new_key = 'c'\n",
    "new_value = 3\n",
    "updated_dict = add_to_dict(sample_dict, new_key, new_value)\n",
    "print(\"Updated dictionary:\", updated_dict)\n"
   ]
  },
  {
   "cell_type": "markdown",
   "metadata": {},
   "source": [
    "28) Fibonacci using recursion"
   ]
  },
  {
   "cell_type": "code",
   "execution_count": 27,
   "metadata": {},
   "outputs": [
    {
     "name": "stdout",
     "output_type": "stream",
     "text": [
      "Fibonacci series upto 10 terms: [0, 1, 1, 2, 3, 5, 8, 13, 21, 34]\n"
     ]
    }
   ],
   "source": [
    "\n",
    "def fibonacci(n):\n",
    "    if n <= 1:\n",
    "        return n\n",
    "    else:\n",
    "        return fibonacci(n - 1) + fibonacci(n - 2)\n",
    "\n",
    "# Example usage\n",
    "terms = 10\n",
    "fib_series = [fibonacci(i) for i in range(terms)]\n",
    "print(f\"Fibonacci series upto {terms} terms:\", fib_series)"
   ]
  },
  {
   "cell_type": "markdown",
   "metadata": {},
   "source": [
    "29]  Exception handling"
   ]
  },
  {
   "cell_type": "code",
   "execution_count": 28,
   "metadata": {},
   "outputs": [
    {
     "name": "stdout",
     "output_type": "stream",
     "text": [
      "Division by zero error occurred\n",
      "Execution completed\n"
     ]
    }
   ],
   "source": [
    "\n",
    "try:\n",
    "    # Your code that might raise an exception\n",
    "    result = 10 / 0\n",
    "except ZeroDivisionError:\n",
    "    print(\"Division by zero error occurred\")\n",
    "except Exception as e:\n",
    "    print(\"An error occurred:\", e)\n",
    "finally:\n",
    "    print(\"Execution completed\")"
   ]
  },
  {
   "cell_type": "code",
   "execution_count": 29,
   "metadata": {},
   "outputs": [
    {
     "ename": "SyntaxError",
     "evalue": "unmatched ']' (4077655377.py, line 1)",
     "output_type": "error",
     "traceback": [
      "\u001b[1;36m  Cell \u001b[1;32mIn[29], line 1\u001b[1;36m\u001b[0m\n\u001b[1;33m    32]  Display file content in upper case with line number\u001b[0m\n\u001b[1;37m      ^\u001b[0m\n\u001b[1;31mSyntaxError\u001b[0m\u001b[1;31m:\u001b[0m unmatched ']'\n"
     ]
    }
   ],
   "source": [
    "32]  Display file content in upper case with line number"
   ]
  },
  {
   "cell_type": "code",
   "execution_count": 30,
   "metadata": {},
   "outputs": [
    {
     "name": "stdout",
     "output_type": "stream",
     "text": [
      "File 'example.txt' not found\n"
     ]
    }
   ],
   "source": [
    "\n",
    "file_path = \"example.txt\"  # Replace with your file path\n",
    "try:\n",
    "    with open(file_path, 'r') as file:\n",
    "        lines = file.readlines()\n",
    "        for i, line in enumerate(lines, start=1):\n",
    "            print(f\"Line {i}: {line.upper()}\")\n",
    "except FileNotFoundError:\n",
    "    print(f\"File '{file_path}' not found\")"
   ]
  },
  {
   "cell_type": "markdown",
   "metadata": {},
   "source": [
    "30 Handling multiple exceptions"
   ]
  },
  {
   "cell_type": "code",
   "execution_count": 31,
   "metadata": {},
   "outputs": [
    {
     "name": "stdout",
     "output_type": "stream",
     "text": [
      "Index out of range\n",
      "Execution completed\n"
     ]
    }
   ],
   "source": [
    "\n",
    "try:\n",
    "    a = [1, 2, 3]\n",
    "    print(a[4])  # Index error\n",
    "    result = 10 / 0  # Zero division error\n",
    "except IndexError:\n",
    "    print(\"Index out of range\")\n",
    "except ZeroDivisionError:\n",
    "    print(\"Division by zero error\")\n",
    "except (TypeError, NameError):\n",
    "    print(\"Type or Name error occurred\")\n",
    "finally:\n",
    "    print(\"Execution completed\")"
   ]
  },
  {
   "cell_type": "code",
   "execution_count": 32,
   "metadata": {},
   "outputs": [
    {
     "name": "stdout",
     "output_type": "stream",
     "text": [
      "Caught the custom exception: Custom exception raised\n"
     ]
    }
   ],
   "source": [
    "# User-defined exception\n",
    "class MyCustomError(Exception):\n",
    "    def _init_(self, message=\"This is a custom exception\"):\n",
    "        self.message = message\n",
    "        super()._init_(self.message)\n",
    "\n",
    "# Example usage\n",
    "try:\n",
    "    raise MyCustomError(\"Custom exception raised\")\n",
    "except MyCustomError as e:\n",
    "    print(\"Caught the custom exception:\", e)\n"
   ]
  },
  {
   "cell_type": "markdown",
   "metadata": {},
   "source": [
    "33]  Count number of words, lines, and characters in a file"
   ]
  },
  {
   "cell_type": "code",
   "execution_count": 33,
   "metadata": {},
   "outputs": [
    {
     "name": "stdout",
     "output_type": "stream",
     "text": [
      "File 'example.txt' not found\n"
     ]
    }
   ],
   "source": [
    "\n",
    "file_path = \"example.txt\"  \n",
    "try:\n",
    "    with open(file_path, 'r') as file:\n",
    "        content = file.read()\n",
    "        word_count = len(content.split())\n",
    "        line_count = content.count('\\n') + 1\n",
    "        char_count = len(content)\n",
    "        print(f\"Words: {word_count}, Lines: {line_count}, Characters: {char_count}\")\n",
    "except FileNotFoundError:\n",
    "    print(f\"File '{file_path}' not found\")"
   ]
  },
  {
   "cell_type": "markdown",
   "metadata": {},
   "source": [
    "34] Copy content of one file to another file"
   ]
  },
  {
   "cell_type": "code",
   "execution_count": 34,
   "metadata": {},
   "outputs": [
    {
     "name": "stdout",
     "output_type": "stream",
     "text": [
      "File not found\n"
     ]
    }
   ],
   "source": [
    "\n",
    "source_file = \"source.txt\"  # Replace with your source file path\n",
    "destination_file = \"destination.txt\"  # Replace with your destination file path\n",
    "try:\n",
    "    with open(source_file, 'r') as source, open(destination_file, 'w') as destination:\n",
    "        content = source.read()\n",
    "        destination.write(content)\n",
    "    print(f\"Content from '{source_file}' copied to '{destination_file}'\")\n",
    "except FileNotFoundError:\n",
    "    print(\"File not found\")\n",
    "import tkinter as tk\n",
    "\n",
    "def validate_login():\n",
    "    username = entry_username.get()\n",
    "    password = entry_password.get()\n",
    "\n",
    "    # Your validation logic here\n",
    "    if username == \"user\" and password == \"password\":\n",
    "        label_result.config(text=\"Login successful\")\n",
    "    else:\n",
    "        label_result.config(text=\"Login failed\")\n"
   ]
  },
  {
   "cell_type": "markdown",
   "metadata": {},
   "source": [
    "35] File merge"
   ]
  },
  {
   "cell_type": "code",
   "execution_count": 37,
   "metadata": {},
   "outputs": [
    {
     "name": "stdout",
     "output_type": "stream",
     "text": [
      "One or more files not found\n"
     ]
    }
   ],
   "source": [
    "\n",
    "file1_path = \"file1.txt\"  # Replace with your file path\n",
    "file2_path = \"file2.txt\"  # Replace with your file path\n",
    "output_file_path = \"merged_file.txt\"  # Replace with your desired output file path\n",
    "\n",
    "try:\n",
    "    with open(file1_path, 'r') as file1, open(file2_path, 'r') as file2, open(output_file_path, 'w') as output_file:\n",
    "        data_file1 = file1.read()\n",
    "        data_file2 = file2.read()\n",
    "        output_file.write(data_file1 + \"\\n\" + data_file2)\n",
    "    print(f\"Files '{file1_path}' and '{file2_path}' merged into '{output_file_path}'\")\n",
    "except FileNotFoundError:\n",
    "    print(\"One or more files not found\")\n",
    "\n"
   ]
  },
  {
   "cell_type": "markdown",
   "metadata": {},
   "source": [
    " 40]TKinter GUI for login form"
   ]
  },
  {
   "cell_type": "code",
   "execution_count": null,
   "metadata": {},
   "outputs": [],
   "source": [
    "\n",
    "\n",
    "root = tk.Tk()\n",
    "root.title(\"Login Form\")\n",
    "\n",
    "label_username = tk.Label(root, text=\"Username:\")\n",
    "label_username.pack()\n",
    "entry_username = tk.Entry(root)\n",
    "entry_username.pack()\n",
    "\n",
    "label_password = tk.Label(root, text=\"Password:\")\n",
    "label_password.pack()\n",
    "entry_password = tk.Entry(root, show=\"*\")\n",
    "entry_password.pack()\n",
    "\n",
    "button_login = tk.Button(root, text=\"Login\", command=validate_login)\n",
    "button_login.pack()\n",
    "\n",
    "label_result = tk.Label(root, text=\"\")\n",
    "label_result.pack()\n",
    "\n",
    "root.mainloop()\n",
    "\n",
    "\n",
    "# Table creation and manipulation using sqlite3 (Invoice)\n",
    "# Connect to a database (or create it if it doesn't exist)\n",
    "conn = sqlite3.connect('invoice.db')\n",
    "\n",
    "# Create a cursor object to interact with the database\n",
    "cursor = conn.cursor()\n",
    "\n",
    "# Create a table\n",
    "cursor.execute('''CREATE TABLE Invoices (\n",
    "                    ID INTEGER PRIMARY KEY,\n",
    "                    CustomerName TEXT,\n",
    "                    Amount REAL\n",
    "                    )''')\n",
    "\n",
    "# Insert data into the table\n",
    "cursor.execute(\"INSERT INTO Invoices (CustomerName, Amount) VALUES (?, ?)\", ('John Doe', 500.00))\n",
    "\n",
    "# Fetch data from the table\n",
    "cursor.execute(\"SELECT * FROM Invoices\")\n",
    "data = cursor.fetchall()\n",
    "for row in data:\n",
    "    print(row)\n",
    "\n",
    "# Commit changes and close the connection\n",
    "conn.commit()\n",
    "conn.close()"
   ]
  },
  {
   "cell_type": "code",
   "execution_count": null,
   "metadata": {},
   "outputs": [],
   "source": []
  }
 ],
 "metadata": {
  "kernelspec": {
   "display_name": "Python 3 (ipykernel)",
   "language": "python",
   "name": "python3"
  },
  "language_info": {
   "codemirror_mode": {
    "name": "ipython",
    "version": 3
   },
   "file_extension": ".py",
   "mimetype": "text/x-python",
   "name": "python",
   "nbconvert_exporter": "python",
   "pygments_lexer": "ipython3",
   "version": "3.11.3"
  }
 },
 "nbformat": 4,
 "nbformat_minor": 2
}
