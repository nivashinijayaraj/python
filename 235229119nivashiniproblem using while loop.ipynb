{
 "cells": [
  {
   "cell_type": "code",
   "execution_count": null,
   "metadata": {},
   "outputs": [],
   "source": [
    "Question8. Write a program that accepts numbers continuously as long as the number is\n",
    "positive and prints the sum of the numbers read (Use while loop). A sample user interaction\n",
    "will be:\n",
    "\n",
    "Enter a number: 2\n",
    "Enter a number: 1\n",
    "Enter a number: 4\n",
    "Enter a number: 6\n",
    "Enter a number: -10\n",
    "Sum = 13"
   ]
  },
  {
   "cell_type": "code",
   "execution_count": 1,
   "metadata": {},
   "outputs": [
    {
     "name": "stdout",
     "output_type": "stream",
     "text": [
      "enter a number:3\n",
      "enter a number:5\n",
      "enter a number:-9\n",
      "sum: 8\n"
     ]
    }
   ],
   "source": [
    "sum=0\n",
    "while(True):\n",
    "    n=int(input(\"enter a number:\"))\n",
    "    if(n>0):\n",
    "        sum+=n\n",
    "    else:\n",
    "        break\n",
    "print(\"sum:\",sum)\n"
   ]
  },
  {
   "cell_type": "code",
   "execution_count": null,
   "metadata": {},
   "outputs": [],
   "source": []
  }
 ],
 "metadata": {
  "kernelspec": {
   "display_name": "Python 3 (ipykernel)",
   "language": "python",
   "name": "python3"
  },
  "language_info": {
   "codemirror_mode": {
    "name": "ipython",
    "version": 3
   },
   "file_extension": ".py",
   "mimetype": "text/x-python",
   "name": "python",
   "nbconvert_exporter": "python",
   "pygments_lexer": "ipython3",
   "version": "3.11.3"
  }
 },
 "nbformat": 4,
 "nbformat_minor": 2
}
