{
 "cells": [
  {
   "cell_type": "markdown",
   "metadata": {},
   "source": [
    "Question2. Write a program, which accepts annual basic salary of an employee and calculates\n",
    "and displays the Income tax as per the following rules.\n",
    " If Basic is less than Rs. 1,50,000/-, then Tax = 0.\n",
    " If Basic is from Rs.1,50,000/- to Rs. 3,00,000/-, then tax is 20%.\n",
    " If Basic is greater than Rs.3,00,000/-, then tax is 30%.\n",
    " Print name, annual income and tax.\n",
    " Write test cases to validate all conditions"
   ]
  },
  {
   "cell_type": "code",
   "execution_count": 2,
   "metadata": {},
   "outputs": [
    {
     "name": "stdout",
     "output_type": "stream",
     "text": [
      "name: Nivashini\n",
      "income: 600000\n",
      "tax: 180000.0\n"
     ]
    }
   ],
   "source": [
    "name=\"Nivashini\"\n",
    "a=600000\n",
    "if(a<150000):\n",
    "    tax=0\n",
    "elif(150000<a<300000):\n",
    "        tax=(a*(20/100))\n",
    "elif(a>300000):\n",
    "            tax=(a*(30/100))\n",
    "print(\"name:\",name)\n",
    "print(\"income:\",a)\n",
    "print(\"tax:\",tax)\n",
    "            "
   ]
  },
  {
   "cell_type": "code",
   "execution_count": null,
   "metadata": {},
   "outputs": [],
   "source": []
  }
 ],
 "metadata": {
  "kernelspec": {
   "display_name": "Python 3 (ipykernel)",
   "language": "python",
   "name": "python3"
  },
  "language_info": {
   "codemirror_mode": {
    "name": "ipython",
    "version": 3
   },
   "file_extension": ".py",
   "mimetype": "text/x-python",
   "name": "python",
   "nbconvert_exporter": "python",
   "pygments_lexer": "ipython3",
   "version": "3.11.3"
  }
 },
 "nbformat": 4,
 "nbformat_minor": 2
}
